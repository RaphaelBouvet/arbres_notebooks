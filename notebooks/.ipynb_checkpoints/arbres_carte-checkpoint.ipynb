{
 "cells": [
  {
   "cell_type": "markdown",
   "id": "00fadb75-d980-4ea7-9fc7-9dc37f904e70",
   "metadata": {},
   "source": [
    "# Visualisation des arbres à Grenoble"
   ]
  },
  {
   "cell_type": "code",
   "execution_count": 1,
   "id": "6c261eea-9957-4c2f-ae0d-196a84ef5bd9",
   "metadata": {},
   "outputs": [],
   "source": [
    "import folium\n",
    "import pandas as pd\n",
    "import numpy as np\n",
    "import json\n",
    "from  geopy import distance\n",
    "import math"
   ]
  },
  {
   "cell_type": "code",
   "execution_count": 2,
   "id": "69a3dd08-fe8d-4c52-b677-275edaedc631",
   "metadata": {},
   "outputs": [],
   "source": [
    "file_path=\"../data/trees.csv\"\n",
    "df_tree = pd.read_csv(file_path, sep=\",\", header = 0, index_col=False,names=None)"
   ]
  },
  {
   "cell_type": "markdown",
   "id": "6503aa11-171e-4f8b-9fc6-822c5f329945",
   "metadata": {},
   "source": [
    "### Extraction données GPS en Json"
   ]
  },
  {
   "cell_type": "code",
   "execution_count": 3,
   "id": "887ceaba-af05-4885-8cad-4f682b97eb6c",
   "metadata": {},
   "outputs": [],
   "source": [
    "df_tree_json = pd.json_normalize(df_tree.GeoJSON.apply(json.loads))\n",
    "df_tree  = pd.concat([df_tree,df_tree_json],axis=1)\n",
    "df_tree[['longitude','latitude']] = pd.DataFrame(df_tree['coordinates'].to_list(),columns=['longitude','latitude'])"
   ]
  },
  {
   "cell_type": "markdown",
   "id": "2d13d79c-5f3c-4eb0-b25d-cce1be2699a0",
   "metadata": {},
   "source": [
    "### Creation de la carte"
   ]
  },
  {
   "cell_type": "code",
   "execution_count": 5,
   "id": "1ec7accd-7f52-4264-a429-756702a2abe6",
   "metadata": {},
   "outputs": [],
   "source": [
    "location_gre=[45.166672,5.71667]\n",
    "grenoble = folium.Map(location = location_gre,zoom_start=13)"
   ]
  },
  {
   "cell_type": "code",
   "execution_count": 58,
   "id": "98a61702-dee7-4934-9e44-d466caeba899",
   "metadata": {},
   "outputs": [
    {
     "name": "stdout",
     "output_type": "stream",
     "text": [
      "CPU times: user 7.59 s, sys: 88.6 ms, total: 7.68 s\n",
      "Wall time: 7.55 s\n"
     ]
    }
   ],
   "source": [
    "%%time\n",
    "for i in range(len(df_tree)):\n",
    "    loc = [df_tree.iloc[i]['latitude'],df_tree.iloc[i]['longitude']]\n",
    "    folium.Circle(loc,radius=1,fill_opacity=0.8).add_to(grenoble)"
   ]
  },
  {
   "cell_type": "code",
   "execution_count": 7,
   "id": "8f86df39-4b01-4c0a-bfe1-93a00ea28d5e",
   "metadata": {},
   "outputs": [],
   "source": [
    "grenoble.save(\"grenoble.html\")"
   ]
  },
  {
   "cell_type": "markdown",
   "id": "ef849462-6a9d-4320-b72f-c5e579263a64",
   "metadata": {},
   "source": [
    "### Calcul de distances"
   ]
  },
  {
   "cell_type": "markdown",
   "id": "817e3db3-39a7-4e4b-b553-7a5de79f6bdd",
   "metadata": {
    "tags": []
   },
   "source": [
    "#### Module geopy & Haversine"
   ]
  },
  {
   "cell_type": "code",
   "execution_count": 8,
   "id": "7c4f7fd7-d533-414d-a4d6-031f5c8edd2f",
   "metadata": {},
   "outputs": [],
   "source": [
    "def haversine(lat_a,long_a,lat_b,long_b):\n",
    "    lat_a, lat_b, long_a, long_b = map(np.deg2rad, [lat_a, lat_b, long_a, long_b])\n",
    "    \n",
    "    a = (np.sin((long_b-long_a)/2))**2\n",
    "    a *= np.cos(lat_a) * np.cos(lat_b)\n",
    "    a += (np.sin((lat_b-lat_a)/2))**2\n",
    "    c = 2 * np.arcsin(np.sqrt(a))\n",
    "    d = 6371 * c\n",
    "    return d\n",
    "\n",
    "def dist_geo(lat_a,long_a,lat_b,long_b):\n",
    "    t_a =(lat_a,long_a)\n",
    "    t_b =(lat_b,long_b)\n",
    "    dist = distance.distance(t_a,t_b)\n",
    "    return dist\n",
    "    "
   ]
  },
  {
   "cell_type": "markdown",
   "id": "adce743b-dcb4-497d-aadc-47172eb19d41",
   "metadata": {},
   "source": [
    "#### Test calcul des distances"
   ]
  },
  {
   "cell_type": "code",
   "execution_count": 9,
   "id": "d743b680-1d83-4e2d-857e-3d2ed825e110",
   "metadata": {},
   "outputs": [
    {
     "name": "stdout",
     "output_type": "stream",
     "text": [
      "0.05062970404697751\n",
      "0.05071257785524804 km\n"
     ]
    }
   ],
   "source": [
    "dist = haversine(df_tree['latitude'][0],df_tree['longitude'][0],df_tree['latitude'][1],df_tree['longitude'][1])\n",
    "print(dist)\n",
    "dist = dist_geo(df_tree['latitude'][0],df_tree['longitude'][0],df_tree['latitude'][1],df_tree['longitude'][1])\n",
    "print(dist)"
   ]
  },
  {
   "cell_type": "markdown",
   "id": "87718e2a-ab4a-4053-99e7-1ad55dcd13a6",
   "metadata": {},
   "source": [
    "### Les arbres les plus proches de chez moi"
   ]
  },
  {
   "cell_type": "markdown",
   "id": "b7eb2d21-f8e8-4913-9aad-fbb31e4a71ad",
   "metadata": {},
   "source": [
    "Explication du code"
   ]
  },
  {
   "cell_type": "markdown",
   "id": "256b1d55-19ca-4ff4-aaad-537b8007f105",
   "metadata": {},
   "source": [
    "On va tester la fonction apply ainsi que l'utilisation d'une fonction vectorielle pour verifier la vitesse de calcul avec ses deux opérations.\n",
    "Sources :\n",
    ". Sofia Heisler No More Sad Pandas Optimizing Pandas Code for Speed and Efficiency PyCon 2017\n",
    ". 1000x faster data manipulation: vectorizing with Pandas and Numpy PyGotham 2019"
   ]
  },
  {
   "cell_type": "code",
   "execution_count": 10,
   "id": "8ae72128-f293-4dd2-9a75-085d3eb8ff8f",
   "metadata": {},
   "outputs": [],
   "source": [
    "def dist_tohome(lat_a,long_a):\n",
    "    home = (45.19101638257626, 5.724418886125648)\n",
    "    d = haversine(lat_a,long_a,45.19101638257626, 5.724418886125648)\n",
    "    return d"
   ]
  },
  {
   "cell_type": "code",
   "execution_count": 11,
   "id": "b6249385-7234-4a4e-a272-acc59289c6e0",
   "metadata": {},
   "outputs": [
    {
     "name": "stdout",
     "output_type": "stream",
     "text": [
      "4.958400121800038\n",
      "4.960151591750655\n",
      "4.969341428822664\n"
     ]
    }
   ],
   "source": [
    "# test distance maison\n",
    "maison=(45.19101638257626, 5.724418886125648)\n",
    "print(dist_tohome(df_tree['latitude'][0],df_tree['longitude'][0]))\n",
    "print(dist_tohome(df_tree['latitude'][1],df_tree['longitude'][1]))\n",
    "print(dist_tohome(df_tree['latitude'][2],df_tree['longitude'][2]))"
   ]
  },
  {
   "cell_type": "code",
   "execution_count": 12,
   "id": "6e9df7e4-0652-4087-a3c3-044bc9fb4fe6",
   "metadata": {},
   "outputs": [],
   "source": [
    "# utilisation vectorisation pandas"
   ]
  },
  {
   "cell_type": "code",
   "execution_count": 13,
   "id": "b241e3bd-7b3e-449f-bc11-e9c12c96b14b",
   "metadata": {},
   "outputs": [
    {
     "name": "stdout",
     "output_type": "stream",
     "text": [
      "2.38 ms ± 54.7 µs per loop (mean ± std. dev. of 7 runs, 100 loops each)\n"
     ]
    }
   ],
   "source": [
    "%%timeit\n",
    "df_tree['distance2home'] = dist_tohome(df_tree['latitude'],df_tree['longitude'])"
   ]
  },
  {
   "cell_type": "code",
   "execution_count": 14,
   "id": "d3f156c5-8870-41af-b1b3-e19e0048a05d",
   "metadata": {},
   "outputs": [],
   "source": [
    "# utilisation fonction iterrows"
   ]
  },
  {
   "cell_type": "code",
   "execution_count": 15,
   "id": "544e3513-2fcc-4c04-a366-95d5d39f4d88",
   "metadata": {},
   "outputs": [
    {
     "name": "stdout",
     "output_type": "stream",
     "text": [
      "1.69 s ± 29 ms per loop (mean ± std. dev. of 7 runs, 1 loop each)\n"
     ]
    }
   ],
   "source": [
    "%%timeit\n",
    "distances = []\n",
    "for index,row in df_tree.iterrows():\n",
    "    distances.append(dist_tohome(row['latitude'],row['longitude']))\n",
    "df_tree['distance2home'] = distances"
   ]
  },
  {
   "cell_type": "code",
   "execution_count": 16,
   "id": "74f7b1f8-adf4-40ad-a6e8-e0f8d98ada94",
   "metadata": {},
   "outputs": [],
   "source": [
    "# utilisation fonction apply"
   ]
  },
  {
   "cell_type": "code",
   "execution_count": 17,
   "id": "59c1421c-6b56-46f7-8f6d-a71c1c84f02a",
   "metadata": {},
   "outputs": [
    {
     "name": "stdout",
     "output_type": "stream",
     "text": [
      "625 ms ± 4.01 ms per loop (mean ± std. dev. of 7 runs, 1 loop each)\n"
     ]
    }
   ],
   "source": [
    "%%timeit\n",
    "df_tree['distance2home'] = df_tree.apply(lambda row : dist_tohome(row['latitude'],row['longitude']), axis =1)"
   ]
  },
  {
   "cell_type": "code",
   "execution_count": 18,
   "id": "44792a59-91a7-4c7b-a92b-50778afc2613",
   "metadata": {},
   "outputs": [],
   "source": [
    "# afficher les 10 arbres les plus proches de chez moi "
   ]
  },
  {
   "cell_type": "markdown",
   "id": "c2b62b68-24fd-4bba-ad4c-8fc18f33423a",
   "metadata": {},
   "source": [
    "On trie les valeurs par la distance et on récupère par une boucle les 10 premières pour l'ajouter à une carte"
   ]
  },
  {
   "cell_type": "code",
   "execution_count": 19,
   "id": "054d18a0-e73c-41f2-b1db-05961e592646",
   "metadata": {},
   "outputs": [],
   "source": [
    "df_tree.sort_values(['distance2home'],axis=0,inplace=True)"
   ]
  },
  {
   "cell_type": "code",
   "execution_count": 20,
   "id": "56a4d772-969c-4dfe-a7c9-a511919fb5c7",
   "metadata": {},
   "outputs": [],
   "source": [
    "location_home=[45.19108972346367, 5.724318356006014]\n",
    "home_map = folium.Map(location = location_home,zoom_start=14)\n",
    "folium.Marker(location_home,\n",
    "              popup=\"Maison\",\n",
    "              icon=folium.Icon(icon='home',prefix='fa',color='blue'),).add_to(home_map)\n",
    "\n",
    "for i in range(0,10):\n",
    "    loc = [df_tree.iloc[i]['latitude'],df_tree.iloc[i]['longitude']]\n",
    "    folium.Circle(loc,radius=2,color= 'green').add_to(home_map)\n",
    "\n",
    "# home_map"
   ]
  },
  {
   "cell_type": "markdown",
   "id": "9e543118-2805-4997-a2a5-d96bbfbc93f5",
   "metadata": {},
   "source": [
    "### Distance moyenne entre les arbres"
   ]
  },
  {
   "cell_type": "markdown",
   "id": "be5dd120-d580-4ab8-9649-1f7c5a228a91",
   "metadata": {},
   "source": [
    "Explication du code"
   ]
  },
  {
   "cell_type": "markdown",
   "id": "771daa38-0793-4f68-8264-6ea5428a715b",
   "metadata": {},
   "source": [
    "Pour chaque arbre, calcul de la distance avec tous les autres et ensuite récupération de la plus petite distance (qui n'est pas zero) \n",
    "Stock des distances mini dans liste et calcul des distances moyennes à partir de ces données. \n",
    "Run time 2min 35sec"
   ]
  },
  {
   "cell_type": "code",
   "execution_count": 21,
   "id": "5cacda73-28a1-40f6-9036-54124ae8f2e6",
   "metadata": {
    "tags": []
   },
   "outputs": [
    {
     "name": "stdout",
     "output_type": "stream",
     "text": [
      "CPU times: user 2min 33s, sys: 27.7 ms, total: 2min 33s\n",
      "Wall time: 2min 33s\n"
     ]
    }
   ],
   "source": [
    "%%time\n",
    "dist_moy = []\n",
    "lat_arb = 0\n",
    "long_arb = 0\n",
    "for i in range(len(df_tree)):\n",
    "    df_tree['dist_tree'] = haversine(df_tree['latitude'],df_tree['longitude'],df_tree.iloc[i]['latitude'],df_tree.iloc[i]['longitude'])\n",
    "    dist_moy.append(df_tree['dist_tree'].sort_values(axis=0,ascending=True).iloc[1])"
   ]
  },
  {
   "cell_type": "code",
   "execution_count": 22,
   "id": "da3d98ef-8e7f-413c-b9f8-70a40a558352",
   "metadata": {},
   "outputs": [
    {
     "name": "stdout",
     "output_type": "stream",
     "text": [
      "La distance moyenne entre les arbres voisins est de 6.2 metres\n"
     ]
    }
   ],
   "source": [
    "print(f\"La distance moyenne entre les arbres voisins est de {sum(dist_moy)*1000/len(dist_moy):.1f} metres\")"
   ]
  },
  {
   "cell_type": "code",
   "execution_count": 23,
   "id": "4725e950-e302-49f0-a245-936c0960e01f",
   "metadata": {},
   "outputs": [],
   "source": [
    "df_tree['distarbreproche'] = dist_moy"
   ]
  },
  {
   "cell_type": "markdown",
   "id": "d8833f4a-d1ee-4b75-bb40-685e41d75fcd",
   "metadata": {},
   "source": [
    "### Arbre le plus isolé"
   ]
  },
  {
   "cell_type": "markdown",
   "id": "80956971-f217-4c83-aa5e-fac3f8778c39",
   "metadata": {},
   "source": [
    "Arbre avec la distance à l'arbre le plus proche la plus grande"
   ]
  },
  {
   "cell_type": "code",
   "execution_count": 24,
   "id": "6e029b06-6cab-4c02-9d30-709d2cf3d6c5",
   "metadata": {
    "tags": []
   },
   "outputs": [],
   "source": [
    "lat_iso = df_tree.loc[df_tree['distarbreproche'].idxmax(),'latitude']\n",
    "long_iso = df_tree.loc[df_tree['distarbreproche'].idxmax(),'longitude']\n",
    "loc_iso = (lat_iso,long_iso)"
   ]
  },
  {
   "cell_type": "code",
   "execution_count": 25,
   "id": "0e37874c-c121-4037-86f3-9d227db85f15",
   "metadata": {
    "tags": []
   },
   "outputs": [
    {
     "data": {
      "text/html": [
       "<div style=\"width:100%;\"><div style=\"position:relative;width:100%;height:0;padding-bottom:60%;\"><span style=\"color:#565656\">Make this Notebook Trusted to load map: File -> Trust Notebook</span><iframe src=\"about:blank\" style=\"position:absolute;width:100%;height:100%;left:0;top:0;border:none !important;\" data-html=%3C%21DOCTYPE%20html%3E%0A%3Chead%3E%20%20%20%20%0A%20%20%20%20%3Cmeta%20http-equiv%3D%22content-type%22%20content%3D%22text/html%3B%20charset%3DUTF-8%22%20/%3E%0A%20%20%20%20%0A%20%20%20%20%20%20%20%20%3Cscript%3E%0A%20%20%20%20%20%20%20%20%20%20%20%20L_NO_TOUCH%20%3D%20false%3B%0A%20%20%20%20%20%20%20%20%20%20%20%20L_DISABLE_3D%20%3D%20false%3B%0A%20%20%20%20%20%20%20%20%3C/script%3E%0A%20%20%20%20%0A%20%20%20%20%3Cstyle%3Ehtml%2C%20body%20%7Bwidth%3A%20100%25%3Bheight%3A%20100%25%3Bmargin%3A%200%3Bpadding%3A%200%3B%7D%3C/style%3E%0A%20%20%20%20%3Cstyle%3E%23map%20%7Bposition%3Aabsolute%3Btop%3A0%3Bbottom%3A0%3Bright%3A0%3Bleft%3A0%3B%7D%3C/style%3E%0A%20%20%20%20%3Cscript%20src%3D%22https%3A//cdn.jsdelivr.net/npm/leaflet%401.6.0/dist/leaflet.js%22%3E%3C/script%3E%0A%20%20%20%20%3Cscript%20src%3D%22https%3A//code.jquery.com/jquery-1.12.4.min.js%22%3E%3C/script%3E%0A%20%20%20%20%3Cscript%20src%3D%22https%3A//maxcdn.bootstrapcdn.com/bootstrap/3.2.0/js/bootstrap.min.js%22%3E%3C/script%3E%0A%20%20%20%20%3Cscript%20src%3D%22https%3A//cdnjs.cloudflare.com/ajax/libs/Leaflet.awesome-markers/2.0.2/leaflet.awesome-markers.js%22%3E%3C/script%3E%0A%20%20%20%20%3Clink%20rel%3D%22stylesheet%22%20href%3D%22https%3A//cdn.jsdelivr.net/npm/leaflet%401.6.0/dist/leaflet.css%22/%3E%0A%20%20%20%20%3Clink%20rel%3D%22stylesheet%22%20href%3D%22https%3A//maxcdn.bootstrapcdn.com/bootstrap/3.2.0/css/bootstrap.min.css%22/%3E%0A%20%20%20%20%3Clink%20rel%3D%22stylesheet%22%20href%3D%22https%3A//maxcdn.bootstrapcdn.com/bootstrap/3.2.0/css/bootstrap-theme.min.css%22/%3E%0A%20%20%20%20%3Clink%20rel%3D%22stylesheet%22%20href%3D%22https%3A//maxcdn.bootstrapcdn.com/font-awesome/4.6.3/css/font-awesome.min.css%22/%3E%0A%20%20%20%20%3Clink%20rel%3D%22stylesheet%22%20href%3D%22https%3A//cdnjs.cloudflare.com/ajax/libs/Leaflet.awesome-markers/2.0.2/leaflet.awesome-markers.css%22/%3E%0A%20%20%20%20%3Clink%20rel%3D%22stylesheet%22%20href%3D%22https%3A//cdn.jsdelivr.net/gh/python-visualization/folium/folium/templates/leaflet.awesome.rotate.min.css%22/%3E%0A%20%20%20%20%0A%20%20%20%20%20%20%20%20%20%20%20%20%3Cmeta%20name%3D%22viewport%22%20content%3D%22width%3Ddevice-width%2C%0A%20%20%20%20%20%20%20%20%20%20%20%20%20%20%20%20initial-scale%3D1.0%2C%20maximum-scale%3D1.0%2C%20user-scalable%3Dno%22%20/%3E%0A%20%20%20%20%20%20%20%20%20%20%20%20%3Cstyle%3E%0A%20%20%20%20%20%20%20%20%20%20%20%20%20%20%20%20%23map_09364a832c44484c8f7bc2c187520597%20%7B%0A%20%20%20%20%20%20%20%20%20%20%20%20%20%20%20%20%20%20%20%20position%3A%20relative%3B%0A%20%20%20%20%20%20%20%20%20%20%20%20%20%20%20%20%20%20%20%20width%3A%20100.0%25%3B%0A%20%20%20%20%20%20%20%20%20%20%20%20%20%20%20%20%20%20%20%20height%3A%20100.0%25%3B%0A%20%20%20%20%20%20%20%20%20%20%20%20%20%20%20%20%20%20%20%20left%3A%200.0%25%3B%0A%20%20%20%20%20%20%20%20%20%20%20%20%20%20%20%20%20%20%20%20top%3A%200.0%25%3B%0A%20%20%20%20%20%20%20%20%20%20%20%20%20%20%20%20%7D%0A%20%20%20%20%20%20%20%20%20%20%20%20%3C/style%3E%0A%20%20%20%20%20%20%20%20%0A%3C/head%3E%0A%3Cbody%3E%20%20%20%20%0A%20%20%20%20%0A%20%20%20%20%20%20%20%20%20%20%20%20%3Cdiv%20class%3D%22folium-map%22%20id%3D%22map_09364a832c44484c8f7bc2c187520597%22%20%3E%3C/div%3E%0A%20%20%20%20%20%20%20%20%0A%3C/body%3E%0A%3Cscript%3E%20%20%20%20%0A%20%20%20%20%0A%20%20%20%20%20%20%20%20%20%20%20%20var%20map_09364a832c44484c8f7bc2c187520597%20%3D%20L.map%28%0A%20%20%20%20%20%20%20%20%20%20%20%20%20%20%20%20%22map_09364a832c44484c8f7bc2c187520597%22%2C%0A%20%20%20%20%20%20%20%20%20%20%20%20%20%20%20%20%7B%0A%20%20%20%20%20%20%20%20%20%20%20%20%20%20%20%20%20%20%20%20center%3A%20%5B45.19108972346367%2C%205.724318356006014%5D%2C%0A%20%20%20%20%20%20%20%20%20%20%20%20%20%20%20%20%20%20%20%20crs%3A%20L.CRS.EPSG3857%2C%0A%20%20%20%20%20%20%20%20%20%20%20%20%20%20%20%20%20%20%20%20zoom%3A%2014%2C%0A%20%20%20%20%20%20%20%20%20%20%20%20%20%20%20%20%20%20%20%20zoomControl%3A%20true%2C%0A%20%20%20%20%20%20%20%20%20%20%20%20%20%20%20%20%20%20%20%20preferCanvas%3A%20false%2C%0A%20%20%20%20%20%20%20%20%20%20%20%20%20%20%20%20%7D%0A%20%20%20%20%20%20%20%20%20%20%20%20%29%3B%0A%0A%20%20%20%20%20%20%20%20%20%20%20%20%0A%0A%20%20%20%20%20%20%20%20%0A%20%20%20%20%0A%20%20%20%20%20%20%20%20%20%20%20%20var%20tile_layer_5b6dfc0afa604994b721b415856c8b37%20%3D%20L.tileLayer%28%0A%20%20%20%20%20%20%20%20%20%20%20%20%20%20%20%20%22https%3A//%7Bs%7D.tile.openstreetmap.org/%7Bz%7D/%7Bx%7D/%7By%7D.png%22%2C%0A%20%20%20%20%20%20%20%20%20%20%20%20%20%20%20%20%7B%22attribution%22%3A%20%22Data%20by%20%5Cu0026copy%3B%20%5Cu003ca%20href%3D%5C%22http%3A//openstreetmap.org%5C%22%5Cu003eOpenStreetMap%5Cu003c/a%5Cu003e%2C%20under%20%5Cu003ca%20href%3D%5C%22http%3A//www.openstreetmap.org/copyright%5C%22%5Cu003eODbL%5Cu003c/a%5Cu003e.%22%2C%20%22detectRetina%22%3A%20false%2C%20%22maxNativeZoom%22%3A%2018%2C%20%22maxZoom%22%3A%2018%2C%20%22minZoom%22%3A%200%2C%20%22noWrap%22%3A%20false%2C%20%22opacity%22%3A%201%2C%20%22subdomains%22%3A%20%22abc%22%2C%20%22tms%22%3A%20false%7D%0A%20%20%20%20%20%20%20%20%20%20%20%20%29.addTo%28map_09364a832c44484c8f7bc2c187520597%29%3B%0A%20%20%20%20%20%20%20%20%0A%20%20%20%20%0A%20%20%20%20%20%20%20%20%20%20%20%20var%20marker_d7186f9694734b6a80d63dbc9d07dc7a%20%3D%20L.marker%28%0A%20%20%20%20%20%20%20%20%20%20%20%20%20%20%20%20%5B45.19108972346367%2C%205.724318356006014%5D%2C%0A%20%20%20%20%20%20%20%20%20%20%20%20%20%20%20%20%7B%7D%0A%20%20%20%20%20%20%20%20%20%20%20%20%29.addTo%28map_09364a832c44484c8f7bc2c187520597%29%3B%0A%20%20%20%20%20%20%20%20%0A%20%20%20%20%0A%20%20%20%20%20%20%20%20%20%20%20%20var%20icon_0093cfcc7dae444e9e9773b2c811dc38%20%3D%20L.AwesomeMarkers.icon%28%0A%20%20%20%20%20%20%20%20%20%20%20%20%20%20%20%20%7B%22extraClasses%22%3A%20%22fa-rotate-0%22%2C%20%22icon%22%3A%20%22home%22%2C%20%22iconColor%22%3A%20%22white%22%2C%20%22markerColor%22%3A%20%22blue%22%2C%20%22prefix%22%3A%20%22fa%22%7D%0A%20%20%20%20%20%20%20%20%20%20%20%20%29%3B%0A%20%20%20%20%20%20%20%20%20%20%20%20marker_d7186f9694734b6a80d63dbc9d07dc7a.setIcon%28icon_0093cfcc7dae444e9e9773b2c811dc38%29%3B%0A%20%20%20%20%20%20%20%20%0A%20%20%20%20%0A%20%20%20%20%20%20%20%20var%20popup_02af93fbd2a54802a13d08fc35e8aa6a%20%3D%20L.popup%28%7B%22maxWidth%22%3A%20%22100%25%22%7D%29%3B%0A%0A%20%20%20%20%20%20%20%20%0A%20%20%20%20%20%20%20%20%20%20%20%20var%20html_408393caa5c047b788d35f382cf9417c%20%3D%20%24%28%60%3Cdiv%20id%3D%22html_408393caa5c047b788d35f382cf9417c%22%20style%3D%22width%3A%20100.0%25%3B%20height%3A%20100.0%25%3B%22%3EMaison%3C/div%3E%60%29%5B0%5D%3B%0A%20%20%20%20%20%20%20%20%20%20%20%20popup_02af93fbd2a54802a13d08fc35e8aa6a.setContent%28html_408393caa5c047b788d35f382cf9417c%29%3B%0A%20%20%20%20%20%20%20%20%0A%0A%20%20%20%20%20%20%20%20marker_d7186f9694734b6a80d63dbc9d07dc7a.bindPopup%28popup_02af93fbd2a54802a13d08fc35e8aa6a%29%0A%20%20%20%20%20%20%20%20%3B%0A%0A%20%20%20%20%20%20%20%20%0A%20%20%20%20%0A%20%20%20%20%0A%20%20%20%20%20%20%20%20%20%20%20%20var%20circle_8c1a89eca1f64bbba8be583853b8b7a6%20%3D%20L.circle%28%0A%20%20%20%20%20%20%20%20%20%20%20%20%20%20%20%20%5B45.1915283391192%2C%205.72388563804483%5D%2C%0A%20%20%20%20%20%20%20%20%20%20%20%20%20%20%20%20%7B%22bubblingMouseEvents%22%3A%20true%2C%20%22color%22%3A%20%22green%22%2C%20%22dashArray%22%3A%20null%2C%20%22dashOffset%22%3A%20null%2C%20%22fill%22%3A%20false%2C%20%22fillColor%22%3A%20%22green%22%2C%20%22fillOpacity%22%3A%200.2%2C%20%22fillRule%22%3A%20%22evenodd%22%2C%20%22lineCap%22%3A%20%22round%22%2C%20%22lineJoin%22%3A%20%22round%22%2C%20%22opacity%22%3A%201.0%2C%20%22radius%22%3A%202%2C%20%22stroke%22%3A%20true%2C%20%22weight%22%3A%203%7D%0A%20%20%20%20%20%20%20%20%20%20%20%20%29.addTo%28map_09364a832c44484c8f7bc2c187520597%29%3B%0A%20%20%20%20%20%20%20%20%0A%20%20%20%20%0A%20%20%20%20%20%20%20%20%20%20%20%20var%20circle_161efd2dcca44d249070fc9b5e8e97f0%20%3D%20L.circle%28%0A%20%20%20%20%20%20%20%20%20%20%20%20%20%20%20%20%5B45.1915105565097%2C%205.72375250258438%5D%2C%0A%20%20%20%20%20%20%20%20%20%20%20%20%20%20%20%20%7B%22bubblingMouseEvents%22%3A%20true%2C%20%22color%22%3A%20%22green%22%2C%20%22dashArray%22%3A%20null%2C%20%22dashOffset%22%3A%20null%2C%20%22fill%22%3A%20false%2C%20%22fillColor%22%3A%20%22green%22%2C%20%22fillOpacity%22%3A%200.2%2C%20%22fillRule%22%3A%20%22evenodd%22%2C%20%22lineCap%22%3A%20%22round%22%2C%20%22lineJoin%22%3A%20%22round%22%2C%20%22opacity%22%3A%201.0%2C%20%22radius%22%3A%202%2C%20%22stroke%22%3A%20true%2C%20%22weight%22%3A%203%7D%0A%20%20%20%20%20%20%20%20%20%20%20%20%29.addTo%28map_09364a832c44484c8f7bc2c187520597%29%3B%0A%20%20%20%20%20%20%20%20%0A%20%20%20%20%0A%20%20%20%20%20%20%20%20%20%20%20%20var%20circle_8c029841851b486f9ad5c1c1a7631881%20%3D%20L.circle%28%0A%20%20%20%20%20%20%20%20%20%20%20%20%20%20%20%20%5B45.1914884986843%2C%205.72360041065172%5D%2C%0A%20%20%20%20%20%20%20%20%20%20%20%20%20%20%20%20%7B%22bubblingMouseEvents%22%3A%20true%2C%20%22color%22%3A%20%22green%22%2C%20%22dashArray%22%3A%20null%2C%20%22dashOffset%22%3A%20null%2C%20%22fill%22%3A%20false%2C%20%22fillColor%22%3A%20%22green%22%2C%20%22fillOpacity%22%3A%200.2%2C%20%22fillRule%22%3A%20%22evenodd%22%2C%20%22lineCap%22%3A%20%22round%22%2C%20%22lineJoin%22%3A%20%22round%22%2C%20%22opacity%22%3A%201.0%2C%20%22radius%22%3A%202%2C%20%22stroke%22%3A%20true%2C%20%22weight%22%3A%203%7D%0A%20%20%20%20%20%20%20%20%20%20%20%20%29.addTo%28map_09364a832c44484c8f7bc2c187520597%29%3B%0A%20%20%20%20%20%20%20%20%0A%20%20%20%20%0A%20%20%20%20%20%20%20%20%20%20%20%20var%20circle_4ca2ae01ede3493cbef161d4e2ea5f87%20%3D%20L.circle%28%0A%20%20%20%20%20%20%20%20%20%20%20%20%20%20%20%20%5B45.1903535164362%2C%205.7249893049738%5D%2C%0A%20%20%20%20%20%20%20%20%20%20%20%20%20%20%20%20%7B%22bubblingMouseEvents%22%3A%20true%2C%20%22color%22%3A%20%22green%22%2C%20%22dashArray%22%3A%20null%2C%20%22dashOffset%22%3A%20null%2C%20%22fill%22%3A%20false%2C%20%22fillColor%22%3A%20%22green%22%2C%20%22fillOpacity%22%3A%200.2%2C%20%22fillRule%22%3A%20%22evenodd%22%2C%20%22lineCap%22%3A%20%22round%22%2C%20%22lineJoin%22%3A%20%22round%22%2C%20%22opacity%22%3A%201.0%2C%20%22radius%22%3A%202%2C%20%22stroke%22%3A%20true%2C%20%22weight%22%3A%203%7D%0A%20%20%20%20%20%20%20%20%20%20%20%20%29.addTo%28map_09364a832c44484c8f7bc2c187520597%29%3B%0A%20%20%20%20%20%20%20%20%0A%20%20%20%20%0A%20%20%20%20%20%20%20%20%20%20%20%20var%20circle_430e14f3a93347b996174a4a16bb0b35%20%3D%20L.circle%28%0A%20%20%20%20%20%20%20%20%20%20%20%20%20%20%20%20%5B45.1902981304664%2C%205.72483326305846%5D%2C%0A%20%20%20%20%20%20%20%20%20%20%20%20%20%20%20%20%7B%22bubblingMouseEvents%22%3A%20true%2C%20%22color%22%3A%20%22green%22%2C%20%22dashArray%22%3A%20null%2C%20%22dashOffset%22%3A%20null%2C%20%22fill%22%3A%20false%2C%20%22fillColor%22%3A%20%22green%22%2C%20%22fillOpacity%22%3A%200.2%2C%20%22fillRule%22%3A%20%22evenodd%22%2C%20%22lineCap%22%3A%20%22round%22%2C%20%22lineJoin%22%3A%20%22round%22%2C%20%22opacity%22%3A%201.0%2C%20%22radius%22%3A%202%2C%20%22stroke%22%3A%20true%2C%20%22weight%22%3A%203%7D%0A%20%20%20%20%20%20%20%20%20%20%20%20%29.addTo%28map_09364a832c44484c8f7bc2c187520597%29%3B%0A%20%20%20%20%20%20%20%20%0A%20%20%20%20%0A%20%20%20%20%20%20%20%20%20%20%20%20var%20circle_adb691e8b6484d41a675809d369d0f34%20%3D%20L.circle%28%0A%20%20%20%20%20%20%20%20%20%20%20%20%20%20%20%20%5B45.1914780048114%2C%205.72352810176153%5D%2C%0A%20%20%20%20%20%20%20%20%20%20%20%20%20%20%20%20%7B%22bubblingMouseEvents%22%3A%20true%2C%20%22color%22%3A%20%22green%22%2C%20%22dashArray%22%3A%20null%2C%20%22dashOffset%22%3A%20null%2C%20%22fill%22%3A%20false%2C%20%22fillColor%22%3A%20%22green%22%2C%20%22fillOpacity%22%3A%200.2%2C%20%22fillRule%22%3A%20%22evenodd%22%2C%20%22lineCap%22%3A%20%22round%22%2C%20%22lineJoin%22%3A%20%22round%22%2C%20%22opacity%22%3A%201.0%2C%20%22radius%22%3A%202%2C%20%22stroke%22%3A%20true%2C%20%22weight%22%3A%203%7D%0A%20%20%20%20%20%20%20%20%20%20%20%20%29.addTo%28map_09364a832c44484c8f7bc2c187520597%29%3B%0A%20%20%20%20%20%20%20%20%0A%20%20%20%20%0A%20%20%20%20%20%20%20%20%20%20%20%20var%20circle_095f32003087434c93e51da2f6c61390%20%3D%20L.circle%28%0A%20%20%20%20%20%20%20%20%20%20%20%20%20%20%20%20%5B45.1902579048051%2C%205.72480449652145%5D%2C%0A%20%20%20%20%20%20%20%20%20%20%20%20%20%20%20%20%7B%22bubblingMouseEvents%22%3A%20true%2C%20%22color%22%3A%20%22green%22%2C%20%22dashArray%22%3A%20null%2C%20%22dashOffset%22%3A%20null%2C%20%22fill%22%3A%20false%2C%20%22fillColor%22%3A%20%22green%22%2C%20%22fillOpacity%22%3A%200.2%2C%20%22fillRule%22%3A%20%22evenodd%22%2C%20%22lineCap%22%3A%20%22round%22%2C%20%22lineJoin%22%3A%20%22round%22%2C%20%22opacity%22%3A%201.0%2C%20%22radius%22%3A%202%2C%20%22stroke%22%3A%20true%2C%20%22weight%22%3A%203%7D%0A%20%20%20%20%20%20%20%20%20%20%20%20%29.addTo%28map_09364a832c44484c8f7bc2c187520597%29%3B%0A%20%20%20%20%20%20%20%20%0A%20%20%20%20%0A%20%20%20%20%20%20%20%20%20%20%20%20var%20circle_66b006c7a9224df1b98536b40ca82105%20%3D%20L.circle%28%0A%20%20%20%20%20%20%20%20%20%20%20%20%20%20%20%20%5B45.1903039186236%2C%205.72495273381898%5D%2C%0A%20%20%20%20%20%20%20%20%20%20%20%20%20%20%20%20%7B%22bubblingMouseEvents%22%3A%20true%2C%20%22color%22%3A%20%22green%22%2C%20%22dashArray%22%3A%20null%2C%20%22dashOffset%22%3A%20null%2C%20%22fill%22%3A%20false%2C%20%22fillColor%22%3A%20%22green%22%2C%20%22fillOpacity%22%3A%200.2%2C%20%22fillRule%22%3A%20%22evenodd%22%2C%20%22lineCap%22%3A%20%22round%22%2C%20%22lineJoin%22%3A%20%22round%22%2C%20%22opacity%22%3A%201.0%2C%20%22radius%22%3A%202%2C%20%22stroke%22%3A%20true%2C%20%22weight%22%3A%203%7D%0A%20%20%20%20%20%20%20%20%20%20%20%20%29.addTo%28map_09364a832c44484c8f7bc2c187520597%29%3B%0A%20%20%20%20%20%20%20%20%0A%20%20%20%20%0A%20%20%20%20%20%20%20%20%20%20%20%20var%20circle_b7448f7a2e6e4ffbb617894f0a1cc8a5%20%3D%20L.circle%28%0A%20%20%20%20%20%20%20%20%20%20%20%20%20%20%20%20%5B45.1914776505899%2C%205.72536122415717%5D%2C%0A%20%20%20%20%20%20%20%20%20%20%20%20%20%20%20%20%7B%22bubblingMouseEvents%22%3A%20true%2C%20%22color%22%3A%20%22green%22%2C%20%22dashArray%22%3A%20null%2C%20%22dashOffset%22%3A%20null%2C%20%22fill%22%3A%20false%2C%20%22fillColor%22%3A%20%22green%22%2C%20%22fillOpacity%22%3A%200.2%2C%20%22fillRule%22%3A%20%22evenodd%22%2C%20%22lineCap%22%3A%20%22round%22%2C%20%22lineJoin%22%3A%20%22round%22%2C%20%22opacity%22%3A%201.0%2C%20%22radius%22%3A%202%2C%20%22stroke%22%3A%20true%2C%20%22weight%22%3A%203%7D%0A%20%20%20%20%20%20%20%20%20%20%20%20%29.addTo%28map_09364a832c44484c8f7bc2c187520597%29%3B%0A%20%20%20%20%20%20%20%20%0A%20%20%20%20%0A%20%20%20%20%20%20%20%20%20%20%20%20var%20circle_536653b3338d4028b059948e1da89c0d%20%3D%20L.circle%28%0A%20%20%20%20%20%20%20%20%20%20%20%20%20%20%20%20%5B45.1902772420939%2C%205.72489037217259%5D%2C%0A%20%20%20%20%20%20%20%20%20%20%20%20%20%20%20%20%7B%22bubblingMouseEvents%22%3A%20true%2C%20%22color%22%3A%20%22green%22%2C%20%22dashArray%22%3A%20null%2C%20%22dashOffset%22%3A%20null%2C%20%22fill%22%3A%20false%2C%20%22fillColor%22%3A%20%22green%22%2C%20%22fillOpacity%22%3A%200.2%2C%20%22fillRule%22%3A%20%22evenodd%22%2C%20%22lineCap%22%3A%20%22round%22%2C%20%22lineJoin%22%3A%20%22round%22%2C%20%22opacity%22%3A%201.0%2C%20%22radius%22%3A%202%2C%20%22stroke%22%3A%20true%2C%20%22weight%22%3A%203%7D%0A%20%20%20%20%20%20%20%20%20%20%20%20%29.addTo%28map_09364a832c44484c8f7bc2c187520597%29%3B%0A%20%20%20%20%20%20%20%20%0A%20%20%20%20%0A%20%20%20%20%20%20%20%20%20%20%20%20var%20marker_b45e354300d847da946b06904dfa37c6%20%3D%20L.marker%28%0A%20%20%20%20%20%20%20%20%20%20%20%20%20%20%20%20%5B45.1848094542054%2C%205.74726613933871%5D%2C%0A%20%20%20%20%20%20%20%20%20%20%20%20%20%20%20%20%7B%22color%22%3A%20%22green%22%2C%20%22radius%22%3A%202%7D%0A%20%20%20%20%20%20%20%20%20%20%20%20%29.addTo%28map_09364a832c44484c8f7bc2c187520597%29%3B%0A%20%20%20%20%20%20%20%20%0A%20%20%20%20%0A%20%20%20%20%20%20%20%20%20%20%20%20var%20icon_53e6ff982e51474e8c3ce2d7a48bb4c6%20%3D%20L.AwesomeMarkers.icon%28%0A%20%20%20%20%20%20%20%20%20%20%20%20%20%20%20%20%7B%22extraClasses%22%3A%20%22fa-rotate-0%22%2C%20%22icon%22%3A%20%22tree%22%2C%20%22iconColor%22%3A%20%22white%22%2C%20%22markerColor%22%3A%20%22green%22%2C%20%22prefix%22%3A%20%22fa%22%7D%0A%20%20%20%20%20%20%20%20%20%20%20%20%29%3B%0A%20%20%20%20%20%20%20%20%20%20%20%20marker_b45e354300d847da946b06904dfa37c6.setIcon%28icon_53e6ff982e51474e8c3ce2d7a48bb4c6%29%3B%0A%20%20%20%20%20%20%20%20%0A%20%20%20%20%0A%20%20%20%20%20%20%20%20var%20popup_1df30b951bd1422186b2adaebc1be938%20%3D%20L.popup%28%7B%22maxWidth%22%3A%20%22100%25%22%7D%29%3B%0A%0A%20%20%20%20%20%20%20%20%0A%20%20%20%20%20%20%20%20%20%20%20%20var%20html_95ca2c0f072d4bdbbf1e7f3016f98039%20%3D%20%24%28%60%3Cdiv%20id%3D%22html_95ca2c0f072d4bdbbf1e7f3016f98039%22%20style%3D%22width%3A%20100.0%25%3B%20height%3A%20100.0%25%3B%22%3EArbre%20le%20plus%20isol%C3%A9%3C/div%3E%60%29%5B0%5D%3B%0A%20%20%20%20%20%20%20%20%20%20%20%20popup_1df30b951bd1422186b2adaebc1be938.setContent%28html_95ca2c0f072d4bdbbf1e7f3016f98039%29%3B%0A%20%20%20%20%20%20%20%20%0A%0A%20%20%20%20%20%20%20%20marker_b45e354300d847da946b06904dfa37c6.bindPopup%28popup_1df30b951bd1422186b2adaebc1be938%29%0A%20%20%20%20%20%20%20%20%3B%0A%0A%20%20%20%20%20%20%20%20%0A%20%20%20%20%0A%3C/script%3E onload=\"this.contentDocument.open();this.contentDocument.write(    decodeURIComponent(this.getAttribute('data-html')));this.contentDocument.close();\" allowfullscreen webkitallowfullscreen mozallowfullscreen></iframe></div></div>"
      ],
      "text/plain": [
       "<folium.folium.Map at 0x7f85272dba60>"
      ]
     },
     "execution_count": 25,
     "metadata": {},
     "output_type": "execute_result"
    }
   ],
   "source": [
    "folium.Marker(loc_iso,radius=2,color= 'green',\n",
    "              popup=\"Arbre le plus isolé\",\n",
    "              icon=folium.Icon(icon='tree',prefix='fa',color='green'),).add_to(home_map)\n",
    "home_map"
   ]
  },
  {
   "cell_type": "markdown",
   "id": "218d1977-af20-4e2c-b99a-0f573a4c7789",
   "metadata": {},
   "source": [
    "### Arbre le plus entouré"
   ]
  },
  {
   "cell_type": "markdown",
   "id": "73148d5e-ebf9-4441-8545-77f1a9581460",
   "metadata": {},
   "source": [
    "Difficile à réaliser en brute force ..."
   ]
  },
  {
   "cell_type": "markdown",
   "id": "b79cd641-25b9-4b88-84bf-0fff571414ff",
   "metadata": {},
   "source": [
    "### Utilisation de KDTree"
   ]
  },
  {
   "cell_type": "markdown",
   "id": "b2d8b91c-b6bf-4870-87c3-c6a2a4269ec8",
   "metadata": {},
   "source": [
    "#### Creation du KDTree"
   ]
  },
  {
   "cell_type": "code",
   "execution_count": 26,
   "id": "ec05c41f-cd8e-4132-9705-487008991c33",
   "metadata": {},
   "outputs": [],
   "source": [
    "import scipy \n",
    "import scipy.spatial"
   ]
  },
  {
   "cell_type": "code",
   "execution_count": 27,
   "id": "2d34db0e-22a6-4e67-932f-5b3e515ef46c",
   "metadata": {},
   "outputs": [],
   "source": [
    "df_kd = df_tree[['latitude','longitude']]"
   ]
  },
  {
   "cell_type": "code",
   "execution_count": 28,
   "id": "442f69b2-2490-4361-afb3-d0dc029c4d43",
   "metadata": {},
   "outputs": [
    {
     "data": {
      "text/plain": [
       "<scipy.spatial.kdtree.KDTree at 0x7f852781f9c0>"
      ]
     },
     "execution_count": 28,
     "metadata": {},
     "output_type": "execute_result"
    }
   ],
   "source": [
    "kd = scipy.spatial.KDTree(df_kd[['latitude','longitude']].values)\n",
    "kd"
   ]
  },
  {
   "cell_type": "markdown",
   "id": "171b2730-ca6d-4e37-a3f9-bde786ce2f05",
   "metadata": {},
   "source": [
    "#### Arbres les plus proche de chez moi"
   ]
  },
  {
   "cell_type": "code",
   "execution_count": 29,
   "id": "b1c077a6-1217-44b3-957b-dfda9eda2449",
   "metadata": {},
   "outputs": [
    {
     "name": "stdout",
     "output_type": "stream",
     "text": [
      "[0.00073922 0.00082921 0.00082962 0.00085087 0.00087451 0.00087671\n",
      " 0.00089028 0.00089596 0.00094488 0.0009786 ]   [ 0  4  1  6  3  9  7 11  2 14]\n"
     ]
    }
   ],
   "source": [
    "maison=[45.19101638257626, 5.724418886125648]\n",
    "dd, ii = kd.query(maison,k=10)\n",
    "print(dd,\" \",ii)"
   ]
  },
  {
   "cell_type": "markdown",
   "id": "7935d413-89f7-4d09-8174-23b8b44882a8",
   "metadata": {},
   "source": [
    "On retrouve des arbres similaires de ceux par la méthode brute mais il y a quelques différences (indices 11 et 14) \n",
    "Par contre le temps d'execution est beaucoup plus rapide par rapport à la méthode ou on calcule la distance pour tout les points. 22µs vs 2.9 ms (vectorielle pandas)"
   ]
  },
  {
   "cell_type": "markdown",
   "id": "e92e05ff-096a-44dc-bcbd-3472393a0fc9",
   "metadata": {},
   "source": [
    "#### Distance entre les arbres"
   ]
  },
  {
   "cell_type": "markdown",
   "id": "319f6bb7-264c-456f-bb09-ec0989f5cb3f",
   "metadata": {},
   "source": [
    "Pour chaque arbre on recherche le voisin le plus près (k=2 car sinon c'est lui même) , on stocke dans une liste et ensuite on fait la moyenne de cette distance"
   ]
  },
  {
   "cell_type": "code",
   "execution_count": 30,
   "id": "f7310236-16c8-454c-aa54-c493ac0bb96c",
   "metadata": {},
   "outputs": [
    {
     "name": "stdout",
     "output_type": "stream",
     "text": [
      "La distance moyenne entre deux arbres est de 6.3 metres\n",
      "CPU times: user 14.5 s, sys: 16.1 ms, total: 14.5 s\n",
      "Wall time: 14.4 s\n"
     ]
    }
   ],
   "source": [
    "%%time\n",
    "liste_distance=[]\n",
    "liste_indice=[]\n",
    "for i in range(len(df_tree)):\n",
    "    distance=0\n",
    "    lat_a = df_tree.iloc[i]['latitude']\n",
    "    long_a = df_tree.iloc[i]['longitude']\n",
    "    arb_loc=[lat_a,long_a]\n",
    "    d, ind = kd.query(arb_loc,k=2)\n",
    "    indice = ind[1]\n",
    "    lat_n = df_tree.iloc[indice]['latitude']\n",
    "    long_n = df_tree.iloc[indice]['longitude']\n",
    "    distance = haversine(lat_n,long_n,lat_a,long_a)\n",
    "    liste_distance.append(distance)\n",
    "    liste_indice.append(i)\n",
    "moyenne_dist = sum(liste_distance)/len(liste_distance)\n",
    "print(f\"La distance moyenne entre deux arbres est de {moyenne_dist*1000:.1f} metres\")"
   ]
  },
  {
   "cell_type": "markdown",
   "id": "695ff67a-1dd7-4595-b388-8d3ad708c356",
   "metadata": {},
   "source": [
    "#### Arbre le plus entouré/ le plus solitaire"
   ]
  },
  {
   "cell_type": "markdown",
   "id": "bc6d018b-cb37-45a4-b5b1-0f28d4c2b734",
   "metadata": {},
   "source": [
    "##### Arbre solitaire à partir de la distance mini au prochain arbre"
   ]
  },
  {
   "cell_type": "code",
   "execution_count": 31,
   "id": "3109b504-d2d9-436e-a71f-4830662d0444",
   "metadata": {},
   "outputs": [
    {
     "data": {
      "text/plain": [
       "<folium.map.Marker at 0x7f8527336310>"
      ]
     },
     "execution_count": 31,
     "metadata": {},
     "output_type": "execute_result"
    }
   ],
   "source": [
    "distance_max = max(liste_distance)\n",
    "index_max = liste_distance.index(distance_max)\n",
    "\n",
    "lat_iso = df_tree.iloc[index_max]['latitude']\n",
    "long_iso = df_tree.loc[index_max]['longitude']\n",
    "loc_iso = (lat_iso,long_iso)\n",
    "\n",
    "folium.Marker(loc_iso,radius=2,color= 'green',\n",
    "              popup=\"Isolé_KD_distance\",\n",
    "              icon=folium.Icon(icon='tree',prefix='fa',color='green'),).add_to(home_map)"
   ]
  },
  {
   "cell_type": "markdown",
   "id": "4802a038-0c68-41a7-9a95-9c72315c99b3",
   "metadata": {},
   "source": [
    "On recherche l'arbre avec le plus de voisins dans un rayon de 20 m (~2x la distance moyenne entre deux arbres) et inverse pour le plus solitaire.\n",
    "Itération du la data_frame et KDTree.query_ball_tree\n",
    "ou utilisation de query pairs qui cherche les paires d'arbres dans le kdtree dans une distance donnée et on récupère ensuite l'arbre le plus nommé."
   ]
  },
  {
   "cell_type": "code",
   "execution_count": 32,
   "id": "7c5b76a0-2e80-46ff-b8a7-26738c6bde2b",
   "metadata": {},
   "outputs": [],
   "source": [
    "rayon = 0.0001"
   ]
  },
  {
   "cell_type": "markdown",
   "id": "7a930ba8-db96-440f-943f-92b8d983d3fd",
   "metadata": {},
   "source": [
    "##### Methode query_pairs"
   ]
  },
  {
   "cell_type": "markdown",
   "id": "f563a70f-1c9e-44a4-a19b-bfc5c303d7bb",
   "metadata": {},
   "source": [
    "On recupère un array et on stocke le compte des uniques dans un dictionnaire"
   ]
  },
  {
   "cell_type": "code",
   "execution_count": 33,
   "id": "06c4f6f0-b967-42f9-9555-89f63fd5da12",
   "metadata": {},
   "outputs": [
    {
     "name": "stdout",
     "output_type": "stream",
     "text": [
      "11264   70\n",
      "CPU times: user 18.2 ms, sys: 0 ns, total: 18.2 ms\n",
      "Wall time: 17.7 ms\n"
     ]
    }
   ],
   "source": [
    "%%time\n",
    "\n",
    "pair = kd.query_pairs(rayon,output_type='ndarray')\n",
    "unique, counts = np.unique(pair, return_counts=True)\n",
    "dico_voisin = dict(zip(unique, counts))\n",
    "entoure = max(dico_voisin,key=dico_voisin.get)\n",
    "print(entoure, \" \" , dico_voisin[entoure])"
   ]
  },
  {
   "cell_type": "markdown",
   "id": "e6d06fb3-5e23-4588-9323-311888ed2277",
   "metadata": {},
   "source": [
    "##### Methode query_ball_point"
   ]
  },
  {
   "cell_type": "code",
   "execution_count": 34,
   "id": "6c462acf-aa8b-4083-8d1f-0e42891b8efb",
   "metadata": {},
   "outputs": [
    {
     "name": "stdout",
     "output_type": "stream",
     "text": [
      "41\n"
     ]
    }
   ],
   "source": [
    "# test fonction\n",
    "\n",
    "lat_a = df_tree.iloc[11283]['latitude']\n",
    "long_a = df_tree.iloc[11283]['longitude']\n",
    "nb_voisin = kd.query_ball_point([lat_a,long_a],r=rayon,return_length=True)\n",
    "print(nb_voisin)"
   ]
  },
  {
   "cell_type": "code",
   "execution_count": 35,
   "id": "eb9b271a-7fc9-4964-9a17-3332923b0d49",
   "metadata": {},
   "outputs": [
    {
     "name": "stdout",
     "output_type": "stream",
     "text": [
      "CPU times: user 45 ms, sys: 0 ns, total: 45 ms\n",
      "Wall time: 44.4 ms\n"
     ]
    },
    {
     "data": {
      "text/plain": [
       "array([1, 1, 2, ..., 1, 3, 2])"
      ]
     },
     "execution_count": 35,
     "metadata": {},
     "output_type": "execute_result"
    }
   ],
   "source": [
    "%%time\n",
    "\n",
    "array_kd = kd.query_ball_point(df_tree[['latitude','longitude']],r=rayon,return_length=True)\n",
    "array_kd"
   ]
  },
  {
   "cell_type": "markdown",
   "id": "de133840-4e8b-4232-9bcc-024e7a1d2324",
   "metadata": {
    "tags": []
   },
   "source": [
    "Même methode que au dessus mais avec une for loop for pas belle et moins rapide "
   ]
  },
  {
   "cell_type": "code",
   "execution_count": 36,
   "id": "ea06c7a9-e1d2-4ab7-a461-73f75b75f4d6",
   "metadata": {},
   "outputs": [
    {
     "name": "stdout",
     "output_type": "stream",
     "text": [
      "CPU times: user 7.1 s, sys: 16 ms, total: 7.12 s\n",
      "Wall time: 7.14 s\n"
     ]
    }
   ],
   "source": [
    "%%time\n",
    "\n",
    "\n",
    "list_voisin = []\n",
    "for i in range(len(df_tree)):\n",
    "    lat_a = df_tree.iloc[i]['latitude']\n",
    "    long_a = df_tree.iloc[i]['longitude']\n",
    "    nb_voisin = kd.query_ball_point([lat_a,long_a],r=rayon,return_length=True)\n",
    "    tu = (nb_voisin,i)\n",
    "    list_voisin.append(tu)"
   ]
  },
  {
   "cell_type": "code",
   "execution_count": 37,
   "id": "ed459763-c037-4580-b251-782cb38fe61d",
   "metadata": {},
   "outputs": [],
   "source": [
    "arbre_entoure = max(list_voisin)[1]\n",
    "arbre_solo = min(list_voisin)[1]"
   ]
  },
  {
   "cell_type": "markdown",
   "id": "ab21ff4a-6b97-46f7-8e67-d0ffa22995d6",
   "metadata": {},
   "source": [
    "Ajout des deux arbres sur la carte"
   ]
  },
  {
   "cell_type": "code",
   "execution_count": 38,
   "id": "b98b37dc-5532-42fc-bd77-1c000bc2e5cf",
   "metadata": {},
   "outputs": [],
   "source": [
    "lat_iso = df_tree.iloc[arbre_solo]['latitude']\n",
    "long_iso = df_tree.loc[arbre_solo]['longitude']\n",
    "loc_iso = (lat_iso,long_iso)\n",
    "\n",
    "lat_entou = df_tree.iloc[arbre_entoure]['latitude']\n",
    "long_entou = df_tree.loc[arbre_entoure]['longitude']\n",
    "loc_entou = (lat_entou,long_entou)"
   ]
  },
  {
   "cell_type": "code",
   "execution_count": 39,
   "id": "57f3f89e-109c-4caf-b95b-62d1494fe7c6",
   "metadata": {},
   "outputs": [
    {
     "data": {
      "text/plain": [
       "<folium.map.Marker at 0x7f85270a3a90>"
      ]
     },
     "execution_count": 39,
     "metadata": {},
     "output_type": "execute_result"
    }
   ],
   "source": [
    "folium.Marker(loc_iso,radius=2,color= 'green',\n",
    "              popup=\"Arbre le plus isolé_KD\",\n",
    "              icon=folium.Icon(icon='tree',prefix='fa',color='green'),).add_to(home_map)\n",
    "folium.Marker(loc_entou,radius=2,color= 'green',\n",
    "              popup=\"Arbre le plus entouré_KD\",\n",
    "              icon=folium.Icon(icon='tree',prefix='fa',color='green'),).add_to(home_map)"
   ]
  },
  {
   "cell_type": "markdown",
   "id": "b5a30c86-7455-4e76-9e1a-237e89200500",
   "metadata": {},
   "source": [
    "### La terre n'est pas plate ? BallTree"
   ]
  },
  {
   "cell_type": "markdown",
   "id": "d5ef4943-01e9-4530-a13c-ee8402a95606",
   "metadata": {},
   "source": [
    "Soit on converti les latitudes longitudes pour quelles fonctionnent sur un plan\n",
    "Ou utilisation de ball tree (module sklearn) qui prend en compte directement les coordonnées sphériques."
   ]
  },
  {
   "cell_type": "markdown",
   "id": "b8423f18-f701-457e-b043-b746cc2a2003",
   "metadata": {},
   "source": [
    "#### BallTree"
   ]
  },
  {
   "cell_type": "code",
   "execution_count": 40,
   "id": "6c8f0882-c6de-416f-b690-135e72470c00",
   "metadata": {},
   "outputs": [],
   "source": [
    "from sklearn.neighbors import BallTree"
   ]
  },
  {
   "cell_type": "code",
   "execution_count": 41,
   "id": "335ec527-b8b8-46b1-9d7d-a356e40cd126",
   "metadata": {},
   "outputs": [],
   "source": [
    "## array numpy et convertir en radians\n",
    "arbres_gps = df_kd[['latitude','longitude']].values\n",
    "arbres_radian = np.radians(arbres_gps)\n",
    "ball = BallTree(arbres_radian,metric='haversine')"
   ]
  },
  {
   "cell_type": "code",
   "execution_count": 42,
   "id": "22dc740e-1c96-4c78-a09e-da3b4859f55a",
   "metadata": {},
   "outputs": [
    {
     "data": {
      "text/plain": [
       "array([[45.19152834,  5.72388564],\n",
       "       [45.19151056,  5.7237525 ],\n",
       "       [45.1914885 ,  5.72360041],\n",
       "       ...,\n",
       "       [45.15307606,  5.76030815],\n",
       "       [45.15310648,  5.76041164],\n",
       "       [45.15312431,  5.76050852]])"
      ]
     },
     "execution_count": 42,
     "metadata": {},
     "output_type": "execute_result"
    }
   ],
   "source": [
    "df_kd[['latitude','longitude']].values"
   ]
  },
  {
   "cell_type": "code",
   "execution_count": 43,
   "id": "c7fcf309-22a8-4f5b-83be-775fd38645d7",
   "metadata": {},
   "outputs": [],
   "source": [
    "maison = np.array([[45.19101638257626,5.724418886125648]])\n",
    "maison = np.radians(maison)"
   ]
  },
  {
   "cell_type": "code",
   "execution_count": 44,
   "id": "1d2b4684-5d23-441e-9453-27b4639d19b3",
   "metadata": {},
   "outputs": [],
   "source": [
    "distance,indice = ball.query(maison,k=2)\n",
    "distance = distance * 6371 *1000"
   ]
  },
  {
   "cell_type": "markdown",
   "id": "45a32aab-473d-488f-9b8b-92590808cc69",
   "metadata": {},
   "source": [
    "On trouve des valeurs logiques avec google maps (70 metre par exemple)."
   ]
  },
  {
   "cell_type": "code",
   "execution_count": 45,
   "id": "98632ccb-32d5-40f5-a702-8149a2e96ab2",
   "metadata": {},
   "outputs": [
    {
     "data": {
      "text/plain": [
       "75.80518093638725"
      ]
     },
     "execution_count": 45,
     "metadata": {},
     "output_type": "execute_result"
    }
   ],
   "source": [
    "distance[0][1]"
   ]
  },
  {
   "cell_type": "markdown",
   "id": "cf770051-0331-45a1-bb7b-67416bd8d52d",
   "metadata": {},
   "source": [
    "#### Distance entre les arbres BallTree"
   ]
  },
  {
   "cell_type": "code",
   "execution_count": 46,
   "id": "245b5337-770b-474b-8c88-e165aaeefaf8",
   "metadata": {},
   "outputs": [
    {
     "name": "stdout",
     "output_type": "stream",
     "text": [
      "CPU times: user 9.49 s, sys: 0 ns, total: 9.49 s\n",
      "Wall time: 9.49 s\n"
     ]
    }
   ],
   "source": [
    "%%time\n",
    "\n",
    "liste_dist=[]\n",
    "for i in range(len(df_tree)):\n",
    "    d=0\n",
    "    distance=0\n",
    "    arbre = np.array([[df_tree.iloc[i]['latitude'],df_tree.iloc[i]['longitude']]])\n",
    "    arbre_rad = np.radians(arbre)\n",
    "    d, i = ball.query(arbre_rad,k=2)\n",
    "    liste_dist.append(d[0][1])"
   ]
  },
  {
   "cell_type": "code",
   "execution_count": 47,
   "id": "1e921e76-aa88-48b1-843f-42a36b8619a1",
   "metadata": {},
   "outputs": [
    {
     "name": "stdout",
     "output_type": "stream",
     "text": [
      "La distance moyenne entre deux arbres est de 6.2 metres\n"
     ]
    }
   ],
   "source": [
    "for i,dist in enumerate(liste_dist):\n",
    "    liste_dist[i] = dist * 6371\n",
    "moyenne_dist = sum(liste_dist)/len(liste_dist)\n",
    "print(f\"La distance moyenne entre deux arbres est de {moyenne_dist*1000:.1f} metres\")"
   ]
  },
  {
   "cell_type": "markdown",
   "id": "db15abbf-4c27-49ca-ac42-06430b0835bb",
   "metadata": {
    "tags": []
   },
   "source": [
    "#### Arbre le plus entouré/ le plus solitaire"
   ]
  },
  {
   "cell_type": "markdown",
   "id": "8d00f3b1-2d43-4bfd-b0df-5c782287ce9c",
   "metadata": {},
   "source": [
    "On recherche l'arbre avec le plus de voisins dans un rayon de 10 m  et inverse pour le plus solitaire.\n",
    "ball.query_radius ne fonctionne pas en mode itération arbre par arbre, il faut lui passer directement les coordonnées pour tout les arbres et on se débrouille après"
   ]
  },
  {
   "cell_type": "code",
   "execution_count": 48,
   "id": "fe8d24e4-d1de-46ab-b02b-4f7b52f5197c",
   "metadata": {},
   "outputs": [],
   "source": [
    "rayon = 20/6371000"
   ]
  },
  {
   "cell_type": "code",
   "execution_count": 49,
   "id": "5c5aa643-002c-42a0-80a0-2ba8d073667c",
   "metadata": {},
   "outputs": [
    {
     "name": "stdout",
     "output_type": "stream",
     "text": [
      "CPU times: user 276 ms, sys: 0 ns, total: 276 ms\n",
      "Wall time: 276 ms\n"
     ]
    }
   ],
   "source": [
    "%%time\n",
    "\n",
    "df_kd_rad = df_kd[['latitude','longitude']]\n",
    "df_kd_rad = np.radians(df_kd_rad)\n",
    "\n",
    "array = ball.query_radius(np.column_stack((df_kd_rad.latitude.values,df_kd_rad.longitude.values)),rayon)"
   ]
  },
  {
   "cell_type": "code",
   "execution_count": 50,
   "id": "2a3d076b-351c-4622-8740-80f24c8dee29",
   "metadata": {},
   "outputs": [
    {
     "data": {
      "text/plain": [
       "array([array([1, 0]), array([1, 5, 2, 0]), array([ 1,  5,  2, 10, 12]),\n",
       "       ..., array([31238, 31236, 31242, 31237, 31239, 31241, 31240]),\n",
       "       array([31238, 31236, 31242, 31237, 31239, 31241, 31240]),\n",
       "       array([31238, 31236, 31242, 31239, 31241, 31240])], dtype=object)"
      ]
     },
     "execution_count": 50,
     "metadata": {},
     "output_type": "execute_result"
    }
   ],
   "source": [
    "array"
   ]
  },
  {
   "cell_type": "code",
   "execution_count": 51,
   "id": "19f438c6-ba77-426b-8aa5-e3a798fa040d",
   "metadata": {},
   "outputs": [
    {
     "data": {
      "text/plain": [
       "116"
      ]
     },
     "execution_count": 51,
     "metadata": {},
     "output_type": "execute_result"
    }
   ],
   "source": [
    "listoflen = np.array([len(array) for array in array])\n",
    "entou = listoflen.argmax()\n",
    "listoflen.max()"
   ]
  },
  {
   "cell_type": "markdown",
   "id": "52aef4f9-86b1-4ea7-9888-7e9ad51aa789",
   "metadata": {},
   "source": [
    "Afficher sur la carte l'arbre avec ball_tree_voisin"
   ]
  },
  {
   "cell_type": "code",
   "execution_count": 52,
   "id": "e24f7ebf-2583-4273-92d2-38016d63fcca",
   "metadata": {},
   "outputs": [
    {
     "data": {
      "text/plain": [
       "<folium.map.Marker at 0x7f8523c128e0>"
      ]
     },
     "execution_count": 52,
     "metadata": {},
     "output_type": "execute_result"
    }
   ],
   "source": [
    "entou = listoflen.argmax()\n",
    "lat_entou = df_kd.iloc[entou]['latitude']\n",
    "long_entou = df_kd.iloc[entou]['longitude']\n",
    "loc_entou = (lat_entou,long_entou)\n",
    "\n",
    "folium.Marker(loc_entou,radius=2,color= 'green',\n",
    "              popup=\"entouré_ballTree\",\n",
    "              icon=folium.Icon(icon='tree',prefix='fa',color='green'),).add_to(home_map)\n",
    "\n",
    "# cette méthode pour le plus solitaire ne fonctionne pas vraiment car il ne discrimine pas entre les arbres solitaires. \n",
    "# La méthode par la distance est plus juste\n",
    "\n",
    "solo = listoflen.argmin()\n",
    "\n",
    "lat_iso = df_kd.iloc[solo]['latitude']\n",
    "long_iso = df_kd.iloc[solo]['longitude']\n",
    "loc_iso = (lat_iso,long_iso)\n",
    "\n",
    "folium.Marker(loc_iso,radius=2,color= 'green',\n",
    "              popup=\"solo_ballTree\",\n",
    "              icon=folium.Icon(icon='tree',prefix='fa',color='green'),).add_to(home_map)"
   ]
  },
  {
   "cell_type": "markdown",
   "id": "5e926f5b-a1ab-42a9-8819-5467cbf6ad17",
   "metadata": {},
   "source": [
    "### Conclusion"
   ]
  },
  {
   "cell_type": "code",
   "execution_count": 53,
   "id": "e9ac2b36-a9e6-47af-8ce6-572441345b0c",
   "metadata": {},
   "outputs": [
    {
     "data": {
      "text/html": [
       "<div style=\"width:100%;\"><div style=\"position:relative;width:100%;height:0;padding-bottom:60%;\"><span style=\"color:#565656\">Make this Notebook Trusted to load map: File -> Trust Notebook</span><iframe src=\"about:blank\" style=\"position:absolute;width:100%;height:100%;left:0;top:0;border:none !important;\" data-html=%3C%21DOCTYPE%20html%3E%0A%3Chead%3E%20%20%20%20%0A%20%20%20%20%3Cmeta%20http-equiv%3D%22content-type%22%20content%3D%22text/html%3B%20charset%3DUTF-8%22%20/%3E%0A%20%20%20%20%0A%20%20%20%20%20%20%20%20%3Cscript%3E%0A%20%20%20%20%20%20%20%20%20%20%20%20L_NO_TOUCH%20%3D%20false%3B%0A%20%20%20%20%20%20%20%20%20%20%20%20L_DISABLE_3D%20%3D%20false%3B%0A%20%20%20%20%20%20%20%20%3C/script%3E%0A%20%20%20%20%0A%20%20%20%20%3Cstyle%3Ehtml%2C%20body%20%7Bwidth%3A%20100%25%3Bheight%3A%20100%25%3Bmargin%3A%200%3Bpadding%3A%200%3B%7D%3C/style%3E%0A%20%20%20%20%3Cstyle%3E%23map%20%7Bposition%3Aabsolute%3Btop%3A0%3Bbottom%3A0%3Bright%3A0%3Bleft%3A0%3B%7D%3C/style%3E%0A%20%20%20%20%3Cscript%20src%3D%22https%3A//cdn.jsdelivr.net/npm/leaflet%401.6.0/dist/leaflet.js%22%3E%3C/script%3E%0A%20%20%20%20%3Cscript%20src%3D%22https%3A//code.jquery.com/jquery-1.12.4.min.js%22%3E%3C/script%3E%0A%20%20%20%20%3Cscript%20src%3D%22https%3A//maxcdn.bootstrapcdn.com/bootstrap/3.2.0/js/bootstrap.min.js%22%3E%3C/script%3E%0A%20%20%20%20%3Cscript%20src%3D%22https%3A//cdnjs.cloudflare.com/ajax/libs/Leaflet.awesome-markers/2.0.2/leaflet.awesome-markers.js%22%3E%3C/script%3E%0A%20%20%20%20%3Clink%20rel%3D%22stylesheet%22%20href%3D%22https%3A//cdn.jsdelivr.net/npm/leaflet%401.6.0/dist/leaflet.css%22/%3E%0A%20%20%20%20%3Clink%20rel%3D%22stylesheet%22%20href%3D%22https%3A//maxcdn.bootstrapcdn.com/bootstrap/3.2.0/css/bootstrap.min.css%22/%3E%0A%20%20%20%20%3Clink%20rel%3D%22stylesheet%22%20href%3D%22https%3A//maxcdn.bootstrapcdn.com/bootstrap/3.2.0/css/bootstrap-theme.min.css%22/%3E%0A%20%20%20%20%3Clink%20rel%3D%22stylesheet%22%20href%3D%22https%3A//maxcdn.bootstrapcdn.com/font-awesome/4.6.3/css/font-awesome.min.css%22/%3E%0A%20%20%20%20%3Clink%20rel%3D%22stylesheet%22%20href%3D%22https%3A//cdnjs.cloudflare.com/ajax/libs/Leaflet.awesome-markers/2.0.2/leaflet.awesome-markers.css%22/%3E%0A%20%20%20%20%3Clink%20rel%3D%22stylesheet%22%20href%3D%22https%3A//cdn.jsdelivr.net/gh/python-visualization/folium/folium/templates/leaflet.awesome.rotate.min.css%22/%3E%0A%20%20%20%20%0A%20%20%20%20%20%20%20%20%20%20%20%20%3Cmeta%20name%3D%22viewport%22%20content%3D%22width%3Ddevice-width%2C%0A%20%20%20%20%20%20%20%20%20%20%20%20%20%20%20%20initial-scale%3D1.0%2C%20maximum-scale%3D1.0%2C%20user-scalable%3Dno%22%20/%3E%0A%20%20%20%20%20%20%20%20%20%20%20%20%3Cstyle%3E%0A%20%20%20%20%20%20%20%20%20%20%20%20%20%20%20%20%23map_09364a832c44484c8f7bc2c187520597%20%7B%0A%20%20%20%20%20%20%20%20%20%20%20%20%20%20%20%20%20%20%20%20position%3A%20relative%3B%0A%20%20%20%20%20%20%20%20%20%20%20%20%20%20%20%20%20%20%20%20width%3A%20100.0%25%3B%0A%20%20%20%20%20%20%20%20%20%20%20%20%20%20%20%20%20%20%20%20height%3A%20100.0%25%3B%0A%20%20%20%20%20%20%20%20%20%20%20%20%20%20%20%20%20%20%20%20left%3A%200.0%25%3B%0A%20%20%20%20%20%20%20%20%20%20%20%20%20%20%20%20%20%20%20%20top%3A%200.0%25%3B%0A%20%20%20%20%20%20%20%20%20%20%20%20%20%20%20%20%7D%0A%20%20%20%20%20%20%20%20%20%20%20%20%3C/style%3E%0A%20%20%20%20%20%20%20%20%0A%3C/head%3E%0A%3Cbody%3E%20%20%20%20%0A%20%20%20%20%0A%20%20%20%20%20%20%20%20%20%20%20%20%3Cdiv%20class%3D%22folium-map%22%20id%3D%22map_09364a832c44484c8f7bc2c187520597%22%20%3E%3C/div%3E%0A%20%20%20%20%20%20%20%20%0A%3C/body%3E%0A%3Cscript%3E%20%20%20%20%0A%20%20%20%20%0A%20%20%20%20%20%20%20%20%20%20%20%20var%20map_09364a832c44484c8f7bc2c187520597%20%3D%20L.map%28%0A%20%20%20%20%20%20%20%20%20%20%20%20%20%20%20%20%22map_09364a832c44484c8f7bc2c187520597%22%2C%0A%20%20%20%20%20%20%20%20%20%20%20%20%20%20%20%20%7B%0A%20%20%20%20%20%20%20%20%20%20%20%20%20%20%20%20%20%20%20%20center%3A%20%5B45.19108972346367%2C%205.724318356006014%5D%2C%0A%20%20%20%20%20%20%20%20%20%20%20%20%20%20%20%20%20%20%20%20crs%3A%20L.CRS.EPSG3857%2C%0A%20%20%20%20%20%20%20%20%20%20%20%20%20%20%20%20%20%20%20%20zoom%3A%2014%2C%0A%20%20%20%20%20%20%20%20%20%20%20%20%20%20%20%20%20%20%20%20zoomControl%3A%20true%2C%0A%20%20%20%20%20%20%20%20%20%20%20%20%20%20%20%20%20%20%20%20preferCanvas%3A%20false%2C%0A%20%20%20%20%20%20%20%20%20%20%20%20%20%20%20%20%7D%0A%20%20%20%20%20%20%20%20%20%20%20%20%29%3B%0A%0A%20%20%20%20%20%20%20%20%20%20%20%20%0A%0A%20%20%20%20%20%20%20%20%0A%20%20%20%20%0A%20%20%20%20%20%20%20%20%20%20%20%20var%20tile_layer_5b6dfc0afa604994b721b415856c8b37%20%3D%20L.tileLayer%28%0A%20%20%20%20%20%20%20%20%20%20%20%20%20%20%20%20%22https%3A//%7Bs%7D.tile.openstreetmap.org/%7Bz%7D/%7Bx%7D/%7By%7D.png%22%2C%0A%20%20%20%20%20%20%20%20%20%20%20%20%20%20%20%20%7B%22attribution%22%3A%20%22Data%20by%20%5Cu0026copy%3B%20%5Cu003ca%20href%3D%5C%22http%3A//openstreetmap.org%5C%22%5Cu003eOpenStreetMap%5Cu003c/a%5Cu003e%2C%20under%20%5Cu003ca%20href%3D%5C%22http%3A//www.openstreetmap.org/copyright%5C%22%5Cu003eODbL%5Cu003c/a%5Cu003e.%22%2C%20%22detectRetina%22%3A%20false%2C%20%22maxNativeZoom%22%3A%2018%2C%20%22maxZoom%22%3A%2018%2C%20%22minZoom%22%3A%200%2C%20%22noWrap%22%3A%20false%2C%20%22opacity%22%3A%201%2C%20%22subdomains%22%3A%20%22abc%22%2C%20%22tms%22%3A%20false%7D%0A%20%20%20%20%20%20%20%20%20%20%20%20%29.addTo%28map_09364a832c44484c8f7bc2c187520597%29%3B%0A%20%20%20%20%20%20%20%20%0A%20%20%20%20%0A%20%20%20%20%20%20%20%20%20%20%20%20var%20marker_d7186f9694734b6a80d63dbc9d07dc7a%20%3D%20L.marker%28%0A%20%20%20%20%20%20%20%20%20%20%20%20%20%20%20%20%5B45.19108972346367%2C%205.724318356006014%5D%2C%0A%20%20%20%20%20%20%20%20%20%20%20%20%20%20%20%20%7B%7D%0A%20%20%20%20%20%20%20%20%20%20%20%20%29.addTo%28map_09364a832c44484c8f7bc2c187520597%29%3B%0A%20%20%20%20%20%20%20%20%0A%20%20%20%20%0A%20%20%20%20%20%20%20%20%20%20%20%20var%20icon_0093cfcc7dae444e9e9773b2c811dc38%20%3D%20L.AwesomeMarkers.icon%28%0A%20%20%20%20%20%20%20%20%20%20%20%20%20%20%20%20%7B%22extraClasses%22%3A%20%22fa-rotate-0%22%2C%20%22icon%22%3A%20%22home%22%2C%20%22iconColor%22%3A%20%22white%22%2C%20%22markerColor%22%3A%20%22blue%22%2C%20%22prefix%22%3A%20%22fa%22%7D%0A%20%20%20%20%20%20%20%20%20%20%20%20%29%3B%0A%20%20%20%20%20%20%20%20%20%20%20%20marker_d7186f9694734b6a80d63dbc9d07dc7a.setIcon%28icon_0093cfcc7dae444e9e9773b2c811dc38%29%3B%0A%20%20%20%20%20%20%20%20%0A%20%20%20%20%0A%20%20%20%20%20%20%20%20var%20popup_02af93fbd2a54802a13d08fc35e8aa6a%20%3D%20L.popup%28%7B%22maxWidth%22%3A%20%22100%25%22%7D%29%3B%0A%0A%20%20%20%20%20%20%20%20%0A%20%20%20%20%20%20%20%20%20%20%20%20var%20html_408393caa5c047b788d35f382cf9417c%20%3D%20%24%28%60%3Cdiv%20id%3D%22html_408393caa5c047b788d35f382cf9417c%22%20style%3D%22width%3A%20100.0%25%3B%20height%3A%20100.0%25%3B%22%3EMaison%3C/div%3E%60%29%5B0%5D%3B%0A%20%20%20%20%20%20%20%20%20%20%20%20popup_02af93fbd2a54802a13d08fc35e8aa6a.setContent%28html_408393caa5c047b788d35f382cf9417c%29%3B%0A%20%20%20%20%20%20%20%20%0A%0A%20%20%20%20%20%20%20%20marker_d7186f9694734b6a80d63dbc9d07dc7a.bindPopup%28popup_02af93fbd2a54802a13d08fc35e8aa6a%29%0A%20%20%20%20%20%20%20%20%3B%0A%0A%20%20%20%20%20%20%20%20%0A%20%20%20%20%0A%20%20%20%20%0A%20%20%20%20%20%20%20%20%20%20%20%20var%20circle_8c1a89eca1f64bbba8be583853b8b7a6%20%3D%20L.circle%28%0A%20%20%20%20%20%20%20%20%20%20%20%20%20%20%20%20%5B45.1915283391192%2C%205.72388563804483%5D%2C%0A%20%20%20%20%20%20%20%20%20%20%20%20%20%20%20%20%7B%22bubblingMouseEvents%22%3A%20true%2C%20%22color%22%3A%20%22green%22%2C%20%22dashArray%22%3A%20null%2C%20%22dashOffset%22%3A%20null%2C%20%22fill%22%3A%20false%2C%20%22fillColor%22%3A%20%22green%22%2C%20%22fillOpacity%22%3A%200.2%2C%20%22fillRule%22%3A%20%22evenodd%22%2C%20%22lineCap%22%3A%20%22round%22%2C%20%22lineJoin%22%3A%20%22round%22%2C%20%22opacity%22%3A%201.0%2C%20%22radius%22%3A%202%2C%20%22stroke%22%3A%20true%2C%20%22weight%22%3A%203%7D%0A%20%20%20%20%20%20%20%20%20%20%20%20%29.addTo%28map_09364a832c44484c8f7bc2c187520597%29%3B%0A%20%20%20%20%20%20%20%20%0A%20%20%20%20%0A%20%20%20%20%20%20%20%20%20%20%20%20var%20circle_161efd2dcca44d249070fc9b5e8e97f0%20%3D%20L.circle%28%0A%20%20%20%20%20%20%20%20%20%20%20%20%20%20%20%20%5B45.1915105565097%2C%205.72375250258438%5D%2C%0A%20%20%20%20%20%20%20%20%20%20%20%20%20%20%20%20%7B%22bubblingMouseEvents%22%3A%20true%2C%20%22color%22%3A%20%22green%22%2C%20%22dashArray%22%3A%20null%2C%20%22dashOffset%22%3A%20null%2C%20%22fill%22%3A%20false%2C%20%22fillColor%22%3A%20%22green%22%2C%20%22fillOpacity%22%3A%200.2%2C%20%22fillRule%22%3A%20%22evenodd%22%2C%20%22lineCap%22%3A%20%22round%22%2C%20%22lineJoin%22%3A%20%22round%22%2C%20%22opacity%22%3A%201.0%2C%20%22radius%22%3A%202%2C%20%22stroke%22%3A%20true%2C%20%22weight%22%3A%203%7D%0A%20%20%20%20%20%20%20%20%20%20%20%20%29.addTo%28map_09364a832c44484c8f7bc2c187520597%29%3B%0A%20%20%20%20%20%20%20%20%0A%20%20%20%20%0A%20%20%20%20%20%20%20%20%20%20%20%20var%20circle_8c029841851b486f9ad5c1c1a7631881%20%3D%20L.circle%28%0A%20%20%20%20%20%20%20%20%20%20%20%20%20%20%20%20%5B45.1914884986843%2C%205.72360041065172%5D%2C%0A%20%20%20%20%20%20%20%20%20%20%20%20%20%20%20%20%7B%22bubblingMouseEvents%22%3A%20true%2C%20%22color%22%3A%20%22green%22%2C%20%22dashArray%22%3A%20null%2C%20%22dashOffset%22%3A%20null%2C%20%22fill%22%3A%20false%2C%20%22fillColor%22%3A%20%22green%22%2C%20%22fillOpacity%22%3A%200.2%2C%20%22fillRule%22%3A%20%22evenodd%22%2C%20%22lineCap%22%3A%20%22round%22%2C%20%22lineJoin%22%3A%20%22round%22%2C%20%22opacity%22%3A%201.0%2C%20%22radius%22%3A%202%2C%20%22stroke%22%3A%20true%2C%20%22weight%22%3A%203%7D%0A%20%20%20%20%20%20%20%20%20%20%20%20%29.addTo%28map_09364a832c44484c8f7bc2c187520597%29%3B%0A%20%20%20%20%20%20%20%20%0A%20%20%20%20%0A%20%20%20%20%20%20%20%20%20%20%20%20var%20circle_4ca2ae01ede3493cbef161d4e2ea5f87%20%3D%20L.circle%28%0A%20%20%20%20%20%20%20%20%20%20%20%20%20%20%20%20%5B45.1903535164362%2C%205.7249893049738%5D%2C%0A%20%20%20%20%20%20%20%20%20%20%20%20%20%20%20%20%7B%22bubblingMouseEvents%22%3A%20true%2C%20%22color%22%3A%20%22green%22%2C%20%22dashArray%22%3A%20null%2C%20%22dashOffset%22%3A%20null%2C%20%22fill%22%3A%20false%2C%20%22fillColor%22%3A%20%22green%22%2C%20%22fillOpacity%22%3A%200.2%2C%20%22fillRule%22%3A%20%22evenodd%22%2C%20%22lineCap%22%3A%20%22round%22%2C%20%22lineJoin%22%3A%20%22round%22%2C%20%22opacity%22%3A%201.0%2C%20%22radius%22%3A%202%2C%20%22stroke%22%3A%20true%2C%20%22weight%22%3A%203%7D%0A%20%20%20%20%20%20%20%20%20%20%20%20%29.addTo%28map_09364a832c44484c8f7bc2c187520597%29%3B%0A%20%20%20%20%20%20%20%20%0A%20%20%20%20%0A%20%20%20%20%20%20%20%20%20%20%20%20var%20circle_430e14f3a93347b996174a4a16bb0b35%20%3D%20L.circle%28%0A%20%20%20%20%20%20%20%20%20%20%20%20%20%20%20%20%5B45.1902981304664%2C%205.72483326305846%5D%2C%0A%20%20%20%20%20%20%20%20%20%20%20%20%20%20%20%20%7B%22bubblingMouseEvents%22%3A%20true%2C%20%22color%22%3A%20%22green%22%2C%20%22dashArray%22%3A%20null%2C%20%22dashOffset%22%3A%20null%2C%20%22fill%22%3A%20false%2C%20%22fillColor%22%3A%20%22green%22%2C%20%22fillOpacity%22%3A%200.2%2C%20%22fillRule%22%3A%20%22evenodd%22%2C%20%22lineCap%22%3A%20%22round%22%2C%20%22lineJoin%22%3A%20%22round%22%2C%20%22opacity%22%3A%201.0%2C%20%22radius%22%3A%202%2C%20%22stroke%22%3A%20true%2C%20%22weight%22%3A%203%7D%0A%20%20%20%20%20%20%20%20%20%20%20%20%29.addTo%28map_09364a832c44484c8f7bc2c187520597%29%3B%0A%20%20%20%20%20%20%20%20%0A%20%20%20%20%0A%20%20%20%20%20%20%20%20%20%20%20%20var%20circle_adb691e8b6484d41a675809d369d0f34%20%3D%20L.circle%28%0A%20%20%20%20%20%20%20%20%20%20%20%20%20%20%20%20%5B45.1914780048114%2C%205.72352810176153%5D%2C%0A%20%20%20%20%20%20%20%20%20%20%20%20%20%20%20%20%7B%22bubblingMouseEvents%22%3A%20true%2C%20%22color%22%3A%20%22green%22%2C%20%22dashArray%22%3A%20null%2C%20%22dashOffset%22%3A%20null%2C%20%22fill%22%3A%20false%2C%20%22fillColor%22%3A%20%22green%22%2C%20%22fillOpacity%22%3A%200.2%2C%20%22fillRule%22%3A%20%22evenodd%22%2C%20%22lineCap%22%3A%20%22round%22%2C%20%22lineJoin%22%3A%20%22round%22%2C%20%22opacity%22%3A%201.0%2C%20%22radius%22%3A%202%2C%20%22stroke%22%3A%20true%2C%20%22weight%22%3A%203%7D%0A%20%20%20%20%20%20%20%20%20%20%20%20%29.addTo%28map_09364a832c44484c8f7bc2c187520597%29%3B%0A%20%20%20%20%20%20%20%20%0A%20%20%20%20%0A%20%20%20%20%20%20%20%20%20%20%20%20var%20circle_095f32003087434c93e51da2f6c61390%20%3D%20L.circle%28%0A%20%20%20%20%20%20%20%20%20%20%20%20%20%20%20%20%5B45.1902579048051%2C%205.72480449652145%5D%2C%0A%20%20%20%20%20%20%20%20%20%20%20%20%20%20%20%20%7B%22bubblingMouseEvents%22%3A%20true%2C%20%22color%22%3A%20%22green%22%2C%20%22dashArray%22%3A%20null%2C%20%22dashOffset%22%3A%20null%2C%20%22fill%22%3A%20false%2C%20%22fillColor%22%3A%20%22green%22%2C%20%22fillOpacity%22%3A%200.2%2C%20%22fillRule%22%3A%20%22evenodd%22%2C%20%22lineCap%22%3A%20%22round%22%2C%20%22lineJoin%22%3A%20%22round%22%2C%20%22opacity%22%3A%201.0%2C%20%22radius%22%3A%202%2C%20%22stroke%22%3A%20true%2C%20%22weight%22%3A%203%7D%0A%20%20%20%20%20%20%20%20%20%20%20%20%29.addTo%28map_09364a832c44484c8f7bc2c187520597%29%3B%0A%20%20%20%20%20%20%20%20%0A%20%20%20%20%0A%20%20%20%20%20%20%20%20%20%20%20%20var%20circle_66b006c7a9224df1b98536b40ca82105%20%3D%20L.circle%28%0A%20%20%20%20%20%20%20%20%20%20%20%20%20%20%20%20%5B45.1903039186236%2C%205.72495273381898%5D%2C%0A%20%20%20%20%20%20%20%20%20%20%20%20%20%20%20%20%7B%22bubblingMouseEvents%22%3A%20true%2C%20%22color%22%3A%20%22green%22%2C%20%22dashArray%22%3A%20null%2C%20%22dashOffset%22%3A%20null%2C%20%22fill%22%3A%20false%2C%20%22fillColor%22%3A%20%22green%22%2C%20%22fillOpacity%22%3A%200.2%2C%20%22fillRule%22%3A%20%22evenodd%22%2C%20%22lineCap%22%3A%20%22round%22%2C%20%22lineJoin%22%3A%20%22round%22%2C%20%22opacity%22%3A%201.0%2C%20%22radius%22%3A%202%2C%20%22stroke%22%3A%20true%2C%20%22weight%22%3A%203%7D%0A%20%20%20%20%20%20%20%20%20%20%20%20%29.addTo%28map_09364a832c44484c8f7bc2c187520597%29%3B%0A%20%20%20%20%20%20%20%20%0A%20%20%20%20%0A%20%20%20%20%20%20%20%20%20%20%20%20var%20circle_b7448f7a2e6e4ffbb617894f0a1cc8a5%20%3D%20L.circle%28%0A%20%20%20%20%20%20%20%20%20%20%20%20%20%20%20%20%5B45.1914776505899%2C%205.72536122415717%5D%2C%0A%20%20%20%20%20%20%20%20%20%20%20%20%20%20%20%20%7B%22bubblingMouseEvents%22%3A%20true%2C%20%22color%22%3A%20%22green%22%2C%20%22dashArray%22%3A%20null%2C%20%22dashOffset%22%3A%20null%2C%20%22fill%22%3A%20false%2C%20%22fillColor%22%3A%20%22green%22%2C%20%22fillOpacity%22%3A%200.2%2C%20%22fillRule%22%3A%20%22evenodd%22%2C%20%22lineCap%22%3A%20%22round%22%2C%20%22lineJoin%22%3A%20%22round%22%2C%20%22opacity%22%3A%201.0%2C%20%22radius%22%3A%202%2C%20%22stroke%22%3A%20true%2C%20%22weight%22%3A%203%7D%0A%20%20%20%20%20%20%20%20%20%20%20%20%29.addTo%28map_09364a832c44484c8f7bc2c187520597%29%3B%0A%20%20%20%20%20%20%20%20%0A%20%20%20%20%0A%20%20%20%20%20%20%20%20%20%20%20%20var%20circle_536653b3338d4028b059948e1da89c0d%20%3D%20L.circle%28%0A%20%20%20%20%20%20%20%20%20%20%20%20%20%20%20%20%5B45.1902772420939%2C%205.72489037217259%5D%2C%0A%20%20%20%20%20%20%20%20%20%20%20%20%20%20%20%20%7B%22bubblingMouseEvents%22%3A%20true%2C%20%22color%22%3A%20%22green%22%2C%20%22dashArray%22%3A%20null%2C%20%22dashOffset%22%3A%20null%2C%20%22fill%22%3A%20false%2C%20%22fillColor%22%3A%20%22green%22%2C%20%22fillOpacity%22%3A%200.2%2C%20%22fillRule%22%3A%20%22evenodd%22%2C%20%22lineCap%22%3A%20%22round%22%2C%20%22lineJoin%22%3A%20%22round%22%2C%20%22opacity%22%3A%201.0%2C%20%22radius%22%3A%202%2C%20%22stroke%22%3A%20true%2C%20%22weight%22%3A%203%7D%0A%20%20%20%20%20%20%20%20%20%20%20%20%29.addTo%28map_09364a832c44484c8f7bc2c187520597%29%3B%0A%20%20%20%20%20%20%20%20%0A%20%20%20%20%0A%20%20%20%20%20%20%20%20%20%20%20%20var%20marker_b45e354300d847da946b06904dfa37c6%20%3D%20L.marker%28%0A%20%20%20%20%20%20%20%20%20%20%20%20%20%20%20%20%5B45.1848094542054%2C%205.74726613933871%5D%2C%0A%20%20%20%20%20%20%20%20%20%20%20%20%20%20%20%20%7B%22color%22%3A%20%22green%22%2C%20%22radius%22%3A%202%7D%0A%20%20%20%20%20%20%20%20%20%20%20%20%29.addTo%28map_09364a832c44484c8f7bc2c187520597%29%3B%0A%20%20%20%20%20%20%20%20%0A%20%20%20%20%0A%20%20%20%20%20%20%20%20%20%20%20%20var%20icon_53e6ff982e51474e8c3ce2d7a48bb4c6%20%3D%20L.AwesomeMarkers.icon%28%0A%20%20%20%20%20%20%20%20%20%20%20%20%20%20%20%20%7B%22extraClasses%22%3A%20%22fa-rotate-0%22%2C%20%22icon%22%3A%20%22tree%22%2C%20%22iconColor%22%3A%20%22white%22%2C%20%22markerColor%22%3A%20%22green%22%2C%20%22prefix%22%3A%20%22fa%22%7D%0A%20%20%20%20%20%20%20%20%20%20%20%20%29%3B%0A%20%20%20%20%20%20%20%20%20%20%20%20marker_b45e354300d847da946b06904dfa37c6.setIcon%28icon_53e6ff982e51474e8c3ce2d7a48bb4c6%29%3B%0A%20%20%20%20%20%20%20%20%0A%20%20%20%20%0A%20%20%20%20%20%20%20%20var%20popup_1df30b951bd1422186b2adaebc1be938%20%3D%20L.popup%28%7B%22maxWidth%22%3A%20%22100%25%22%7D%29%3B%0A%0A%20%20%20%20%20%20%20%20%0A%20%20%20%20%20%20%20%20%20%20%20%20var%20html_95ca2c0f072d4bdbbf1e7f3016f98039%20%3D%20%24%28%60%3Cdiv%20id%3D%22html_95ca2c0f072d4bdbbf1e7f3016f98039%22%20style%3D%22width%3A%20100.0%25%3B%20height%3A%20100.0%25%3B%22%3EArbre%20le%20plus%20isol%C3%A9%3C/div%3E%60%29%5B0%5D%3B%0A%20%20%20%20%20%20%20%20%20%20%20%20popup_1df30b951bd1422186b2adaebc1be938.setContent%28html_95ca2c0f072d4bdbbf1e7f3016f98039%29%3B%0A%20%20%20%20%20%20%20%20%0A%0A%20%20%20%20%20%20%20%20marker_b45e354300d847da946b06904dfa37c6.bindPopup%28popup_1df30b951bd1422186b2adaebc1be938%29%0A%20%20%20%20%20%20%20%20%3B%0A%0A%20%20%20%20%20%20%20%20%0A%20%20%20%20%0A%20%20%20%20%0A%20%20%20%20%20%20%20%20%20%20%20%20var%20marker_e5bc89b234f645d8bbecb7355f0982f6%20%3D%20L.marker%28%0A%20%20%20%20%20%20%20%20%20%20%20%20%20%20%20%20%5B45.1848094542054%2C%205.72437161544617%5D%2C%0A%20%20%20%20%20%20%20%20%20%20%20%20%20%20%20%20%7B%22color%22%3A%20%22green%22%2C%20%22radius%22%3A%202%7D%0A%20%20%20%20%20%20%20%20%20%20%20%20%29.addTo%28map_09364a832c44484c8f7bc2c187520597%29%3B%0A%20%20%20%20%20%20%20%20%0A%20%20%20%20%0A%20%20%20%20%20%20%20%20%20%20%20%20var%20icon_d3ece50b2615409fbd07620262441dd0%20%3D%20L.AwesomeMarkers.icon%28%0A%20%20%20%20%20%20%20%20%20%20%20%20%20%20%20%20%7B%22extraClasses%22%3A%20%22fa-rotate-0%22%2C%20%22icon%22%3A%20%22tree%22%2C%20%22iconColor%22%3A%20%22white%22%2C%20%22markerColor%22%3A%20%22green%22%2C%20%22prefix%22%3A%20%22fa%22%7D%0A%20%20%20%20%20%20%20%20%20%20%20%20%29%3B%0A%20%20%20%20%20%20%20%20%20%20%20%20marker_e5bc89b234f645d8bbecb7355f0982f6.setIcon%28icon_d3ece50b2615409fbd07620262441dd0%29%3B%0A%20%20%20%20%20%20%20%20%0A%20%20%20%20%0A%20%20%20%20%20%20%20%20var%20popup_c89375e8c87c4b54873b1bb030534802%20%3D%20L.popup%28%7B%22maxWidth%22%3A%20%22100%25%22%7D%29%3B%0A%0A%20%20%20%20%20%20%20%20%0A%20%20%20%20%20%20%20%20%20%20%20%20var%20html_369a5c43d7994c16b1306b4327788021%20%3D%20%24%28%60%3Cdiv%20id%3D%22html_369a5c43d7994c16b1306b4327788021%22%20style%3D%22width%3A%20100.0%25%3B%20height%3A%20100.0%25%3B%22%3EIsol%C3%A9_KD_distance%3C/div%3E%60%29%5B0%5D%3B%0A%20%20%20%20%20%20%20%20%20%20%20%20popup_c89375e8c87c4b54873b1bb030534802.setContent%28html_369a5c43d7994c16b1306b4327788021%29%3B%0A%20%20%20%20%20%20%20%20%0A%0A%20%20%20%20%20%20%20%20marker_e5bc89b234f645d8bbecb7355f0982f6.bindPopup%28popup_c89375e8c87c4b54873b1bb030534802%29%0A%20%20%20%20%20%20%20%20%3B%0A%0A%20%20%20%20%20%20%20%20%0A%20%20%20%20%0A%20%20%20%20%0A%20%20%20%20%20%20%20%20%20%20%20%20var%20marker_efb5eb811d6649f8b45dda48a42911ea%20%3D%20L.marker%28%0A%20%20%20%20%20%20%20%20%20%20%20%20%20%20%20%20%5B45.1915283391192%2C%205.76034690089422%5D%2C%0A%20%20%20%20%20%20%20%20%20%20%20%20%20%20%20%20%7B%22color%22%3A%20%22green%22%2C%20%22radius%22%3A%202%7D%0A%20%20%20%20%20%20%20%20%20%20%20%20%29.addTo%28map_09364a832c44484c8f7bc2c187520597%29%3B%0A%20%20%20%20%20%20%20%20%0A%20%20%20%20%0A%20%20%20%20%20%20%20%20%20%20%20%20var%20icon_c969f8319f5a4f0a8a039eca8dead5f6%20%3D%20L.AwesomeMarkers.icon%28%0A%20%20%20%20%20%20%20%20%20%20%20%20%20%20%20%20%7B%22extraClasses%22%3A%20%22fa-rotate-0%22%2C%20%22icon%22%3A%20%22tree%22%2C%20%22iconColor%22%3A%20%22white%22%2C%20%22markerColor%22%3A%20%22green%22%2C%20%22prefix%22%3A%20%22fa%22%7D%0A%20%20%20%20%20%20%20%20%20%20%20%20%29%3B%0A%20%20%20%20%20%20%20%20%20%20%20%20marker_efb5eb811d6649f8b45dda48a42911ea.setIcon%28icon_c969f8319f5a4f0a8a039eca8dead5f6%29%3B%0A%20%20%20%20%20%20%20%20%0A%20%20%20%20%0A%20%20%20%20%20%20%20%20var%20popup_0e0c3bf06cb74f58abc522e1bd9dc529%20%3D%20L.popup%28%7B%22maxWidth%22%3A%20%22100%25%22%7D%29%3B%0A%0A%20%20%20%20%20%20%20%20%0A%20%20%20%20%20%20%20%20%20%20%20%20var%20html_b1baddbd4c634f99bd0587f32f08c346%20%3D%20%24%28%60%3Cdiv%20id%3D%22html_b1baddbd4c634f99bd0587f32f08c346%22%20style%3D%22width%3A%20100.0%25%3B%20height%3A%20100.0%25%3B%22%3EArbre%20le%20plus%20isol%C3%A9_KD%3C/div%3E%60%29%5B0%5D%3B%0A%20%20%20%20%20%20%20%20%20%20%20%20popup_0e0c3bf06cb74f58abc522e1bd9dc529.setContent%28html_b1baddbd4c634f99bd0587f32f08c346%29%3B%0A%20%20%20%20%20%20%20%20%0A%0A%20%20%20%20%20%20%20%20marker_efb5eb811d6649f8b45dda48a42911ea.bindPopup%28popup_0e0c3bf06cb74f58abc522e1bd9dc529%29%0A%20%20%20%20%20%20%20%20%3B%0A%0A%20%20%20%20%20%20%20%20%0A%20%20%20%20%0A%20%20%20%20%0A%20%20%20%20%20%20%20%20%20%20%20%20var%20marker_b85c25b409f34610bbca252ca21de7dc%20%3D%20L.marker%28%0A%20%20%20%20%20%20%20%20%20%20%20%20%20%20%20%20%5B45.1772821848844%2C%205.72265138511798%5D%2C%0A%20%20%20%20%20%20%20%20%20%20%20%20%20%20%20%20%7B%22color%22%3A%20%22green%22%2C%20%22radius%22%3A%202%7D%0A%20%20%20%20%20%20%20%20%20%20%20%20%29.addTo%28map_09364a832c44484c8f7bc2c187520597%29%3B%0A%20%20%20%20%20%20%20%20%0A%20%20%20%20%0A%20%20%20%20%20%20%20%20%20%20%20%20var%20icon_c1c63a43ba8c4f31a764c81b8b911ec8%20%3D%20L.AwesomeMarkers.icon%28%0A%20%20%20%20%20%20%20%20%20%20%20%20%20%20%20%20%7B%22extraClasses%22%3A%20%22fa-rotate-0%22%2C%20%22icon%22%3A%20%22tree%22%2C%20%22iconColor%22%3A%20%22white%22%2C%20%22markerColor%22%3A%20%22green%22%2C%20%22prefix%22%3A%20%22fa%22%7D%0A%20%20%20%20%20%20%20%20%20%20%20%20%29%3B%0A%20%20%20%20%20%20%20%20%20%20%20%20marker_b85c25b409f34610bbca252ca21de7dc.setIcon%28icon_c1c63a43ba8c4f31a764c81b8b911ec8%29%3B%0A%20%20%20%20%20%20%20%20%0A%20%20%20%20%0A%20%20%20%20%20%20%20%20var%20popup_51d50df630a24c1abd05c19a0c0cc91c%20%3D%20L.popup%28%7B%22maxWidth%22%3A%20%22100%25%22%7D%29%3B%0A%0A%20%20%20%20%20%20%20%20%0A%20%20%20%20%20%20%20%20%20%20%20%20var%20html_357a388db459456d8e5d03ce2e5ed32d%20%3D%20%24%28%60%3Cdiv%20id%3D%22html_357a388db459456d8e5d03ce2e5ed32d%22%20style%3D%22width%3A%20100.0%25%3B%20height%3A%20100.0%25%3B%22%3EArbre%20le%20plus%20entour%C3%A9_KD%3C/div%3E%60%29%5B0%5D%3B%0A%20%20%20%20%20%20%20%20%20%20%20%20popup_51d50df630a24c1abd05c19a0c0cc91c.setContent%28html_357a388db459456d8e5d03ce2e5ed32d%29%3B%0A%20%20%20%20%20%20%20%20%0A%0A%20%20%20%20%20%20%20%20marker_b85c25b409f34610bbca252ca21de7dc.bindPopup%28popup_51d50df630a24c1abd05c19a0c0cc91c%29%0A%20%20%20%20%20%20%20%20%3B%0A%0A%20%20%20%20%20%20%20%20%0A%20%20%20%20%0A%20%20%20%20%0A%20%20%20%20%20%20%20%20%20%20%20%20var%20marker_638086933f6e427190f16e9b2276403e%20%3D%20L.marker%28%0A%20%20%20%20%20%20%20%20%20%20%20%20%20%20%20%20%5B45.1772481757153%2C%205.72185140736324%5D%2C%0A%20%20%20%20%20%20%20%20%20%20%20%20%20%20%20%20%7B%22color%22%3A%20%22green%22%2C%20%22radius%22%3A%202%7D%0A%20%20%20%20%20%20%20%20%20%20%20%20%29.addTo%28map_09364a832c44484c8f7bc2c187520597%29%3B%0A%20%20%20%20%20%20%20%20%0A%20%20%20%20%0A%20%20%20%20%20%20%20%20%20%20%20%20var%20icon_f2d1035bc0fb407db303e93d838e3440%20%3D%20L.AwesomeMarkers.icon%28%0A%20%20%20%20%20%20%20%20%20%20%20%20%20%20%20%20%7B%22extraClasses%22%3A%20%22fa-rotate-0%22%2C%20%22icon%22%3A%20%22tree%22%2C%20%22iconColor%22%3A%20%22white%22%2C%20%22markerColor%22%3A%20%22green%22%2C%20%22prefix%22%3A%20%22fa%22%7D%0A%20%20%20%20%20%20%20%20%20%20%20%20%29%3B%0A%20%20%20%20%20%20%20%20%20%20%20%20marker_638086933f6e427190f16e9b2276403e.setIcon%28icon_f2d1035bc0fb407db303e93d838e3440%29%3B%0A%20%20%20%20%20%20%20%20%0A%20%20%20%20%0A%20%20%20%20%20%20%20%20var%20popup_206ad2488fcc4839b87c1a19b473db08%20%3D%20L.popup%28%7B%22maxWidth%22%3A%20%22100%25%22%7D%29%3B%0A%0A%20%20%20%20%20%20%20%20%0A%20%20%20%20%20%20%20%20%20%20%20%20var%20html_7ff2a99faf8a45649d21cc3b4c8c7f11%20%3D%20%24%28%60%3Cdiv%20id%3D%22html_7ff2a99faf8a45649d21cc3b4c8c7f11%22%20style%3D%22width%3A%20100.0%25%3B%20height%3A%20100.0%25%3B%22%3Eentour%C3%A9_ballTree%3C/div%3E%60%29%5B0%5D%3B%0A%20%20%20%20%20%20%20%20%20%20%20%20popup_206ad2488fcc4839b87c1a19b473db08.setContent%28html_7ff2a99faf8a45649d21cc3b4c8c7f11%29%3B%0A%20%20%20%20%20%20%20%20%0A%0A%20%20%20%20%20%20%20%20marker_638086933f6e427190f16e9b2276403e.bindPopup%28popup_206ad2488fcc4839b87c1a19b473db08%29%0A%20%20%20%20%20%20%20%20%3B%0A%0A%20%20%20%20%20%20%20%20%0A%20%20%20%20%0A%20%20%20%20%0A%20%20%20%20%20%20%20%20%20%20%20%20var%20marker_77e0416c4ac94855a4d5f61d7439ecef%20%3D%20L.marker%28%0A%20%20%20%20%20%20%20%20%20%20%20%20%20%20%20%20%5B45.1920521734628%2C%205.72389233994162%5D%2C%0A%20%20%20%20%20%20%20%20%20%20%20%20%20%20%20%20%7B%22color%22%3A%20%22green%22%2C%20%22radius%22%3A%202%7D%0A%20%20%20%20%20%20%20%20%20%20%20%20%29.addTo%28map_09364a832c44484c8f7bc2c187520597%29%3B%0A%20%20%20%20%20%20%20%20%0A%20%20%20%20%0A%20%20%20%20%20%20%20%20%20%20%20%20var%20icon_17741b3b17ad4c6e9e5387a0a6d15520%20%3D%20L.AwesomeMarkers.icon%28%0A%20%20%20%20%20%20%20%20%20%20%20%20%20%20%20%20%7B%22extraClasses%22%3A%20%22fa-rotate-0%22%2C%20%22icon%22%3A%20%22tree%22%2C%20%22iconColor%22%3A%20%22white%22%2C%20%22markerColor%22%3A%20%22green%22%2C%20%22prefix%22%3A%20%22fa%22%7D%0A%20%20%20%20%20%20%20%20%20%20%20%20%29%3B%0A%20%20%20%20%20%20%20%20%20%20%20%20marker_77e0416c4ac94855a4d5f61d7439ecef.setIcon%28icon_17741b3b17ad4c6e9e5387a0a6d15520%29%3B%0A%20%20%20%20%20%20%20%20%0A%20%20%20%20%0A%20%20%20%20%20%20%20%20var%20popup_e0e3e788f52f4796a969677eb140253d%20%3D%20L.popup%28%7B%22maxWidth%22%3A%20%22100%25%22%7D%29%3B%0A%0A%20%20%20%20%20%20%20%20%0A%20%20%20%20%20%20%20%20%20%20%20%20var%20html_53ac938886e14f2186eac3a707de9083%20%3D%20%24%28%60%3Cdiv%20id%3D%22html_53ac938886e14f2186eac3a707de9083%22%20style%3D%22width%3A%20100.0%25%3B%20height%3A%20100.0%25%3B%22%3Esolo_ballTree%3C/div%3E%60%29%5B0%5D%3B%0A%20%20%20%20%20%20%20%20%20%20%20%20popup_e0e3e788f52f4796a969677eb140253d.setContent%28html_53ac938886e14f2186eac3a707de9083%29%3B%0A%20%20%20%20%20%20%20%20%0A%0A%20%20%20%20%20%20%20%20marker_77e0416c4ac94855a4d5f61d7439ecef.bindPopup%28popup_e0e3e788f52f4796a969677eb140253d%29%0A%20%20%20%20%20%20%20%20%3B%0A%0A%20%20%20%20%20%20%20%20%0A%20%20%20%20%0A%3C/script%3E onload=\"this.contentDocument.open();this.contentDocument.write(    decodeURIComponent(this.getAttribute('data-html')));this.contentDocument.close();\" allowfullscreen webkitallowfullscreen mozallowfullscreen></iframe></div></div>"
      ],
      "text/plain": [
       "<folium.folium.Map at 0x7f85272dba60>"
      ]
     },
     "execution_count": 53,
     "metadata": {},
     "output_type": "execute_result"
    }
   ],
   "source": [
    "home_map"
   ]
  },
  {
   "cell_type": "markdown",
   "id": "59a808e1-100d-4560-bd17-acf30d1ae12c",
   "metadata": {},
   "source": [
    "Concernant la distance, on retrouve des valeurs équivalentes entre les 3 méthodes : bruteforce haversine, kdtree haversine et ball tree haversine.\n",
    "Par contre pour les arbres isolés ou entourés, les valeurs ne convergent pas...\n",
    "\n",
    "Pour le plus isolé, la méthode brute sur la distance semble la meilleure selon les données OpenStreetMap\n",
    "Pour le plus entouré, les valeurs diffèrent en fonction du rayon choisi.\n",
    "Avec KDTree, la conversion des distances n'est pas directe \n",
    "Avec KDBall de sklearns, la conversion distance est réalisable plus facilement(division par rayon terrestre)."
   ]
  },
  {
   "cell_type": "code",
   "execution_count": null,
   "id": "e9c1b1d1-557e-47f8-98ca-30ec6783b756",
   "metadata": {},
   "outputs": [],
   "source": []
  }
 ],
 "metadata": {
  "kernelspec": {
   "display_name": "Python 3 (ipykernel)",
   "language": "python",
   "name": "python3"
  },
  "language_info": {
   "codemirror_mode": {
    "name": "ipython",
    "version": 3
   },
   "file_extension": ".py",
   "mimetype": "text/x-python",
   "name": "python",
   "nbconvert_exporter": "python",
   "pygments_lexer": "ipython3",
   "version": "3.9.7"
  }
 },
 "nbformat": 4,
 "nbformat_minor": 5
}
