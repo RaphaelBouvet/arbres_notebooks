{
 "cells": [
  {
   "cell_type": "code",
   "execution_count": 1,
   "id": "67cf295d-42b7-4bda-90ed-f439c0b104ce",
   "metadata": {
    "tags": []
   },
   "outputs": [],
   "source": [
    "import csv\n",
    "import operator\n",
    "filepath=\"../data/trees.csv\"\n",
    "with open(filepath,newline='') as csv_tree:\n",
    "    csv_reader=csv.reader(csv_tree)\n",
    "    liste_arbres=list(csv_reader)"
   ]
  },
  {
   "cell_type": "markdown",
   "id": "c8c0b979-1531-463c-801b-ba463b6ff3ef",
   "metadata": {},
   "source": [
    "# lecture première ligne(variable) et deuxième ligne(premières valeurs)"
   ]
  },
  {
   "cell_type": "code",
   "execution_count": 2,
   "id": "a9e95899-54e2-4af2-ba1e-d34576b12fea",
   "metadata": {},
   "outputs": [
    {
     "name": "stdout",
     "output_type": "stream",
     "text": [
      "['\\ufeffELEM_POINT_ID', 'CODE', 'NOM', 'GENRE', 'GENRE_DESC', 'CATEGORIE', 'CATEGORIE_DESC', 'SOUS_CATEGORIE', 'SOUS_CATEGORIE_DESC', 'CODE_PARENT', 'CODE_PARENT_DESC', 'ADR_SECTEUR', 'BIEN_REFERENCE', 'GENRE_BOTA', 'ESPECE', 'VARIETE', 'STADEDEDEVELOPPEMENT', 'EQUIPE', 'REMARQUES', 'ANNEEDEPLANTATION', 'RAISONDEPLANTATION', 'TRAITEMENTCHENILLES', 'COURRIER', 'IDENTIFIANTPLU', 'TYPEIMPLANTATIONPLU', 'INTITULEPROTECTIONPLU', 'ANNEEABATTAGE', 'ESSOUCHEMENT', 'DIAMETREARBRE', 'CAUSEABATTAGE', 'COLLECTIVITE', 'GeoJSON']\n",
      "['37993', 'ESP37969', 'ESP37969', 'VEG', 'VEGETATION', 'ESP01', 'Arbre', 'ESP065', \"Arbre d'enceintes fermées\", 'ESP37898', 'Maison des Collines Jard Poisat', '6', 'AR37969', '', '', '', '', '', '', '', '', '', '', '', '', '', '', '', '', '', '', '{\"type\":\"Point\",\"coordinates\":[5.76034690089422,45.1543159441061]}']\n"
     ]
    }
   ],
   "source": [
    "print(liste_arbres[0])\n",
    "print(liste_arbres[1])\n",
    "# représentent la ligne des variables et le premier arbre"
   ]
  },
  {
   "cell_type": "code",
   "execution_count": 3,
   "id": "716c437e-4c0d-4d60-82ad-99659d5b289d",
   "metadata": {},
   "outputs": [
    {
     "name": "stdout",
     "output_type": "stream",
     "text": [
      "CODE\n",
      "ESP37969\n"
     ]
    }
   ],
   "source": [
    "print(liste_arbres[0][1])\n",
    "print(liste_arbres[1][1])"
   ]
  },
  {
   "cell_type": "markdown",
   "id": "c321f0e9-c347-4c62-841c-16b09f3f2961",
   "metadata": {},
   "source": [
    "On enlève la liste des colonne pour la stocker dans une liste annexe appelée var"
   ]
  },
  {
   "cell_type": "code",
   "execution_count": 4,
   "id": "5e066ef2-abd9-46bc-a866-ae83e827690e",
   "metadata": {},
   "outputs": [],
   "source": [
    "var=liste_arbres.pop(0)"
   ]
  },
  {
   "cell_type": "code",
   "execution_count": 5,
   "id": "c4351d98-3fc8-44b9-926d-97701ccfbf1e",
   "metadata": {},
   "outputs": [
    {
     "name": "stdout",
     "output_type": "stream",
     "text": [
      "['', '', '', '', '', '', '', '', '', '', '', '', '', '2017', '2017', '2017', '2017', '2017', '2017', '2017', '2017', '2017', '2017', '2017', '2017', '2017', '2017', '2017', '2017', '2017', '2017', '2017', '2017', '2017', '2017', '2017', '2017', '2017', '2017', '2017', '2017', '2017', '2017', '2017', '2017', '2017', '2017', '2017', '2017', '2017']\n",
      "['1975', '1975', '1975', '1975', '1975', '1975', '1975', '1975', '1975', '1975', '1975', '1975', '1975', '1975', '1975', '1975', '1975', '1975', '1975', '1975', '1975', '2017', '2017', '2001', '2001', '2001', '2001', '2001', '2001', '2001', '2001', '2001', '2001', '2001', '2001', '2001', '2001', '2001', '2001', '2001', '2001', '2001', '2001', '2001', '2001', '2001', '2001', '2001', '2001', '2001']\n"
     ]
    }
   ],
   "source": [
    "# trouve indice annee de plantation\n",
    "indice=var.index(\"ANNEEDEPLANTATION\")\n",
    "list_annee_plant=[]\n",
    "for row in liste_arbres:\n",
    "    list_annee_plant.append(row[indice])\n",
    "print(list_annee_plant[:50])\n",
    "print(list_annee_plant[len(list_annee_plant)-50:])"
   ]
  },
  {
   "cell_type": "code",
   "execution_count": 6,
   "id": "404227b0-e879-4aa3-8e0a-e16aa55c5955",
   "metadata": {},
   "outputs": [
    {
     "name": "stdout",
     "output_type": "stream",
     "text": [
      "31243\n"
     ]
    }
   ],
   "source": [
    "nb_arbres=len(liste_arbres)\n",
    "print(nb_arbres)"
   ]
  },
  {
   "cell_type": "code",
   "execution_count": 7,
   "id": "87a2edd1-257f-4d86-bd5e-39b86c4888f9",
   "metadata": {},
   "outputs": [
    {
     "name": "stdout",
     "output_type": "stream",
     "text": [
      "442\n",
      "442\n"
     ]
    }
   ],
   "source": [
    "nb_anneeplant_vide= list_annee_plant.count('')\n",
    "print(nb_anneeplant_vide)\n",
    "nb_anneeplant_vide=0\n",
    "for tree in list_annee_plant:\n",
    "    if tree==\"\":\n",
    "        nb_anneeplant_vide += 1\n",
    "print(nb_anneeplant_vide)"
   ]
  },
  {
   "cell_type": "markdown",
   "id": "74523624-acd4-44a0-ac55-19a82f06e65a",
   "metadata": {
    "tags": []
   },
   "source": [
    "# Nombre d'arbres plantés en 1993"
   ]
  },
  {
   "cell_type": "code",
   "execution_count": 8,
   "id": "a7db300e-d67a-4f99-92fc-036e6ac88b14",
   "metadata": {},
   "outputs": [
    {
     "name": "stdout",
     "output_type": "stream",
     "text": [
      "Nombres d'arbres plantées en 1993 : 161\n"
     ]
    }
   ],
   "source": [
    "nb_plant_1993=list_annee_plant.count(\"1993\")\n",
    "print(f\"Nombres d'arbres plantées en 1993 : {nb_plant_1993}\")"
   ]
  },
  {
   "cell_type": "markdown",
   "id": "b1ed9d80-37a4-4602-9cf9-aaa6df204401",
   "metadata": {},
   "source": [
    "# Plus plus ancienne/récente année de plantation "
   ]
  },
  {
   "cell_type": "markdown",
   "id": "46739e36-32ed-4aea-87d5-bdc3e8b8aecc",
   "metadata": {},
   "source": [
    "On converti la liste d'année de plantation en int en enlevant les valeurs vides \"\".\n",
    "On récupère les années uniques par l'utilisation d'un set.\n",
    "Ainsi les fonctions min/max peuvent fonctionner correctement"
   ]
  },
  {
   "cell_type": "code",
   "execution_count": 9,
   "id": "041e3a84-233f-45c2-ad41-0664dd96ad4e",
   "metadata": {
    "tags": []
   },
   "outputs": [
    {
     "name": "stdout",
     "output_type": "stream",
     "text": [
      "Le plus vieux date de 1950 et le plus jeune de 2017\n"
     ]
    }
   ],
   "source": [
    "annee = [int(annee) for annee in list_annee_plant if annee.isdigit()]\n",
    "\n",
    "annee_uniques=set(annee)\n",
    "\n",
    "date_vielle_plant=min(annee_uniques)\n",
    "date_jeune_plant=max(annee_uniques)\n",
    "print(f\"Le plus vieux date de {date_vielle_plant} et le plus jeune de {date_jeune_plant}\")"
   ]
  },
  {
   "cell_type": "markdown",
   "id": "d0e7066b-a518-4880-a840-193f3da61bab",
   "metadata": {},
   "source": [
    "# Creation tuple, arbres chaque annéee et moyenne arbres/annee"
   ]
  },
  {
   "cell_type": "code",
   "execution_count": 10,
   "id": "f6702fd7-56f1-466c-9dd6-295df576292c",
   "metadata": {
    "tags": []
   },
   "outputs": [
    {
     "name": "stdout",
     "output_type": "stream",
     "text": [
      "En 1950, 422 ont étés plantés\n",
      "En 1951, 0 ont étés plantés\n",
      "En 1952, 0 ont étés plantés\n",
      "En 1953, 0 ont étés plantés\n",
      "En 1954, 0 ont étés plantés\n",
      "En 1955, 66 ont étés plantés\n",
      "En 1956, 0 ont étés plantés\n",
      "En 1957, 0 ont étés plantés\n",
      "En 1958, 0 ont étés plantés\n",
      "En 1959, 0 ont étés plantés\n",
      "En 1960, 745 ont étés plantés\n",
      "En 1961, 27 ont étés plantés\n",
      "En 1962, 0 ont étés plantés\n",
      "En 1963, 0 ont étés plantés\n",
      "En 1964, 7 ont étés plantés\n",
      "En 1965, 760 ont étés plantés\n",
      "En 1966, 95 ont étés plantés\n",
      "En 1967, 57 ont étés plantés\n",
      "En 1968, 116 ont étés plantés\n",
      "En 1969, 350 ont étés plantés\n",
      "En 1970, 1444 ont étés plantés\n",
      "En 1971, 75 ont étés plantés\n",
      "En 1972, 364 ont étés plantés\n",
      "En 1973, 34 ont étés plantés\n",
      "En 1974, 350 ont étés plantés\n",
      "En 1975, 3922 ont étés plantés\n",
      "En 1976, 972 ont étés plantés\n",
      "En 1977, 616 ont étés plantés\n",
      "En 1978, 912 ont étés plantés\n",
      "En 1979, 361 ont étés plantés\n",
      "En 1980, 1528 ont étés plantés\n",
      "En 1981, 644 ont étés plantés\n",
      "En 1982, 448 ont étés plantés\n",
      "En 1983, 333 ont étés plantés\n",
      "En 1984, 666 ont étés plantés\n",
      "En 1985, 990 ont étés plantés\n",
      "En 1986, 238 ont étés plantés\n",
      "En 1987, 771 ont étés plantés\n",
      "En 1988, 266 ont étés plantés\n",
      "En 1989, 307 ont étés plantés\n",
      "En 1990, 433 ont étés plantés\n",
      "En 1991, 146 ont étés plantés\n",
      "En 1992, 226 ont étés plantés\n",
      "En 1993, 161 ont étés plantés\n",
      "En 1994, 288 ont étés plantés\n",
      "En 1995, 781 ont étés plantés\n",
      "En 1996, 385 ont étés plantés\n",
      "En 1997, 238 ont étés plantés\n",
      "En 1998, 220 ont étés plantés\n",
      "En 1999, 603 ont étés plantés\n",
      "En 2000, 461 ont étés plantés\n",
      "En 2001, 1626 ont étés plantés\n",
      "En 2002, 341 ont étés plantés\n",
      "En 2003, 352 ont étés plantés\n",
      "En 2004, 352 ont étés plantés\n",
      "En 2005, 450 ont étés plantés\n",
      "En 2006, 616 ont étés plantés\n",
      "En 2007, 155 ont étés plantés\n",
      "En 2008, 219 ont étés plantés\n",
      "En 2009, 696 ont étés plantés\n",
      "En 2010, 467 ont étés plantés\n",
      "En 2011, 530 ont étés plantés\n",
      "En 2012, 338 ont étés plantés\n",
      "En 2013, 335 ont étés plantés\n",
      "En 2014, 881 ont étés plantés\n",
      "En 2015, 996 ont étés plantés\n",
      "En 2016, 347 ont étés plantés\n",
      "En 2017, 272 ont étés plantés\n",
      "En moyenne, 459.7 ont été plantés par année sur 67 ans\n"
     ]
    }
   ],
   "source": [
    "list_tu_arbres=[]\n",
    "sum_arbres = 0\n",
    "\n",
    "for year in range(date_vielle_plant,date_jeune_plant+1):\n",
    "    nb_arbres_annee = annee.count(year)\n",
    "    print(f\"En {year}, {nb_arbres_annee} ont étés plantés\")\n",
    "    sum_arbres += nb_arbres_annee\n",
    "    tu_arbres_annee=(year,nb_arbres_annee)\n",
    "    list_tu_arbres.append(tu_arbres_annee)\n",
    "    \n",
    "interval_annee = date_jeune_plant-date_vielle_plant\n",
    "moyenne_arbres_an = sum_arbres/interval_annee\n",
    "print(f\"En moyenne, {moyenne_arbres_an:.1f} ont été plantés par année sur {interval_annee} ans\")"
   ]
  },
  {
   "cell_type": "code",
   "execution_count": 11,
   "id": "94d09893-5cf7-4a32-806e-f8a8c32932fa",
   "metadata": {
    "tags": []
   },
   "outputs": [
    {
     "name": "stdout",
     "output_type": "stream",
     "text": [
      "(1975, 3922)\n"
     ]
    },
    {
     "data": {
      "text/plain": [
       "(1975, 3922)"
      ]
     },
     "execution_count": 11,
     "metadata": {},
     "output_type": "execute_result"
    }
   ],
   "source": [
    "maxi=(0,0)\n",
    "for arbre in list_tu_arbres:\n",
    "    if arbre[1]>maxi[1]:\n",
    "        maxi=arbre\n",
    "print(maxi)\n",
    "# ou en utilisant lambda \n",
    "max(list_tu_arbres,key=lambda item:item[1])"
   ]
  },
  {
   "cell_type": "code",
   "execution_count": 12,
   "id": "e5949806-00e0-4ff9-91ca-e9ce1af8a21a",
   "metadata": {},
   "outputs": [
    {
     "name": "stdout",
     "output_type": "stream",
     "text": [
      "19 13\n"
     ]
    }
   ],
   "source": [
    "plantation_indice=var.index(\"ANNEEDEPLANTATION\")\n",
    "gerne_indice=var.index(\"GENRE_BOTA\")\n",
    "print(plantation_indice,gerne_indice)"
   ]
  },
  {
   "cell_type": "code",
   "execution_count": 13,
   "id": "72f07113-4eea-437e-ae9c-3d4d5ead7c22",
   "metadata": {},
   "outputs": [],
   "source": [
    "list_gerne=[]\n",
    "for tree in liste_arbres:\n",
    "    list_gerne.append(tree[gerne_indice])\n",
    "\n",
    "list_gerne = [tree[gerne_indice] for tree in liste_arbres]    \n",
    "    \n",
    "list_tu_arbres_gerne=[]\n",
    "for i in range(1,len(liste_arbres)):\n",
    "    tu_annee_gerne=(liste_arbres[i][plantation_indice],liste_arbres[i][gerne_indice])\n",
    "    list_tu_arbres_gerne.append(tu_annee_gerne)\n",
    "\n",
    "\n",
    "list_tu_arbres_gerne =[(tree[19],tree[13]) for tree in liste_arbres if tree[13]!=\"\" and tree[19].isdigit() ]"
   ]
  },
  {
   "cell_type": "markdown",
   "id": "ce6a4009-2bdb-4f1b-b16b-c9d619f681a9",
   "metadata": {},
   "source": [
    "# Nombre d'arbres avec gerne manquant"
   ]
  },
  {
   "cell_type": "code",
   "execution_count": 14,
   "id": "4826f641-97bf-45a0-b8bc-2b1771e2ab2d",
   "metadata": {},
   "outputs": [
    {
     "name": "stdout",
     "output_type": "stream",
     "text": [
      "Il y a 515 arbres avec les données de gerne manquant\n"
     ]
    }
   ],
   "source": [
    "count_arbres_nongerne=0\n",
    "for tree in liste_arbres:\n",
    "    if tree[13]==\"\":\n",
    "        count_arbres_nongerne +=1\n",
    "print(f\"Il y a {count_arbres_nongerne} arbres avec les données de gerne manquant\")"
   ]
  },
  {
   "cell_type": "markdown",
   "id": "7fb53ce6-cf98-44a1-8845-2de69126794a",
   "metadata": {},
   "source": [
    "# Plots nb arbres par année "
   ]
  },
  {
   "cell_type": "code",
   "execution_count": 15,
   "id": "73f1db13-c92f-4129-bd41-04a0ee0cc0cc",
   "metadata": {},
   "outputs": [
    {
     "name": "stdout",
     "output_type": "stream",
     "text": [
      "[(1950, 422), (1951, 0), (1952, 0), (1953, 0), (1954, 0), (1955, 66), (1956, 0), (1957, 0), (1958, 0), (1959, 0), (1960, 745), (1961, 27), (1962, 0), (1963, 0), (1964, 7), (1965, 760), (1966, 95), (1967, 57), (1968, 116), (1969, 350), (1970, 1444), (1971, 75), (1972, 364), (1973, 34), (1974, 350), (1975, 3922), (1976, 972), (1977, 616), (1978, 912), (1979, 361), (1980, 1528), (1981, 644), (1982, 448), (1983, 333), (1984, 666), (1985, 990), (1986, 238), (1987, 771), (1988, 266), (1989, 307), (1990, 433), (1991, 146), (1992, 226), (1993, 161), (1994, 288), (1995, 781), (1996, 385), (1997, 238), (1998, 220), (1999, 603), (2000, 461), (2001, 1626), (2002, 341), (2003, 352), (2004, 352), (2005, 450), (2006, 616), (2007, 155), (2008, 219), (2009, 696), (2010, 467), (2011, 530), (2012, 338), (2013, 335), (2014, 881), (2015, 996), (2016, 347), (2017, 272)]\n"
     ]
    },
    {
     "data": {
      "text/plain": [
       "Text(0.5, 1.0, \"Nombre d'arbres plantés par année\")"
      ]
     },
     "execution_count": 15,
     "metadata": {},
     "output_type": "execute_result"
    },
    {
     "data": {
      "image/png": "[encoded data removed]",
      "text/plain": [
       "<Figure size 432x288 with 1 Axes>"
      ]
     },
     "metadata": {
      "needs_background": "light"
     },
     "output_type": "display_data"
    }
   ],
   "source": [
    "import matplotlib.pyplot as plt\n",
    "print(list_tu_arbres)\n",
    "x=[int(list_tu_arbres[i][0]) for i in range(len(list_tu_arbres))]\n",
    "y=[list_tu_arbres[i][1] for i in range(len(list_tu_arbres))]\n",
    "plt.plot(x,y)\n",
    "plt.xlabel('année de plantation')\n",
    "plt.xticks([i for i in range(1950,2018,5)],rotation=90)\n",
    "plt.ylabel(\"Nombre d'arbres plantés\")\n",
    "plt.title(\"Nombre d'arbres plantés par année\")"
   ]
  },
  {
   "cell_type": "code",
   "execution_count": 16,
   "id": "8b090f7d-2dc9-4683-8f04-1da8088f9638",
   "metadata": {},
   "outputs": [
    {
     "data": {
      "image/png": "[encoded data removed]",
      "text/plain": [
       "<Figure size 432x288 with 1 Axes>"
      ]
     },
     "metadata": {
      "needs_background": "light"
     },
     "output_type": "display_data"
    }
   ],
   "source": [
    "plt.bar(x,y)\n",
    "plt.show()\n",
    "#faire la même chose avec hist()?"
   ]
  },
  {
   "cell_type": "markdown",
   "id": "77349be0-1314-4069-b5ce-88b4fc01fe39",
   "metadata": {},
   "source": [
    "# histograme avec hist()"
   ]
  },
  {
   "cell_type": "code",
   "execution_count": 17,
   "id": "d7ae462f-84e9-4451-a6ce-fd84b565b9c9",
   "metadata": {},
   "outputs": [
    {
     "data": {
      "image/png": "[encoded data removed]",
      "text/plain": [
       "<Figure size 432x288 with 1 Axes>"
      ]
     },
     "metadata": {
      "needs_background": "light"
     },
     "output_type": "display_data"
    }
   ],
   "source": [
    "list_annee_plant.sort()\n",
    "plt.hist(list_annee_plant,bins=67)\n",
    "plt.xticks(rotation=45)\n",
    "plt.show()"
   ]
  },
  {
   "cell_type": "markdown",
   "id": "30f27c28-615b-4bb2-91df-7e2bd24b5995",
   "metadata": {},
   "source": [
    "# Rangement des listes de tuples par ordre décroissant"
   ]
  },
  {
   "cell_type": "code",
   "execution_count": 18,
   "id": "17cc0458-520d-4862-b891-2dffc37da9c1",
   "metadata": {},
   "outputs": [],
   "source": [
    "ord_arbres=list(list_tu_arbres)\n",
    "ord_arbres.reverse()  # liste ini déjà triée par année "
   ]
  },
  {
   "cell_type": "code",
   "execution_count": 19,
   "id": "d46ddfb5-6af8-4ac8-a5a0-f6115d1daab4",
   "metadata": {
    "tags": []
   },
   "outputs": [],
   "source": [
    "list_tu_arbres_gerne.reverse()"
   ]
  },
  {
   "cell_type": "markdown",
   "id": "05020fdf-aed9-4fe2-8cc4-3348a741e983",
   "metadata": {
    "tags": []
   },
   "source": [
    "# Meilleur maire de Grenoble"
   ]
  },
  {
   "cell_type": "code",
   "execution_count": 20,
   "id": "462aa530-f2d3-4ba0-bd4d-63a57627159e",
   "metadata": {},
   "outputs": [
    {
     "name": "stdout",
     "output_type": "stream",
     "text": [
      "[(1950, 422), (1951, 0), (1952, 0), (1953, 0), (1954, 0), (1955, 66), (1956, 0), (1957, 0), (1958, 0), (1959, 0), (1960, 745), (1961, 27), (1962, 0), (1963, 0), (1964, 7), (1965, 760), (1966, 95), (1967, 57), (1968, 116), (1969, 350), (1970, 1444), (1971, 75), (1972, 364), (1973, 34), (1974, 350), (1975, 3922), (1976, 972), (1977, 616), (1978, 912), (1979, 361), (1980, 1528), (1981, 644), (1982, 448), (1983, 333), (1984, 666), (1985, 990), (1986, 238), (1987, 771), (1988, 266), (1989, 307), (1990, 433), (1991, 146), (1992, 226), (1993, 161), (1994, 288), (1995, 781), (1996, 385), (1997, 238), (1998, 220), (1999, 603), (2000, 461), (2001, 1626), (2002, 341), (2003, 352), (2004, 352), (2005, 450), (2006, 616), (2007, 155), (2008, 219), (2009, 696), (2010, 467), (2011, 530), (2012, 338), (2013, 335), (2014, 881), (2015, 996), (2016, 347), (2017, 272)]\n"
     ]
    }
   ],
   "source": [
    "print(list_tu_arbres)"
   ]
  },
  {
   "cell_type": "code",
   "execution_count": 21,
   "id": "cf21562b-9256-4834-b852-65909e4fecda",
   "metadata": {},
   "outputs": [
    {
     "name": "stdout",
     "output_type": "stream",
     "text": [
      "68\n"
     ]
    }
   ],
   "source": [
    "print(len(list_tu_arbres))"
   ]
  },
  {
   "cell_type": "code",
   "execution_count": 22,
   "id": "bc54691d-6f1e-4060-9412-af0092d35f9b",
   "metadata": {},
   "outputs": [],
   "source": [
    "def calcul_maire(debut,fin,liste):\n",
    "    quantite=0\n",
    "    l=len(liste)\n",
    "    for i in range(l):\n",
    "        if int(liste[i][0]) < fin and int(liste[i][0]) >= debut:\n",
    "            quantite += liste[i][1]\n",
    "    return quantite\n",
    "\n",
    "\n",
    "# def entree_maire():\n",
    "#     liste_maire=[]\n",
    "#     for i in range(6):\n",
    "#         print(\"nom\")\n",
    "#         nom=input()\n",
    "#         print(\"debut\")\n",
    "#         debut=int(input())\n",
    "#         print(\"fin\")\n",
    "#         fin=int(input())\n",
    "#         m={'nom':nom,'debut':debut,'fin':fin}\n",
    "#         liste_maire.append(m)\n",
    "#     return liste_maire\n",
    "\n",
    "# print(entree_maire())"
   ]
  },
  {
   "cell_type": "code",
   "execution_count": 23,
   "id": "ce8c8a5d-e294-4b4a-95d6-db66c2e7e3dc",
   "metadata": {},
   "outputs": [
    {
     "name": "stdout",
     "output_type": "stream",
     "text": [
      "[('martin', 488), ('michallon', 779), ('dubedout', 13048), ('carignon', 4825), ('destot', 9165), ('piolle', 2496)]\n",
      "le meilleur maire ecologiste de grenoble est dubedout avec 13048 arbres plantés\n"
     ]
    }
   ],
   "source": [
    "liste_maire_2=[{'nom': 'martin', 'debut': 1949, 'fin': 1959}, {'nom': 'michallon', 'debut': 1959, 'fin': 1965}, {'nom': 'dubedout', 'debut': 1965, 'fin': 1983}, {'nom': 'carignon', 'debut': 1983, 'fin': 1995}, {'nom': 'destot', 'debut': 1995, 'fin': 2014}, {'nom': 'piolle', 'debut': 2014, 'fin': 2022}]\n",
    "liste_maire_arbres=[]\n",
    "max_arbres=0\n",
    "for maire in liste_maire_2:\n",
    "    quanti= calcul_maire(maire['debut'],maire['fin'],list_tu_arbres)\n",
    "    maire_quanti=(maire['nom'],quanti)\n",
    "    liste_maire_arbres.append(maire_quanti)\n",
    "    if quanti>max_arbres:\n",
    "        top_maire=maire['nom']\n",
    "        max_arbres=quanti\n",
    "print(liste_maire_arbres) \n",
    "print(f\"le meilleur maire ecologiste de grenoble est {top_maire} avec {max_arbres} arbres plantés\")"
   ]
  },
  {
   "cell_type": "markdown",
   "id": "80a56cd4-58c6-4164-8513-f2e917fb2605",
   "metadata": {},
   "source": [
    "# Iteration 2\n",
    "## Identification gerne botanique"
   ]
  },
  {
   "cell_type": "code",
   "execution_count": 24,
   "id": "5b16a2c2-18f5-4f8d-a2e2-8945edfbc36c",
   "metadata": {},
   "outputs": [],
   "source": [
    "from numpy import unique"
   ]
  },
  {
   "cell_type": "markdown",
   "id": "0508ffb2-08e8-4e0c-bddc-b8346a818d04",
   "metadata": {
    "tags": []
   },
   "source": [
    "Avec numpy ou directement en utilisant un set"
   ]
  },
  {
   "cell_type": "code",
   "execution_count": 25,
   "id": "2cf5db9a-2775-4179-b8f5-d5afcf6ce4e4",
   "metadata": {},
   "outputs": [
    {
     "name": "stdout",
     "output_type": "stream",
     "text": [
      "['' 'Abies' 'Acer' 'Aesculus' 'Ailanthus' 'Albizia' 'Alnus' 'Amélanchier'\n",
      " 'Araucaria' 'Betula' 'Broussonetia' 'Buxus' 'Calocedrus' 'Carpinus'\n",
      " 'Castanea' 'Catalpa' 'Cedrela' 'Cedrus' 'Celtis' 'Cephalotaxus'\n",
      " 'Cercidiphyllum' 'Cercis' 'Chamaecyparis' 'Chimonanthus' 'Chionanthus'\n",
      " 'Chitalpa' 'Cladastris' 'Clerodendron' 'Cornus' 'Corylus' 'Cotinus'\n",
      " 'Crataegus' 'Cryptomeria' 'Cupressocyparis' 'Cupressus' 'Cydonia'\n",
      " 'Davidia' 'Diospyros' 'Eleagnus' 'Eriobotrya ' 'Eucalyptus' 'Fagus'\n",
      " 'Ficus' 'Fontanesia' 'Fraxinus' 'Ginkgo' 'Gleditsia' 'Gymnocladus'\n",
      " 'Halesia' 'Hovenia' 'Ilex' 'Juglans' 'Juniperus' 'Koelreuteria'\n",
      " 'Laburnum' 'Lagerstroemia' 'Larix' 'Libocedrus' 'Ligustrum' 'Liquidambar'\n",
      " 'Liriodendron' 'Lonicera' 'Maclura' 'Magnolia' 'Malus' 'Mespilus'\n",
      " 'Metasequoia' 'Morus' 'Nyssa' 'Olea' 'Ostrya' 'Parrotia' 'Paulownia'\n",
      " 'Phellodendron' 'Phillyrea' 'Photinia' 'Picea' 'Pinus' 'Pistacia'\n",
      " 'Platanus' 'Poncinos' 'Populus' 'Prunus' 'Ptelea' 'Pterocarya'\n",
      " 'Pteroceltis' 'Pterostyrax' 'Punica' 'Pyrus' 'Quercus' 'Rhamnus' 'Rhus'\n",
      " 'Robinia' 'Salix' 'Sambucus' 'Sciadopitys' 'Sequoia' 'Sequoiadendron'\n",
      " 'Sophora' 'Sorbopyrus' 'Sorbus' 'Staphylea' 'Sterculia' 'Styrax'\n",
      " 'Syringa' 'Taxodium' 'Taxus' 'Tetradium' 'Thuja' 'Tilia' 'Trachycarpus'\n",
      " 'Ulmus' 'Zelkova']\n",
      "{'', 'Maclura', 'Chimonanthus', 'Aesculus', 'Eucalyptus', 'Parrotia', 'Nyssa', 'Fraxinus', 'Taxus', 'Syringa', 'Pterostyrax', 'Cercidiphyllum', 'Taxodium', 'Gymnocladus', 'Halesia', 'Chitalpa', 'Trachycarpus', 'Punica', 'Picea', 'Ilex', 'Libocedrus', 'Crataegus', 'Hovenia', 'Cornus', 'Eriobotrya ', 'Olea', 'Cydonia', 'Albizia', 'Tetradium', 'Cotinus', 'Phellodendron', 'Salix', 'Castanea', 'Lagerstroemia', 'Buxus', 'Sorbopyrus', 'Sambucus', 'Cercis', 'Chionanthus', 'Broussonetia', 'Larix', 'Betula', 'Poncinos', 'Sophora', 'Malus', 'Paulownia', 'Ginkgo', 'Sequoia', 'Celtis', 'Pinus', 'Ostrya', 'Lonicera', 'Koelreuteria', 'Robinia', 'Diospyros', 'Acer', 'Morus', 'Rhamnus', 'Cephalotaxus', 'Ficus', 'Cupressus', 'Ligustrum', 'Pteroceltis', 'Magnolia', 'Ailanthus', 'Amélanchier', 'Metasequoia', 'Eleagnus', 'Sterculia', 'Cryptomeria', 'Calocedrus', 'Fagus', 'Populus', 'Corylus', 'Prunus', 'Staphylea', 'Davidia', 'Abies', 'Tilia', 'Araucaria', 'Pyrus', 'Liriodendron', 'Rhus', 'Cedrus', 'Ptelea', 'Pterocarya', 'Ulmus', 'Mespilus', 'Styrax', 'Sciadopitys', 'Gleditsia', 'Liquidambar', 'Cupressocyparis', 'Carpinus', 'Phillyrea', 'Fontanesia', 'Thuja', 'Alnus', 'Pistacia', 'Zelkova', 'Photinia', 'Juglans', 'Cladastris', 'Laburnum', 'Cedrela', 'Chamaecyparis', 'Quercus', 'Sorbus', 'Platanus', 'Sequoiadendron', 'Catalpa', 'Juniperus', 'Clerodendron'}\n"
     ]
    }
   ],
   "source": [
    "print(unique(list_gerne))\n",
    "gerne_u=set(list_gerne)\n",
    "print(gerne_u)"
   ]
  },
  {
   "cell_type": "code",
   "execution_count": 26,
   "id": "0516417e-51a0-4bfd-b8db-d9deb3f92ffc",
   "metadata": {},
   "outputs": [
    {
     "name": "stdout",
     "output_type": "stream",
     "text": [
      "il y a 112 genres differents d'arbres à grenoble\n"
     ]
    }
   ],
   "source": [
    "print(f\"il y a {len(unique(list_gerne))-1} genres differents d'arbres à grenoble\")"
   ]
  },
  {
   "cell_type": "markdown",
   "id": "245be034-1ba4-4d91-9648-d143cff4834a",
   "metadata": {},
   "source": [
    "## Creation liste gerne espece"
   ]
  },
  {
   "cell_type": "code",
   "execution_count": 27,
   "id": "dfd2965c-2bb1-424a-a579-d58e2ab5a4a0",
   "metadata": {},
   "outputs": [
    {
     "name": "stdout",
     "output_type": "stream",
     "text": [
      "346\n"
     ]
    }
   ],
   "source": [
    "espece_indice=var.index(\"ESPECE\")\n",
    "list_gerne_espece=[]\n",
    "list_gerne=[]\n",
    "list_espece=[]\n",
    "\n",
    "for i in range(1,len(liste_arbres)):\n",
    "    list_gerne.append(liste_arbres[i][gerne_indice])\n",
    "    \n",
    "for i in range(1,len(liste_arbres)):\n",
    "    list_espece.append(liste_arbres[i][espece_indice])\n",
    "    \n",
    "for i in range(len(list_gerne)):\n",
    "    g_e = list_gerne[i] + \" \" + list_espece[i]\n",
    "    list_gerne_espece.append(g_e)\n",
    "\n",
    "unique_ge=set(list_gerne_espece)\n",
    "print(len(unique_ge))"
   ]
  },
  {
   "cell_type": "markdown",
   "id": "06e2f808-e630-49a4-809e-f282d49c10a7",
   "metadata": {},
   "source": [
    "En mode liste de compréhension"
   ]
  },
  {
   "cell_type": "code",
   "execution_count": 28,
   "id": "46864f31-cee8-4d86-acda-20d1fbe3ace6",
   "metadata": {},
   "outputs": [
    {
     "name": "stdout",
     "output_type": "stream",
     "text": [
      "346\n"
     ]
    }
   ],
   "source": [
    "list_gerne = [liste_arbres[i][13] for i in range(1,len(liste_arbres))]\n",
    "list_espece = [tree[14] for i,tree in enumerate(liste_arbres[1:],start=1)]\n",
    "list_gerne_espece = [list_gerne[i]+\" \" + list_espece[i] for i,tree in enumerate(liste_arbres[1:])]\n",
    "unique_ge=set(list_gerne_espece)\n",
    "print(len(unique_ge))"
   ]
  },
  {
   "cell_type": "markdown",
   "id": "0d530129-3e2d-488d-81cc-99128716de41",
   "metadata": {},
   "source": [
    "## Structure dictionnaire"
   ]
  },
  {
   "cell_type": "code",
   "execution_count": 42,
   "id": "c7707f44-7f20-4881-a5a6-a31ad2adc3bc",
   "metadata": {},
   "outputs": [
    {
     "name": "stdout",
     "output_type": "stream",
     "text": [
      "CPU times: user 115 ms, sys: 0 ns, total: 115 ms\n",
      "Wall time: 116 ms\n"
     ]
    }
   ],
   "source": [
    "%%time\n",
    "list_dict=[]\n",
    "\n",
    "for genre in gerne_u:\n",
    "    dict_arbre={'genre':genre,'nombre':list_gerne.count(genre)}\n",
    "    list_dict.append(dict_arbre)\n"
   ]
  },
  {
   "cell_type": "code",
   "execution_count": 43,
   "id": "f30ad29c-cebd-42c5-9654-24d0b9474eda",
   "metadata": {
    "tags": []
   },
   "outputs": [
    {
     "name": "stdout",
     "output_type": "stream",
     "text": [
      "{'': 514, 'Platanus': 4663, 'Ginkgo': 111, 'Salix': 143, 'Liriodendron': 507, 'Catalpa': 89, 'Pyrus': 501, 'Robinia': 287, 'Acer': 5276, 'Zelkova': 233, 'Parrotia': 54, 'Fraxinus': 1506, 'Fagus': 267, 'Magnolia': 409, 'Taxus': 202, 'Alnus': 826, 'Picea': 252, 'Cupressus': 203, 'Sequoiadendron': 14, 'Pinus': 2118, 'Betula': 1247, 'Tilia': 1770, 'Cedrus': 407, 'Populus': 966, 'Celtis': 193, 'Thuja': 48, 'Sorbus': 88, 'Sophora': 426, 'Liquidambar': 809, 'Prunus': 996, 'Calocedrus': 4, 'Paulownia': 101, 'Gymnocladus': 9, 'Ulmus': 210, 'Corylus': 174, 'Morus': 100, 'Clerodendron': 5, 'Gleditsia': 352, 'Libocedrus': 47, 'Quercus': 677, 'Lagerstroemia': 50, 'Taxodium': 9, 'Amélanchier': 96, 'Cercidiphyllum': 7, 'Ilex': 24, 'Malus': 262, 'Cedrela': 46, 'Photinia': 10, 'Tetradium': 88, 'Koelreuteria': 271, 'Halesia': 9, 'Crataegus': 108, 'Aesculus': 459, 'Ptelea': 3, 'Chimonanthus': 3, 'Carpinus': 1296, 'Metasequoia': 81, 'Cercis': 351, 'Cornus': 23, 'Juglans': 66, 'Pteroceltis': 12, 'Broussonetia': 23, 'Phellodendron': 13, 'Cupressocyparis': 100, 'Cydonia': 11, 'Ficus': 19, 'Eleagnus': 19, 'Lonicera': 6, 'Albizia': 67, 'Pterocarya': 52, 'Davidia': 7, 'Buxus': 17, 'Cladastris': 45, 'Chionanthus': 33, 'Syringa': 41, 'Abies': 28, 'Sterculia': 1, 'Phillyrea': 3, 'Ailanthus': 80, 'Olea': 5, 'Sambucus': 33, 'Chamaecyparis': 373, 'Fontanesia': 4, 'Pterostyrax': 6, 'Rhamnus': 1, 'Diospyros': 17, 'Laburnum': 13, 'Ostrya': 44, 'Juniperus': 4, 'Araucaria': 2, 'Cryptomeria': 2, 'Eriobotrya ': 3, 'Cephalotaxus': 3, 'Mespilus': 7, 'Pistacia': 7, 'Cotinus': 11, 'Trachycarpus': 22, 'Rhus': 7, 'Castanea': 1, 'Maclura': 5, 'Hovenia': 2, 'Styrax': 3, 'Eucalyptus': 1, 'Staphylea': 1, 'Sequoia': 1, 'Chitalpa': 4, 'Ligustrum': 5, 'Larix': 5, 'Nyssa': 1, 'Punica': 3, 'Sciadopitys': 1, 'Sorbopyrus': 1, 'Poncinos': 1}\n",
      "CPU times: user 9.78 ms, sys: 0 ns, total: 9.78 ms\n",
      "Wall time: 9.3 ms\n"
     ]
    }
   ],
   "source": [
    "%%time\n",
    "# avec un dictionnaire (plus rapide ?)\n",
    "dico_arbre={}\n",
    "\n",
    "for arbre in list_gerne:\n",
    "    if arbre in dico_arbre:\n",
    "        dico_arbre[arbre] += 1\n",
    "    else:\n",
    "        dico_arbre[arbre] = 1\n",
    "\n",
    "print(dico_arbre)"
   ]
  },
  {
   "cell_type": "code",
   "execution_count": 31,
   "id": "ba639b4a-e28a-4d9b-a1ae-27526c04d150",
   "metadata": {
    "tags": []
   },
   "outputs": [
    {
     "name": "stdout",
     "output_type": "stream",
     "text": [
      "dict_keys(['', 'Platanus', 'Ginkgo', 'Salix', 'Liriodendron', 'Catalpa', 'Pyrus', 'Robinia', 'Acer', 'Zelkova', 'Parrotia', 'Fraxinus', 'Fagus', 'Magnolia', 'Taxus', 'Alnus', 'Picea', 'Cupressus', 'Sequoiadendron', 'Pinus', 'Betula', 'Tilia', 'Cedrus', 'Populus', 'Celtis', 'Thuja', 'Sorbus', 'Sophora', 'Liquidambar', 'Prunus', 'Calocedrus', 'Paulownia', 'Gymnocladus', 'Ulmus', 'Corylus', 'Morus', 'Clerodendron', 'Gleditsia', 'Libocedrus', 'Quercus', 'Lagerstroemia', 'Taxodium', 'Amélanchier', 'Cercidiphyllum', 'Ilex', 'Malus', 'Cedrela', 'Photinia', 'Tetradium', 'Koelreuteria', 'Halesia', 'Crataegus', 'Aesculus', 'Ptelea', 'Chimonanthus', 'Carpinus', 'Metasequoia', 'Cercis', 'Cornus', 'Juglans', 'Pteroceltis', 'Broussonetia', 'Phellodendron', 'Cupressocyparis', 'Cydonia', 'Ficus', 'Eleagnus', 'Lonicera', 'Albizia', 'Pterocarya', 'Davidia', 'Buxus', 'Cladastris', 'Chionanthus', 'Syringa', 'Abies', 'Sterculia', 'Phillyrea', 'Ailanthus', 'Olea', 'Sambucus', 'Chamaecyparis', 'Fontanesia', 'Pterostyrax', 'Rhamnus', 'Diospyros', 'Laburnum', 'Ostrya', 'Juniperus', 'Araucaria', 'Cryptomeria', 'Eriobotrya ', 'Cephalotaxus', 'Mespilus', 'Pistacia', 'Cotinus', 'Trachycarpus', 'Rhus', 'Castanea', 'Maclura', 'Hovenia', 'Styrax', 'Eucalyptus', 'Staphylea', 'Sequoia', 'Chitalpa', 'Ligustrum', 'Larix', 'Nyssa', 'Punica', 'Sciadopitys', 'Sorbopyrus', 'Poncinos'])\n"
     ]
    }
   ],
   "source": [
    "print(dico_arbre.keys())\n"
   ]
  },
  {
   "cell_type": "markdown",
   "id": "97087be8-ac9c-4538-b5e2-fa2970dbb1e8",
   "metadata": {},
   "source": [
    "##classement genre"
   ]
  },
  {
   "cell_type": "code",
   "execution_count": 32,
   "id": "fd751910-0d0d-4a73-8cf9-ba009b16ae96",
   "metadata": {},
   "outputs": [
    {
     "data": {
      "text/plain": [
       "{'Acer': 5276,\n",
       " 'Platanus': 4663,\n",
       " 'Pinus': 2118,\n",
       " 'Tilia': 1770,\n",
       " 'Fraxinus': 1506,\n",
       " 'Carpinus': 1296,\n",
       " 'Betula': 1247,\n",
       " 'Prunus': 996,\n",
       " 'Populus': 966,\n",
       " 'Alnus': 826,\n",
       " 'Liquidambar': 809,\n",
       " 'Quercus': 677,\n",
       " '': 514,\n",
       " 'Liriodendron': 507,\n",
       " 'Pyrus': 501,\n",
       " 'Aesculus': 459,\n",
       " 'Sophora': 426,\n",
       " 'Magnolia': 409,\n",
       " 'Cedrus': 407,\n",
       " 'Chamaecyparis': 373,\n",
       " 'Gleditsia': 352,\n",
       " 'Cercis': 351,\n",
       " 'Robinia': 287,\n",
       " 'Koelreuteria': 271,\n",
       " 'Fagus': 267,\n",
       " 'Malus': 262,\n",
       " 'Picea': 252,\n",
       " 'Zelkova': 233,\n",
       " 'Ulmus': 210,\n",
       " 'Cupressus': 203,\n",
       " 'Taxus': 202,\n",
       " 'Celtis': 193,\n",
       " 'Corylus': 174,\n",
       " 'Salix': 143,\n",
       " 'Ginkgo': 111,\n",
       " 'Crataegus': 108,\n",
       " 'Paulownia': 101,\n",
       " 'Morus': 100,\n",
       " 'Cupressocyparis': 100,\n",
       " 'Amélanchier': 96,\n",
       " 'Catalpa': 89,\n",
       " 'Sorbus': 88,\n",
       " 'Tetradium': 88,\n",
       " 'Metasequoia': 81,\n",
       " 'Ailanthus': 80,\n",
       " 'Albizia': 67,\n",
       " 'Juglans': 66,\n",
       " 'Parrotia': 54,\n",
       " 'Pterocarya': 52,\n",
       " 'Lagerstroemia': 50,\n",
       " 'Thuja': 48,\n",
       " 'Libocedrus': 47,\n",
       " 'Cedrela': 46,\n",
       " 'Cladastris': 45,\n",
       " 'Ostrya': 44,\n",
       " 'Syringa': 41,\n",
       " 'Chionanthus': 33,\n",
       " 'Sambucus': 33,\n",
       " 'Abies': 28,\n",
       " 'Ilex': 24,\n",
       " 'Cornus': 23,\n",
       " 'Broussonetia': 23,\n",
       " 'Trachycarpus': 22,\n",
       " 'Ficus': 19,\n",
       " 'Eleagnus': 19,\n",
       " 'Buxus': 17,\n",
       " 'Diospyros': 17,\n",
       " 'Sequoiadendron': 14,\n",
       " 'Phellodendron': 13,\n",
       " 'Laburnum': 13,\n",
       " 'Pteroceltis': 12,\n",
       " 'Cydonia': 11,\n",
       " 'Cotinus': 11,\n",
       " 'Photinia': 10,\n",
       " 'Gymnocladus': 9,\n",
       " 'Taxodium': 9,\n",
       " 'Halesia': 9,\n",
       " 'Cercidiphyllum': 7,\n",
       " 'Davidia': 7,\n",
       " 'Mespilus': 7,\n",
       " 'Pistacia': 7,\n",
       " 'Rhus': 7,\n",
       " 'Lonicera': 6,\n",
       " 'Pterostyrax': 6,\n",
       " 'Clerodendron': 5,\n",
       " 'Olea': 5,\n",
       " 'Maclura': 5,\n",
       " 'Ligustrum': 5,\n",
       " 'Larix': 5,\n",
       " 'Calocedrus': 4,\n",
       " 'Fontanesia': 4,\n",
       " 'Juniperus': 4,\n",
       " 'Chitalpa': 4,\n",
       " 'Ptelea': 3,\n",
       " 'Chimonanthus': 3,\n",
       " 'Phillyrea': 3,\n",
       " 'Eriobotrya ': 3,\n",
       " 'Cephalotaxus': 3,\n",
       " 'Styrax': 3,\n",
       " 'Punica': 3,\n",
       " 'Araucaria': 2,\n",
       " 'Cryptomeria': 2,\n",
       " 'Hovenia': 2,\n",
       " 'Sterculia': 1,\n",
       " 'Rhamnus': 1,\n",
       " 'Castanea': 1,\n",
       " 'Eucalyptus': 1,\n",
       " 'Staphylea': 1,\n",
       " 'Sequoia': 1,\n",
       " 'Nyssa': 1,\n",
       " 'Sciadopitys': 1,\n",
       " 'Sorbopyrus': 1,\n",
       " 'Poncinos': 1}"
      ]
     },
     "execution_count": 32,
     "metadata": {},
     "output_type": "execute_result"
    }
   ],
   "source": [
    "{k: v for k, v in sorted(dico_arbre.items(), key=lambda item: item[1],reverse=True)}\n",
    "#dictionnaire de comprehension key:valeur  "
   ]
  },
  {
   "cell_type": "markdown",
   "id": "7cbd0421-875e-40c3-9555-8731ba85113b",
   "metadata": {},
   "source": [
    "## Espèce la plus représentée & proportion de chaque espece"
   ]
  },
  {
   "cell_type": "code",
   "execution_count": 33,
   "id": "6c1bbe11-4f65-4e22-bfb2-1e9543fb0e0a",
   "metadata": {},
   "outputs": [
    {
     "name": "stdout",
     "output_type": "stream",
     "text": [
      "Genre: Acer Population : 5276 Proportion : 0.17\n"
     ]
    }
   ],
   "source": [
    "maxi_arbre = max(dico_arbre, key=dico_arbre.get)\n",
    "total = sum(dico_arbre.values())\n",
    "proportion = dico_arbre[maxi_arbre]/total\n",
    "print(f\"Genre: {maxi_arbre} Population : {dico_arbre[maxi_arbre]} Proportion : {proportion:.2f}\")"
   ]
  },
  {
   "cell_type": "code",
   "execution_count": 34,
   "id": "3fae093e-3e02-4011-a777-1b38cf0f867a",
   "metadata": {
    "tags": []
   },
   "outputs": [
    {
     "name": "stdout",
     "output_type": "stream",
     "text": [
      "Gerne :  Population 514 Proportion : 0.016\n",
      "Gerne : Platanus Population 4663 Proportion : 0.149\n",
      "Gerne : Ginkgo Population 111 Proportion : 0.004\n",
      "Gerne : Salix Population 143 Proportion : 0.005\n",
      "Gerne : Liriodendron Population 507 Proportion : 0.016\n",
      "Gerne : Catalpa Population 89 Proportion : 0.003\n",
      "Gerne : Pyrus Population 501 Proportion : 0.016\n",
      "Gerne : Robinia Population 287 Proportion : 0.009\n",
      "Gerne : Acer Population 5276 Proportion : 0.169\n",
      "Gerne : Zelkova Population 233 Proportion : 0.007\n",
      "Gerne : Parrotia Population 54 Proportion : 0.002\n",
      "Gerne : Fraxinus Population 1506 Proportion : 0.048\n",
      "Gerne : Fagus Population 267 Proportion : 0.009\n",
      "Gerne : Magnolia Population 409 Proportion : 0.013\n",
      "Gerne : Taxus Population 202 Proportion : 0.006\n",
      "Gerne : Alnus Population 826 Proportion : 0.026\n",
      "Gerne : Picea Population 252 Proportion : 0.008\n",
      "Gerne : Cupressus Population 203 Proportion : 0.006\n",
      "Gerne : Sequoiadendron Population 14 Proportion : 0.000\n",
      "Gerne : Pinus Population 2118 Proportion : 0.068\n",
      "Gerne : Betula Population 1247 Proportion : 0.040\n",
      "Gerne : Tilia Population 1770 Proportion : 0.057\n",
      "Gerne : Cedrus Population 407 Proportion : 0.013\n",
      "Gerne : Populus Population 966 Proportion : 0.031\n",
      "Gerne : Celtis Population 193 Proportion : 0.006\n",
      "Gerne : Thuja Population 48 Proportion : 0.002\n",
      "Gerne : Sorbus Population 88 Proportion : 0.003\n",
      "Gerne : Sophora Population 426 Proportion : 0.014\n",
      "Gerne : Liquidambar Population 809 Proportion : 0.026\n",
      "Gerne : Prunus Population 996 Proportion : 0.032\n",
      "Gerne : Calocedrus Population 4 Proportion : 0.000\n",
      "Gerne : Paulownia Population 101 Proportion : 0.003\n",
      "Gerne : Gymnocladus Population 9 Proportion : 0.000\n",
      "Gerne : Ulmus Population 210 Proportion : 0.007\n",
      "Gerne : Corylus Population 174 Proportion : 0.006\n",
      "Gerne : Morus Population 100 Proportion : 0.003\n",
      "Gerne : Clerodendron Population 5 Proportion : 0.000\n",
      "Gerne : Gleditsia Population 352 Proportion : 0.011\n",
      "Gerne : Libocedrus Population 47 Proportion : 0.002\n",
      "Gerne : Quercus Population 677 Proportion : 0.022\n",
      "Gerne : Lagerstroemia Population 50 Proportion : 0.002\n",
      "Gerne : Taxodium Population 9 Proportion : 0.000\n",
      "Gerne : Amélanchier Population 96 Proportion : 0.003\n",
      "Gerne : Cercidiphyllum Population 7 Proportion : 0.000\n",
      "Gerne : Ilex Population 24 Proportion : 0.001\n",
      "Gerne : Malus Population 262 Proportion : 0.008\n",
      "Gerne : Cedrela Population 46 Proportion : 0.001\n",
      "Gerne : Photinia Population 10 Proportion : 0.000\n",
      "Gerne : Tetradium Population 88 Proportion : 0.003\n",
      "Gerne : Koelreuteria Population 271 Proportion : 0.009\n",
      "Gerne : Halesia Population 9 Proportion : 0.000\n",
      "Gerne : Crataegus Population 108 Proportion : 0.003\n",
      "Gerne : Aesculus Population 459 Proportion : 0.015\n",
      "Gerne : Ptelea Population 3 Proportion : 0.000\n",
      "Gerne : Chimonanthus Population 3 Proportion : 0.000\n",
      "Gerne : Carpinus Population 1296 Proportion : 0.041\n",
      "Gerne : Metasequoia Population 81 Proportion : 0.003\n",
      "Gerne : Cercis Population 351 Proportion : 0.011\n",
      "Gerne : Cornus Population 23 Proportion : 0.001\n",
      "Gerne : Juglans Population 66 Proportion : 0.002\n",
      "Gerne : Pteroceltis Population 12 Proportion : 0.000\n",
      "Gerne : Broussonetia Population 23 Proportion : 0.001\n",
      "Gerne : Phellodendron Population 13 Proportion : 0.000\n",
      "Gerne : Cupressocyparis Population 100 Proportion : 0.003\n",
      "Gerne : Cydonia Population 11 Proportion : 0.000\n",
      "Gerne : Ficus Population 19 Proportion : 0.001\n",
      "Gerne : Eleagnus Population 19 Proportion : 0.001\n",
      "Gerne : Lonicera Population 6 Proportion : 0.000\n",
      "Gerne : Albizia Population 67 Proportion : 0.002\n",
      "Gerne : Pterocarya Population 52 Proportion : 0.002\n",
      "Gerne : Davidia Population 7 Proportion : 0.000\n",
      "Gerne : Buxus Population 17 Proportion : 0.001\n",
      "Gerne : Cladastris Population 45 Proportion : 0.001\n",
      "Gerne : Chionanthus Population 33 Proportion : 0.001\n",
      "Gerne : Syringa Population 41 Proportion : 0.001\n",
      "Gerne : Abies Population 28 Proportion : 0.001\n",
      "Gerne : Sterculia Population 1 Proportion : 0.000\n",
      "Gerne : Phillyrea Population 3 Proportion : 0.000\n",
      "Gerne : Ailanthus Population 80 Proportion : 0.003\n",
      "Gerne : Olea Population 5 Proportion : 0.000\n",
      "Gerne : Sambucus Population 33 Proportion : 0.001\n",
      "Gerne : Chamaecyparis Population 373 Proportion : 0.012\n",
      "Gerne : Fontanesia Population 4 Proportion : 0.000\n",
      "Gerne : Pterostyrax Population 6 Proportion : 0.000\n",
      "Gerne : Rhamnus Population 1 Proportion : 0.000\n",
      "Gerne : Diospyros Population 17 Proportion : 0.001\n",
      "Gerne : Laburnum Population 13 Proportion : 0.000\n",
      "Gerne : Ostrya Population 44 Proportion : 0.001\n",
      "Gerne : Juniperus Population 4 Proportion : 0.000\n",
      "Gerne : Araucaria Population 2 Proportion : 0.000\n",
      "Gerne : Cryptomeria Population 2 Proportion : 0.000\n",
      "Gerne : Eriobotrya  Population 3 Proportion : 0.000\n",
      "Gerne : Cephalotaxus Population 3 Proportion : 0.000\n",
      "Gerne : Mespilus Population 7 Proportion : 0.000\n",
      "Gerne : Pistacia Population 7 Proportion : 0.000\n",
      "Gerne : Cotinus Population 11 Proportion : 0.000\n",
      "Gerne : Trachycarpus Population 22 Proportion : 0.001\n",
      "Gerne : Rhus Population 7 Proportion : 0.000\n",
      "Gerne : Castanea Population 1 Proportion : 0.000\n",
      "Gerne : Maclura Population 5 Proportion : 0.000\n",
      "Gerne : Hovenia Population 2 Proportion : 0.000\n",
      "Gerne : Styrax Population 3 Proportion : 0.000\n",
      "Gerne : Eucalyptus Population 1 Proportion : 0.000\n",
      "Gerne : Staphylea Population 1 Proportion : 0.000\n",
      "Gerne : Sequoia Population 1 Proportion : 0.000\n",
      "Gerne : Chitalpa Population 4 Proportion : 0.000\n",
      "Gerne : Ligustrum Population 5 Proportion : 0.000\n",
      "Gerne : Larix Population 5 Proportion : 0.000\n",
      "Gerne : Nyssa Population 1 Proportion : 0.000\n",
      "Gerne : Punica Population 3 Proportion : 0.000\n",
      "Gerne : Sciadopitys Population 1 Proportion : 0.000\n",
      "Gerne : Sorbopyrus Population 1 Proportion : 0.000\n",
      "Gerne : Poncinos Population 1 Proportion : 0.000\n",
      "la proportion max pour un gerne est de 16.9 %\n"
     ]
    }
   ],
   "source": [
    "liste_proportion=[]\n",
    "for key in dico_arbre:\n",
    "    proportion = dico_arbre[key]/total\n",
    "    liste_proportion.append(proportion)\n",
    "    print(f\"Gerne : {key} Population {dico_arbre[key]} Proportion : {proportion:.3f}\")\n",
    "print(f\"la proportion max pour un gerne est de {(max(liste_proportion)*100):.1f} %\")"
   ]
  },
  {
   "cell_type": "markdown",
   "id": "9c2c19e8-d1d5-4076-bdaf-a8ba70b02938",
   "metadata": {},
   "source": [
    "## Objectifs metro arbres"
   ]
  },
  {
   "cell_type": "code",
   "execution_count": 35,
   "id": "cd189896-ec6e-4dca-b0ca-e666f18d86cb",
   "metadata": {},
   "outputs": [
    {
     "name": "stdout",
     "output_type": "stream",
     "text": [
      "0.003616925933038858\n",
      "3.2710928434277116\n"
     ]
    }
   ],
   "source": [
    "# calcul diversite nb_gerne/quantité totale ?\n",
    "total = sum(dico_arbre.values())\n",
    "nb_gerne = len(dico_arbre)\n",
    "diversity_index = nb_gerne/total\n",
    "print(diversity_index)\n",
    "\n",
    "import math\n",
    "def calcul_shannon_index(dico):\n",
    "    shannon = 0\n",
    "    total=total = sum(dico.values())\n",
    "    for key in dico:\n",
    "        pi = dico_arbre[key]/total\n",
    "        shannon += (pi*math.log(pi))\n",
    "    return - shannon\n",
    "\n",
    "print(calcul_shannon_index(dico_arbre))"
   ]
  },
  {
   "cell_type": "markdown",
   "id": "f04aaf6b-f125-4b53-bccf-83440c949804",
   "metadata": {},
   "source": [
    "## idem espèces"
   ]
  },
  {
   "cell_type": "code",
   "execution_count": 36,
   "id": "1bf362c7-ab58-409b-8e98-3bcb8de9149b",
   "metadata": {
    "tags": []
   },
   "outputs": [
    {
     "name": "stdout",
     "output_type": "stream",
     "text": [
      "{' ': 514, 'Platanus ': 69, 'Ginkgo biloba': 111, 'Salix ': 56, 'Liriodendron tulipifera': 506, 'Catalpa bignonoides': 89, 'Platanus acerifolia': 4422, 'Pyrus ': 3, 'Robinia pseudoacacia': 284, 'Acer grosseri': 3, 'Zelkova serrata': 231, 'Parrotia persica': 54, 'Fraxinus excelsior': 776, 'Fagus sylvatica': 267, 'Acer negundo': 177, 'Magnolia grandiflora': 330, 'Taxus baccata': 202, 'Alnus cordata': 550, 'Picea abies': 206, 'Cupressus arizonica': 60, 'Sequoiadendron giganteum': 8, 'Pyrus calleryana': 430, 'Pinus nigra': 1304, 'Betula verrucosa': 712, 'Tilia platyphyllos': 266, 'Acer pseudoplatanus': 1347, 'Tilia tomentosa': 1000, 'Acer platanoides': 1130, 'Cedrus deodara': 78, 'Pinus sylvestris': 567, 'Populus alba': 120, 'Celtis australis': 134, 'Tilia cordata': 257, 'Populus nigra': 493, 'Thuja ': 24, 'Sorbus aria': 44, 'Sophora japonica': 422, 'Acer cappadocicum': 198, 'Acer campestre': 845, 'Acer saccharinum': 507, 'Liquidambar styraciflua': 806, 'Prunus spinosa': 19, 'Cedrus atlantica': 316, 'Calocedrus decurrens': 4, 'Pinus wallichiana': 20, 'Prunus cerasus': 28, 'Paulownia tomentosa': 78, 'Tilia ': 94, 'Sorbus aucuparia': 5, 'Gymnocladus dioicus': 9, 'Ulmus minor': 144, 'Corylus colurna': 146, 'Prunus domestica': 21, 'Morus alba': 26, 'Betula nigra': 34, 'Acer ': 805, 'Clerodendron tricotonum': 5, 'Gleditsia triacanthos': 350, 'Libocedrus decurrens': 47, 'Quercus robur': 95, 'Lagerstroemia indica': 50, 'Taxodium distychum': 9, 'Amélanchier canadensis': 70, 'Quercus macrocarpa': 1, 'Cercidiphyllum japonicum': 6, 'Ilex aquifolium': 24, 'Malus floribunda': 132, 'Fraxinus ornus': 113, 'Cedrela sinensis': 46, 'Prunus avium': 146, 'Photinia villosa': 10, 'Paulownia fortunei': 23, 'Sorbus torminalis': 15, 'Prunus padus': 92, 'Tetradium danielli': 88, 'Fraxinus angustifolia': 165, 'Platanus platanor': 84, 'Thuja occidentalis': 6, 'Koelreuteria paniculata': 271, 'Halesia carolina': 8, 'Crataegus oxyacantha': 44, 'Morus nigra': 38, 'Aesculus hippocastanum': 432, 'Prunus serrulata': 425, 'Ptelea trifoliata': 3, 'Fraxinus americana': 113, 'Chimonanthus praecox': 3, 'Tilia mongolica': 24, 'Alnus spaethii': 78, 'Ulmus resista': 24, 'Alnus incana': 13, 'Amélanchier ovalis': 8, 'Alnus glutinosa': 184, 'Carpinus betulus': 1282, 'Betula alba': 97, 'Metasequoia glyptostroboides': 81, 'Malus sieboldii': 12, 'Cercis siliquastrum': 344, 'Acer ginnala': 49, 'Pyrus amygdaliformis': 10, 'Prunus subhirtella': 17, 'Acer buergerianum': 20, 'Cornus mas': 10, 'Quercus cerris': 225, 'Acer monspessulanum': 76, 'Corylus avellana': 24, 'Sorbus domestica': 4, 'Juglans regia': 28, 'Cedrus libani': 8, 'Populus simonii': 8, 'Salix viminalis': 7, 'Salix triandra': 5, 'Salix purpurea': 5, 'Salix caprea': 4, 'Pinus ': 222, 'Cupressus sempervirens': 140, 'Quercus ': 59, 'Prunus ': 90, 'Pteroceltis tatarinowii': 12, 'Crataegus lavallei': 4, 'Populus tremula': 17, 'Broussonetia papyrifera': 23, 'Phellodendron amurense': 13, 'Picea pungens': 13, 'Thuja plicata': 18, 'Betula pendula': 17, 'Magnolia soulangeana': 42, 'Quercus rubra': 25, 'Prunus cerasifera': 112, 'Crataegus splendens': 1, 'Cupressocyparis leylandii': 100, 'Salix alba': 48, 'Prunus armeniaca': 2, 'Cydonia oblonga': 10, 'Pyrus communis': 34, 'Prunus dulcis': 6, 'Ficus carica': 18, 'Fraxinus sieboldiana': 19, 'Fraxinus pensylvanica': 24, 'Quercus palustris': 17, 'Morus ': 11, 'Acer rubrum': 22, 'Malus tschonoskii': 13, 'Ulmus campestre': 16, 'Quercus castaneifolia': 63, 'Cercis sinensis': 1, 'Quercus heterophylla': 1, 'Eleagnus angustifolia': 19, 'Lonicera ': 3, 'Albizia jullibrissin': 67, 'Pterocarya fraxinifolia': 46, 'Cedrus ': 4, 'Davidia involucrata': 7, 'Prunus laurocerasus': 9, 'Fraxinus mandshurica': 18, 'Cornus florida': 6, 'Morus bombycis': 25, 'Buxus sempervirens': 17, 'Fraxinus quadrangulata': 1, 'Aesculus carnea': 20, 'Sorbus ': 12, 'Populus ': 100, 'Crataegus monogyna': 19, 'Cladastris lutea': 45, 'Chionanthus retusus': 31, 'Fraxinus velutina': 54, 'Malus perpetu': 24, 'Amélanchier lamarckii': 14, 'Syringa vulgaris': 31, 'Platanus orientalis': 88, 'Populus robusta': 221, 'Quercus suber': 17, 'Quercus ilex': 13, 'Abies nordmaniana': 20, 'Sterculia ': 1, 'Phillyrea latifolia': 3, 'Fraxinus mariesii': 7, 'Celtis sinensis': 45, 'Malus domestica': 63, 'Salix matsudana': 6, 'Ailanthus altissima': 80, 'Olea europaea': 5, 'Juglans nigra': 38, 'Sambucus nigra': 33, 'Cupressus nooktensis': 3, 'Acer capillipes': 15, 'Picea omorika': 4, 'Chamaecyparis lawsoniana': 370, 'Fontanesia phillyreoides': 4, 'Syringa amurensis': 8, 'Pterostyrax hispida': 6, 'Zelkova crenata': 2, 'Fraxinus ': 39, 'Pterocarya stenoptera': 6, 'Quercus frainetto': 31, 'Robinia platanoides': 1, 'Cornus controversa': 7, 'Syringa persica': 2, 'Magnolia kobus': 22, 'Magnolia liliflora': 1, 'Tilia henryana': 33, 'Magnolia ': 8, 'Rhamnus alaternus': 1, 'Abies concolor': 5, 'Quercus petraea': 101, 'Betula utilis': 361, 'Acer freemanii': 52, 'Salix babylonica': 7, 'Acer opalus': 1, 'Tilia americana': 88, 'Ulmus ': 11, 'Diospyros ': 2, 'Laburnum watereri': 1, 'Tilia euchlora': 2, 'Quercus coccinea': 1, 'Prunus incisa': 1, 'Ostrya carpinifolia': 44, 'Juniperus ': 2, 'Diospyros lotus': 8, 'Crataegus ': 27, 'Chamaecyparis formonensis': 1, 'Prunus lusitanica': 6, 'Araucaria exelsa': 2, 'Prunus tomentosa': 1, 'Cryptomeria japonica': 2, 'Betula papyrifera': 23, 'Aesculus parviflora': 2, 'Quercus salicifolia': 9, 'Acer nikoense': 2, 'Acer griseum': 5, 'Sorbus latifolia': 3, 'Prunus persica': 3, 'Eriobotrya  japonica': 3, 'Malus baccata': 9, 'Magnolia stellata': 2, 'Abies pinsapo': 2, 'Chamaecyparis pisifera': 1, 'Pinus strobus': 1, 'Cephalotaxus harringtonia': 3, 'Acer palmatum': 2, 'Mespilus germanica': 7, 'Pistacia chinensis': 7, 'Alnus ': 1, 'Robinia ': 1, 'Malus ': 2, 'Populus lasiocarpa': 1, 'Amélanchier alnifolia': 3, 'Tilia europaea': 6, 'Sequoiadendron sempervirens': 6, 'Fraxinus oxycarpa': 177, 'Cotinus coggygria': 11, 'Liriodendron ': 1, 'Picea ': 7, 'Salix rosmarinifolia': 2, 'Corylus ': 4, 'Cercis chinensis': 4, 'Ulmus carpinifolia': 2, 'Aesculus pavia': 3, 'Trachycarpus fortunei': 22, 'Salix sepulcralis': 3, 'Pyrus salicifolia': 12, 'Rhus typhina': 6, 'Populus italica': 6, 'Diospyros kaki': 1, 'Prunus amygdalus': 2, 'Acer heldreichii': 2, 'Pinus pinea': 2, 'Ulmus glabra': 11, 'Robinia altissima': 1, 'Castanea sativa': 1, 'Cercis canadensis': 2, 'Pyrus elaeagnifolia': 1, 'Malus hupehensis': 3, 'Maclura pomifera': 5, 'Laburnum anagynoides': 12, 'Malus royalty': 1, 'Rhus thyphina': 1, 'Acer tartarica': 2, 'Ficus ': 1, 'Pyrus nivalis': 11, 'Cydonia vulgaris': 1, 'Hovenia dulcis': 2, 'Carpinus orientalis': 14, 'Quercus falcata': 3, 'Crataegus laevigata': 11, 'Amélanchier laevis': 1, 'Quercus phellos': 1, 'Abies koreana': 1, 'Quercus myrsinifolia': 4, 'Styrax japonica': 3, 'Eucalyptus gunii': 1, 'Acer triflorum': 2, 'Celtis ': 6, 'Ulmus parvifolia': 1, 'Chionanthus virginiacus': 2, 'Acer zoeschense': 1, 'Picea exelsa': 4, 'Celtis occidentalis': 7, 'Celtis julianae': 1, 'Staphylea bumalda': 1, 'Acer japonicum': 3, 'Sophora ': 4, 'Gleditsia ': 2, 'Pinus mugo mughus': 2, 'Magnolia hybride': 3, 'Liquidambar orientalis': 2, 'Sequoia sempervirens': 1, 'Chitalpa tashkentensis': 4, 'Betula ': 3, 'Prunus campanulata': 2, 'Ligustrum japonicum': 2, 'Acer davidii': 6, 'Prunus serotina': 2, 'Larix decidua': 5, 'Picea orientalis': 18, 'Halesia monticola': 1, 'Quercus acutissima': 6, 'Malus coronaria': 1, 'Ligustrum sinense': 3, 'Malus pumila': 2, 'Quercus hispanica': 1, 'Acer hippocastanum': 1, 'Aesculus chandelle seche': 2, 'Nyssa sylvatica': 1, 'Acer utilis': 1, 'Chamaecyparis nooktensis': 1, 'Punica granatum': 3, 'Sorbus cuspidata': 4, 'Lonicera fragmantissima': 3, 'Ulmus pumila': 1, 'Sorbus chamaemespilus': 1, 'Sciadopitys verticillata': 1, 'Quercus variabilis': 3, 'Juniperus virginiana': 1, 'Cercidiphyllum magnificum': 1, 'Quercus fraxinifolia': 1, 'Diospyros virginiana': 6, 'Magnolia heptapeta': 1, 'Juniperus drupacea': 1, 'Sorbopyrus auricularis': 1, 'Poncinos ': 1, 'Prunus yedoensis': 12, 'Acer carpinifolia': 2, 'Liquidambar tulipifera': 1, 'Cedrus sinensis': 1, 'Crataegus crus-galli': 2}\n"
     ]
    }
   ],
   "source": [
    "dico_espece={}\n",
    "\n",
    "for arbre in list_gerne_espece:\n",
    "    if arbre in dico_espece:\n",
    "        dico_espece[arbre] += 1\n",
    "    else:\n",
    "        dico_espece[arbre] = 1\n",
    "\n",
    "print(dico_espece)"
   ]
  },
  {
   "cell_type": "markdown",
   "id": "649945ea-5faa-40e4-b78c-a1e320e1892d",
   "metadata": {},
   "source": [
    "## Representant unique espèce"
   ]
  },
  {
   "cell_type": "code",
   "execution_count": 37,
   "id": "2fa14a47-403e-4a9f-bb82-31f17f338520",
   "metadata": {
    "tags": []
   },
   "outputs": [
    {
     "name": "stdout",
     "output_type": "stream",
     "text": [
      " \n",
      "Platanus \n",
      "Ginkgo biloba\n",
      "Salix \n",
      "Liriodendron tulipifera\n",
      "Catalpa bignonoides\n",
      "Platanus acerifolia\n",
      "Pyrus \n",
      "Robinia pseudoacacia\n",
      "Acer grosseri\n",
      "Zelkova serrata\n",
      "Parrotia persica\n",
      "Fraxinus excelsior\n",
      "Fagus sylvatica\n",
      "Acer negundo\n",
      "Magnolia grandiflora\n",
      "Taxus baccata\n",
      "Alnus cordata\n",
      "Picea abies\n",
      "Cupressus arizonica\n",
      "Sequoiadendron giganteum\n",
      "Pyrus calleryana\n",
      "Pinus nigra\n",
      "Betula verrucosa\n",
      "Tilia platyphyllos\n",
      "Acer pseudoplatanus\n",
      "Tilia tomentosa\n",
      "Acer platanoides\n",
      "Cedrus deodara\n",
      "Pinus sylvestris\n",
      "Populus alba\n",
      "Celtis australis\n",
      "Tilia cordata\n",
      "Populus nigra\n",
      "Thuja \n",
      "Sorbus aria\n",
      "Sophora japonica\n",
      "Acer cappadocicum\n",
      "Acer campestre\n",
      "Acer saccharinum\n",
      "Liquidambar styraciflua\n",
      "Prunus spinosa\n",
      "Cedrus atlantica\n",
      "Calocedrus decurrens\n",
      "Pinus wallichiana\n",
      "Prunus cerasus\n",
      "Paulownia tomentosa\n",
      "Tilia \n",
      "Sorbus aucuparia\n",
      "Gymnocladus dioicus\n",
      "Ulmus minor\n",
      "Corylus colurna\n",
      "Prunus domestica\n",
      "Morus alba\n",
      "Betula nigra\n",
      "Acer \n",
      "Clerodendron tricotonum\n",
      "Gleditsia triacanthos\n",
      "Libocedrus decurrens\n",
      "Quercus robur\n",
      "Lagerstroemia indica\n",
      "Taxodium distychum\n",
      "Amélanchier canadensis\n",
      "Quercus macrocarpa\n",
      "Cercidiphyllum japonicum\n",
      "Ilex aquifolium\n",
      "Malus floribunda\n",
      "Fraxinus ornus\n",
      "Cedrela sinensis\n",
      "Prunus avium\n",
      "Photinia villosa\n",
      "Paulownia fortunei\n",
      "Sorbus torminalis\n",
      "Prunus padus\n",
      "Tetradium danielli\n",
      "Fraxinus angustifolia\n",
      "Platanus platanor\n",
      "Thuja occidentalis\n",
      "Koelreuteria paniculata\n",
      "Halesia carolina\n",
      "Crataegus oxyacantha\n",
      "Morus nigra\n",
      "Aesculus hippocastanum\n",
      "Prunus serrulata\n",
      "Ptelea trifoliata\n",
      "Fraxinus americana\n",
      "Chimonanthus praecox\n",
      "Tilia mongolica\n",
      "Alnus spaethii\n",
      "Ulmus resista\n",
      "Alnus incana\n",
      "Amélanchier ovalis\n",
      "Alnus glutinosa\n",
      "Carpinus betulus\n",
      "Betula alba\n",
      "Metasequoia glyptostroboides\n",
      "Malus sieboldii\n",
      "Cercis siliquastrum\n",
      "Acer ginnala\n",
      "Pyrus amygdaliformis\n",
      "Prunus subhirtella\n",
      "Acer buergerianum\n",
      "Cornus mas\n",
      "Quercus cerris\n",
      "Acer monspessulanum\n",
      "Corylus avellana\n",
      "Sorbus domestica\n",
      "Juglans regia\n",
      "Cedrus libani\n",
      "Populus simonii\n",
      "Salix viminalis\n",
      "Salix triandra\n",
      "Salix purpurea\n",
      "Salix caprea\n",
      "Pinus \n",
      "Cupressus sempervirens\n",
      "Quercus \n",
      "Prunus \n",
      "Pteroceltis tatarinowii\n",
      "Crataegus lavallei\n",
      "Populus tremula\n",
      "Broussonetia papyrifera\n",
      "Phellodendron amurense\n",
      "Picea pungens\n",
      "Thuja plicata\n",
      "Betula pendula\n",
      "Magnolia soulangeana\n",
      "Quercus rubra\n",
      "Prunus cerasifera\n",
      "Crataegus splendens\n",
      "Cupressocyparis leylandii\n",
      "Salix alba\n",
      "Prunus armeniaca\n",
      "Cydonia oblonga\n",
      "Pyrus communis\n",
      "Prunus dulcis\n",
      "Ficus carica\n",
      "Fraxinus sieboldiana\n",
      "Fraxinus pensylvanica\n",
      "Quercus palustris\n",
      "Morus \n",
      "Acer rubrum\n",
      "Malus tschonoskii\n",
      "Ulmus campestre\n",
      "Quercus castaneifolia\n",
      "Cercis sinensis\n",
      "Quercus heterophylla\n",
      "Eleagnus angustifolia\n",
      "Lonicera \n",
      "Albizia jullibrissin\n",
      "Pterocarya fraxinifolia\n",
      "Cedrus \n",
      "Davidia involucrata\n",
      "Prunus laurocerasus\n",
      "Fraxinus mandshurica\n",
      "Cornus florida\n",
      "Morus bombycis\n",
      "Buxus sempervirens\n",
      "Fraxinus quadrangulata\n",
      "Aesculus carnea\n",
      "Sorbus \n",
      "Populus \n",
      "Crataegus monogyna\n",
      "Cladastris lutea\n",
      "Chionanthus retusus\n",
      "Fraxinus velutina\n",
      "Malus perpetu\n",
      "Amélanchier lamarckii\n",
      "Syringa vulgaris\n",
      "Platanus orientalis\n",
      "Populus robusta\n",
      "Quercus suber\n",
      "Quercus ilex\n",
      "Abies nordmaniana\n",
      "Sterculia \n",
      "Phillyrea latifolia\n",
      "Fraxinus mariesii\n",
      "Celtis sinensis\n",
      "Malus domestica\n",
      "Salix matsudana\n",
      "Ailanthus altissima\n",
      "Olea europaea\n",
      "Juglans nigra\n",
      "Sambucus nigra\n",
      "Cupressus nooktensis\n",
      "Acer capillipes\n",
      "Picea omorika\n",
      "Chamaecyparis lawsoniana\n",
      "Fontanesia phillyreoides\n",
      "Syringa amurensis\n",
      "Pterostyrax hispida\n",
      "Zelkova crenata\n",
      "Fraxinus \n",
      "Pterocarya stenoptera\n",
      "Quercus frainetto\n",
      "Robinia platanoides\n",
      "Cornus controversa\n",
      "Syringa persica\n",
      "Magnolia kobus\n",
      "Magnolia liliflora\n",
      "Tilia henryana\n",
      "Magnolia \n",
      "Rhamnus alaternus\n",
      "Abies concolor\n",
      "Quercus petraea\n",
      "Betula utilis\n",
      "Acer freemanii\n",
      "Salix babylonica\n",
      "Acer opalus\n",
      "Tilia americana\n",
      "Ulmus \n",
      "Diospyros \n",
      "Laburnum watereri\n",
      "Tilia euchlora\n",
      "Quercus coccinea\n",
      "Prunus incisa\n",
      "Ostrya carpinifolia\n",
      "Juniperus \n",
      "Diospyros lotus\n",
      "Crataegus \n",
      "Chamaecyparis formonensis\n",
      "Prunus lusitanica\n",
      "Araucaria exelsa\n",
      "Prunus tomentosa\n",
      "Cryptomeria japonica\n",
      "Betula papyrifera\n",
      "Aesculus parviflora\n",
      "Quercus salicifolia\n",
      "Acer nikoense\n",
      "Acer griseum\n",
      "Sorbus latifolia\n",
      "Prunus persica\n",
      "Eriobotrya  japonica\n",
      "Malus baccata\n",
      "Magnolia stellata\n",
      "Abies pinsapo\n",
      "Chamaecyparis pisifera\n",
      "Pinus strobus\n",
      "Cephalotaxus harringtonia\n",
      "Acer palmatum\n",
      "Mespilus germanica\n",
      "Pistacia chinensis\n",
      "Alnus \n",
      "Robinia \n",
      "Malus \n",
      "Populus lasiocarpa\n",
      "Amélanchier alnifolia\n",
      "Tilia europaea\n",
      "Sequoiadendron sempervirens\n",
      "Fraxinus oxycarpa\n",
      "Cotinus coggygria\n",
      "Liriodendron \n",
      "Picea \n",
      "Salix rosmarinifolia\n",
      "Corylus \n",
      "Cercis chinensis\n",
      "Ulmus carpinifolia\n",
      "Aesculus pavia\n",
      "Trachycarpus fortunei\n",
      "Salix sepulcralis\n",
      "Pyrus salicifolia\n",
      "Rhus typhina\n",
      "Populus italica\n",
      "Diospyros kaki\n",
      "Prunus amygdalus\n",
      "Acer heldreichii\n",
      "Pinus pinea\n",
      "Ulmus glabra\n",
      "Robinia altissima\n",
      "Castanea sativa\n",
      "Cercis canadensis\n",
      "Pyrus elaeagnifolia\n",
      "Malus hupehensis\n",
      "Maclura pomifera\n",
      "Laburnum anagynoides\n",
      "Malus royalty\n",
      "Rhus thyphina\n",
      "Acer tartarica\n",
      "Ficus \n",
      "Pyrus nivalis\n",
      "Cydonia vulgaris\n",
      "Hovenia dulcis\n",
      "Carpinus orientalis\n",
      "Quercus falcata\n",
      "Crataegus laevigata\n",
      "Amélanchier laevis\n",
      "Quercus phellos\n",
      "Abies koreana\n",
      "Quercus myrsinifolia\n",
      "Styrax japonica\n",
      "Eucalyptus gunii\n",
      "Acer triflorum\n",
      "Celtis \n",
      "Ulmus parvifolia\n",
      "Chionanthus virginiacus\n",
      "Acer zoeschense\n",
      "Picea exelsa\n",
      "Celtis occidentalis\n",
      "Celtis julianae\n",
      "Staphylea bumalda\n",
      "Acer japonicum\n",
      "Sophora \n",
      "Gleditsia \n",
      "Pinus mugo mughus\n",
      "Magnolia hybride\n",
      "Liquidambar orientalis\n",
      "Sequoia sempervirens\n",
      "Chitalpa tashkentensis\n",
      "Betula \n",
      "Prunus campanulata\n",
      "Ligustrum japonicum\n",
      "Acer davidii\n",
      "Prunus serotina\n",
      "Larix decidua\n",
      "Picea orientalis\n",
      "Halesia monticola\n",
      "Quercus acutissima\n",
      "Malus coronaria\n",
      "Ligustrum sinense\n",
      "Malus pumila\n",
      "Quercus hispanica\n",
      "Acer hippocastanum\n",
      "Aesculus chandelle seche\n",
      "Nyssa sylvatica\n",
      "Acer utilis\n",
      "Chamaecyparis nooktensis\n",
      "Punica granatum\n",
      "Sorbus cuspidata\n",
      "Lonicera fragmantissima\n",
      "Ulmus pumila\n",
      "Sorbus chamaemespilus\n",
      "Sciadopitys verticillata\n",
      "Quercus variabilis\n",
      "Juniperus virginiana\n",
      "Cercidiphyllum magnificum\n",
      "Quercus fraxinifolia\n",
      "Diospyros virginiana\n",
      "Magnolia heptapeta\n",
      "Juniperus drupacea\n",
      "Sorbopyrus auricularis\n",
      "Poncinos \n",
      "Prunus yedoensis\n",
      "Acer carpinifolia\n",
      "Liquidambar tulipifera\n",
      "Cedrus sinensis\n",
      "Crataegus crus-galli\n"
     ]
    }
   ],
   "source": [
    "for key in dico_espece.keys():\n",
    "    print(key)\n"
   ]
  },
  {
   "cell_type": "markdown",
   "id": "70639190-c9c7-4680-9b2f-e3e2917f6678",
   "metadata": {
    "tags": []
   },
   "source": [
    "## Classement especes en fonction de leur nombre "
   ]
  },
  {
   "cell_type": "code",
   "execution_count": 38,
   "id": "9c44b8ac-7a01-4d64-bf15-dac3ff5a4411",
   "metadata": {
    "tags": []
   },
   "outputs": [
    {
     "data": {
      "text/plain": [
       "{'Platanus acerifolia': 4422,\n",
       " 'Acer pseudoplatanus': 1347,\n",
       " 'Pinus nigra': 1304,\n",
       " 'Carpinus betulus': 1282,\n",
       " 'Acer platanoides': 1130,\n",
       " 'Tilia tomentosa': 1000,\n",
       " 'Acer campestre': 845,\n",
       " 'Liquidambar styraciflua': 806,\n",
       " 'Acer ': 805,\n",
       " 'Fraxinus excelsior': 776,\n",
       " 'Betula verrucosa': 712,\n",
       " 'Pinus sylvestris': 567,\n",
       " 'Alnus cordata': 550,\n",
       " ' ': 514,\n",
       " 'Acer saccharinum': 507,\n",
       " 'Liriodendron tulipifera': 506,\n",
       " 'Populus nigra': 493,\n",
       " 'Aesculus hippocastanum': 432,\n",
       " 'Pyrus calleryana': 430,\n",
       " 'Prunus serrulata': 425,\n",
       " 'Sophora japonica': 422,\n",
       " 'Chamaecyparis lawsoniana': 370,\n",
       " 'Betula utilis': 361,\n",
       " 'Gleditsia triacanthos': 350,\n",
       " 'Cercis siliquastrum': 344,\n",
       " 'Magnolia grandiflora': 330,\n",
       " 'Cedrus atlantica': 316,\n",
       " 'Robinia pseudoacacia': 284,\n",
       " 'Koelreuteria paniculata': 271,\n",
       " 'Fagus sylvatica': 267,\n",
       " 'Tilia platyphyllos': 266,\n",
       " 'Tilia cordata': 257,\n",
       " 'Zelkova serrata': 231,\n",
       " 'Quercus cerris': 225,\n",
       " 'Pinus ': 222,\n",
       " 'Populus robusta': 221,\n",
       " 'Picea abies': 206,\n",
       " 'Taxus baccata': 202,\n",
       " 'Acer cappadocicum': 198,\n",
       " 'Alnus glutinosa': 184,\n",
       " 'Acer negundo': 177,\n",
       " 'Fraxinus oxycarpa': 177,\n",
       " 'Fraxinus angustifolia': 165,\n",
       " 'Corylus colurna': 146,\n",
       " 'Prunus avium': 146,\n",
       " 'Ulmus minor': 144,\n",
       " 'Cupressus sempervirens': 140,\n",
       " 'Celtis australis': 134,\n",
       " 'Malus floribunda': 132,\n",
       " 'Populus alba': 120,\n",
       " 'Fraxinus ornus': 113,\n",
       " 'Fraxinus americana': 113,\n",
       " 'Prunus cerasifera': 112,\n",
       " 'Ginkgo biloba': 111,\n",
       " 'Quercus petraea': 101,\n",
       " 'Cupressocyparis leylandii': 100,\n",
       " 'Populus ': 100,\n",
       " 'Betula alba': 97,\n",
       " 'Quercus robur': 95,\n",
       " 'Tilia ': 94,\n",
       " 'Prunus padus': 92,\n",
       " 'Prunus ': 90,\n",
       " 'Catalpa bignonoides': 89,\n",
       " 'Tetradium danielli': 88,\n",
       " 'Platanus orientalis': 88,\n",
       " 'Tilia americana': 88,\n",
       " 'Platanus platanor': 84,\n",
       " 'Metasequoia glyptostroboides': 81,\n",
       " 'Ailanthus altissima': 80,\n",
       " 'Cedrus deodara': 78,\n",
       " 'Paulownia tomentosa': 78,\n",
       " 'Alnus spaethii': 78,\n",
       " 'Acer monspessulanum': 76,\n",
       " 'Amélanchier canadensis': 70,\n",
       " 'Platanus ': 69,\n",
       " 'Albizia jullibrissin': 67,\n",
       " 'Quercus castaneifolia': 63,\n",
       " 'Malus domestica': 63,\n",
       " 'Cupressus arizonica': 60,\n",
       " 'Quercus ': 59,\n",
       " 'Salix ': 56,\n",
       " 'Parrotia persica': 54,\n",
       " 'Fraxinus velutina': 54,\n",
       " 'Acer freemanii': 52,\n",
       " 'Lagerstroemia indica': 50,\n",
       " 'Acer ginnala': 49,\n",
       " 'Salix alba': 48,\n",
       " 'Libocedrus decurrens': 47,\n",
       " 'Cedrela sinensis': 46,\n",
       " 'Pterocarya fraxinifolia': 46,\n",
       " 'Cladastris lutea': 45,\n",
       " 'Celtis sinensis': 45,\n",
       " 'Sorbus aria': 44,\n",
       " 'Crataegus oxyacantha': 44,\n",
       " 'Ostrya carpinifolia': 44,\n",
       " 'Magnolia soulangeana': 42,\n",
       " 'Fraxinus ': 39,\n",
       " 'Morus nigra': 38,\n",
       " 'Juglans nigra': 38,\n",
       " 'Betula nigra': 34,\n",
       " 'Pyrus communis': 34,\n",
       " 'Sambucus nigra': 33,\n",
       " 'Tilia henryana': 33,\n",
       " 'Chionanthus retusus': 31,\n",
       " 'Syringa vulgaris': 31,\n",
       " 'Quercus frainetto': 31,\n",
       " 'Prunus cerasus': 28,\n",
       " 'Juglans regia': 28,\n",
       " 'Crataegus ': 27,\n",
       " 'Morus alba': 26,\n",
       " 'Quercus rubra': 25,\n",
       " 'Morus bombycis': 25,\n",
       " 'Thuja ': 24,\n",
       " 'Ilex aquifolium': 24,\n",
       " 'Tilia mongolica': 24,\n",
       " 'Ulmus resista': 24,\n",
       " 'Corylus avellana': 24,\n",
       " 'Fraxinus pensylvanica': 24,\n",
       " 'Malus perpetu': 24,\n",
       " 'Paulownia fortunei': 23,\n",
       " 'Broussonetia papyrifera': 23,\n",
       " 'Betula papyrifera': 23,\n",
       " 'Acer rubrum': 22,\n",
       " 'Magnolia kobus': 22,\n",
       " 'Trachycarpus fortunei': 22,\n",
       " 'Prunus domestica': 21,\n",
       " 'Pinus wallichiana': 20,\n",
       " 'Acer buergerianum': 20,\n",
       " 'Aesculus carnea': 20,\n",
       " 'Abies nordmaniana': 20,\n",
       " 'Prunus spinosa': 19,\n",
       " 'Fraxinus sieboldiana': 19,\n",
       " 'Eleagnus angustifolia': 19,\n",
       " 'Crataegus monogyna': 19,\n",
       " 'Thuja plicata': 18,\n",
       " 'Ficus carica': 18,\n",
       " 'Fraxinus mandshurica': 18,\n",
       " 'Picea orientalis': 18,\n",
       " 'Prunus subhirtella': 17,\n",
       " 'Populus tremula': 17,\n",
       " 'Betula pendula': 17,\n",
       " 'Quercus palustris': 17,\n",
       " 'Buxus sempervirens': 17,\n",
       " 'Quercus suber': 17,\n",
       " 'Ulmus campestre': 16,\n",
       " 'Sorbus torminalis': 15,\n",
       " 'Acer capillipes': 15,\n",
       " 'Amélanchier lamarckii': 14,\n",
       " 'Carpinus orientalis': 14,\n",
       " 'Alnus incana': 13,\n",
       " 'Phellodendron amurense': 13,\n",
       " 'Picea pungens': 13,\n",
       " 'Malus tschonoskii': 13,\n",
       " 'Quercus ilex': 13,\n",
       " 'Malus sieboldii': 12,\n",
       " 'Pteroceltis tatarinowii': 12,\n",
       " 'Sorbus ': 12,\n",
       " 'Pyrus salicifolia': 12,\n",
       " 'Laburnum anagynoides': 12,\n",
       " 'Prunus yedoensis': 12,\n",
       " 'Morus ': 11,\n",
       " 'Ulmus ': 11,\n",
       " 'Cotinus coggygria': 11,\n",
       " 'Ulmus glabra': 11,\n",
       " 'Pyrus nivalis': 11,\n",
       " 'Crataegus laevigata': 11,\n",
       " 'Photinia villosa': 10,\n",
       " 'Pyrus amygdaliformis': 10,\n",
       " 'Cornus mas': 10,\n",
       " 'Cydonia oblonga': 10,\n",
       " 'Gymnocladus dioicus': 9,\n",
       " 'Taxodium distychum': 9,\n",
       " 'Prunus laurocerasus': 9,\n",
       " 'Quercus salicifolia': 9,\n",
       " 'Malus baccata': 9,\n",
       " 'Sequoiadendron giganteum': 8,\n",
       " 'Halesia carolina': 8,\n",
       " 'Amélanchier ovalis': 8,\n",
       " 'Cedrus libani': 8,\n",
       " 'Populus simonii': 8,\n",
       " 'Syringa amurensis': 8,\n",
       " 'Magnolia ': 8,\n",
       " 'Diospyros lotus': 8,\n",
       " 'Salix viminalis': 7,\n",
       " 'Davidia involucrata': 7,\n",
       " 'Fraxinus mariesii': 7,\n",
       " 'Cornus controversa': 7,\n",
       " 'Salix babylonica': 7,\n",
       " 'Mespilus germanica': 7,\n",
       " 'Pistacia chinensis': 7,\n",
       " 'Picea ': 7,\n",
       " 'Celtis occidentalis': 7,\n",
       " 'Cercidiphyllum japonicum': 6,\n",
       " 'Thuja occidentalis': 6,\n",
       " 'Prunus dulcis': 6,\n",
       " 'Cornus florida': 6,\n",
       " 'Salix matsudana': 6,\n",
       " 'Pterostyrax hispida': 6,\n",
       " 'Pterocarya stenoptera': 6,\n",
       " 'Prunus lusitanica': 6,\n",
       " 'Tilia europaea': 6,\n",
       " 'Sequoiadendron sempervirens': 6,\n",
       " 'Rhus typhina': 6,\n",
       " 'Populus italica': 6,\n",
       " 'Celtis ': 6,\n",
       " 'Acer davidii': 6,\n",
       " 'Quercus acutissima': 6,\n",
       " 'Diospyros virginiana': 6,\n",
       " 'Sorbus aucuparia': 5,\n",
       " 'Clerodendron tricotonum': 5,\n",
       " 'Salix triandra': 5,\n",
       " 'Salix purpurea': 5,\n",
       " 'Olea europaea': 5,\n",
       " 'Abies concolor': 5,\n",
       " 'Acer griseum': 5,\n",
       " 'Maclura pomifera': 5,\n",
       " 'Larix decidua': 5,\n",
       " 'Calocedrus decurrens': 4,\n",
       " 'Sorbus domestica': 4,\n",
       " 'Salix caprea': 4,\n",
       " 'Crataegus lavallei': 4,\n",
       " 'Cedrus ': 4,\n",
       " 'Picea omorika': 4,\n",
       " 'Fontanesia phillyreoides': 4,\n",
       " 'Corylus ': 4,\n",
       " 'Cercis chinensis': 4,\n",
       " 'Quercus myrsinifolia': 4,\n",
       " 'Picea exelsa': 4,\n",
       " 'Sophora ': 4,\n",
       " 'Chitalpa tashkentensis': 4,\n",
       " 'Sorbus cuspidata': 4,\n",
       " 'Pyrus ': 3,\n",
       " 'Acer grosseri': 3,\n",
       " 'Ptelea trifoliata': 3,\n",
       " 'Chimonanthus praecox': 3,\n",
       " 'Lonicera ': 3,\n",
       " 'Phillyrea latifolia': 3,\n",
       " 'Cupressus nooktensis': 3,\n",
       " 'Sorbus latifolia': 3,\n",
       " 'Prunus persica': 3,\n",
       " 'Eriobotrya  japonica': 3,\n",
       " 'Cephalotaxus harringtonia': 3,\n",
       " 'Amélanchier alnifolia': 3,\n",
       " 'Aesculus pavia': 3,\n",
       " 'Salix sepulcralis': 3,\n",
       " 'Malus hupehensis': 3,\n",
       " 'Quercus falcata': 3,\n",
       " 'Styrax japonica': 3,\n",
       " 'Acer japonicum': 3,\n",
       " 'Magnolia hybride': 3,\n",
       " 'Betula ': 3,\n",
       " 'Ligustrum sinense': 3,\n",
       " 'Punica granatum': 3,\n",
       " 'Lonicera fragmantissima': 3,\n",
       " 'Quercus variabilis': 3,\n",
       " 'Prunus armeniaca': 2,\n",
       " 'Zelkova crenata': 2,\n",
       " 'Syringa persica': 2,\n",
       " 'Diospyros ': 2,\n",
       " 'Tilia euchlora': 2,\n",
       " 'Juniperus ': 2,\n",
       " 'Araucaria exelsa': 2,\n",
       " 'Cryptomeria japonica': 2,\n",
       " 'Aesculus parviflora': 2,\n",
       " 'Acer nikoense': 2,\n",
       " 'Magnolia stellata': 2,\n",
       " 'Abies pinsapo': 2,\n",
       " 'Acer palmatum': 2,\n",
       " 'Malus ': 2,\n",
       " 'Salix rosmarinifolia': 2,\n",
       " 'Ulmus carpinifolia': 2,\n",
       " 'Prunus amygdalus': 2,\n",
       " 'Acer heldreichii': 2,\n",
       " 'Pinus pinea': 2,\n",
       " 'Cercis canadensis': 2,\n",
       " 'Acer tartarica': 2,\n",
       " 'Hovenia dulcis': 2,\n",
       " 'Acer triflorum': 2,\n",
       " 'Chionanthus virginiacus': 2,\n",
       " 'Gleditsia ': 2,\n",
       " 'Pinus mugo mughus': 2,\n",
       " 'Liquidambar orientalis': 2,\n",
       " 'Prunus campanulata': 2,\n",
       " 'Ligustrum japonicum': 2,\n",
       " 'Prunus serotina': 2,\n",
       " 'Malus pumila': 2,\n",
       " 'Aesculus chandelle seche': 2,\n",
       " 'Acer carpinifolia': 2,\n",
       " 'Crataegus crus-galli': 2,\n",
       " 'Quercus macrocarpa': 1,\n",
       " 'Crataegus splendens': 1,\n",
       " 'Cercis sinensis': 1,\n",
       " 'Quercus heterophylla': 1,\n",
       " 'Fraxinus quadrangulata': 1,\n",
       " 'Sterculia ': 1,\n",
       " 'Robinia platanoides': 1,\n",
       " 'Magnolia liliflora': 1,\n",
       " 'Rhamnus alaternus': 1,\n",
       " 'Acer opalus': 1,\n",
       " 'Laburnum watereri': 1,\n",
       " 'Quercus coccinea': 1,\n",
       " 'Prunus incisa': 1,\n",
       " 'Chamaecyparis formonensis': 1,\n",
       " 'Prunus tomentosa': 1,\n",
       " 'Chamaecyparis pisifera': 1,\n",
       " 'Pinus strobus': 1,\n",
       " 'Alnus ': 1,\n",
       " 'Robinia ': 1,\n",
       " 'Populus lasiocarpa': 1,\n",
       " 'Liriodendron ': 1,\n",
       " 'Diospyros kaki': 1,\n",
       " 'Robinia altissima': 1,\n",
       " 'Castanea sativa': 1,\n",
       " 'Pyrus elaeagnifolia': 1,\n",
       " 'Malus royalty': 1,\n",
       " 'Rhus thyphina': 1,\n",
       " 'Ficus ': 1,\n",
       " 'Cydonia vulgaris': 1,\n",
       " 'Amélanchier laevis': 1,\n",
       " 'Quercus phellos': 1,\n",
       " 'Abies koreana': 1,\n",
       " 'Eucalyptus gunii': 1,\n",
       " 'Ulmus parvifolia': 1,\n",
       " 'Acer zoeschense': 1,\n",
       " 'Celtis julianae': 1,\n",
       " 'Staphylea bumalda': 1,\n",
       " 'Sequoia sempervirens': 1,\n",
       " 'Halesia monticola': 1,\n",
       " 'Malus coronaria': 1,\n",
       " 'Quercus hispanica': 1,\n",
       " 'Acer hippocastanum': 1,\n",
       " 'Nyssa sylvatica': 1,\n",
       " 'Acer utilis': 1,\n",
       " 'Chamaecyparis nooktensis': 1,\n",
       " 'Ulmus pumila': 1,\n",
       " 'Sorbus chamaemespilus': 1,\n",
       " 'Sciadopitys verticillata': 1,\n",
       " 'Juniperus virginiana': 1,\n",
       " 'Cercidiphyllum magnificum': 1,\n",
       " 'Quercus fraxinifolia': 1,\n",
       " 'Magnolia heptapeta': 1,\n",
       " 'Juniperus drupacea': 1,\n",
       " 'Sorbopyrus auricularis': 1,\n",
       " 'Poncinos ': 1,\n",
       " 'Liquidambar tulipifera': 1,\n",
       " 'Cedrus sinensis': 1}"
      ]
     },
     "execution_count": 38,
     "metadata": {},
     "output_type": "execute_result"
    }
   ],
   "source": [
    "{k: v for k, v in sorted(dico_espece.items(), key=lambda item: item[1],reverse=True)}"
   ]
  },
  {
   "cell_type": "markdown",
   "id": "469cfe1a-e53b-4e87-ad3b-d3d3b773d7f2",
   "metadata": {},
   "source": [
    "## Proportion espece botanique la plus representée et pour chaque espèce"
   ]
  },
  {
   "cell_type": "code",
   "execution_count": 39,
   "id": "9e59aa82-19ab-45cf-b6da-7cb852db3a6a",
   "metadata": {},
   "outputs": [
    {
     "name": "stdout",
     "output_type": "stream",
     "text": [
      "Genre: Platanus acerifolia Population : 4422 Proportion : 0.14\n"
     ]
    }
   ],
   "source": [
    "maxi_esp_arbre = max(dico_espece, key=dico_espece.get)\n",
    "total = sum(dico_espece.values())\n",
    "proportion = dico_espece[maxi_esp_arbre]/total\n",
    "print(f\"Genre: {maxi_esp_arbre} Population : {dico_espece[maxi_esp_arbre]} Proportion : {proportion:.2f}\")"
   ]
  },
  {
   "cell_type": "code",
   "execution_count": 40,
   "id": "1e8455a7-c8c5-4bb0-b5aa-0cfa71aa56df",
   "metadata": {
    "tags": []
   },
   "outputs": [],
   "source": [
    "liste_proportion_espece=[]\n",
    "for key in dico_espece:\n",
    "    proportion = dico_espece[key]/total\n",
    "    liste_proportion_espece.append(proportion)\n",
    "    # print(f\"Gerne : {key} Population {dico_espece[key]} Proportion : {proportion:.3f}\")"
   ]
  },
  {
   "cell_type": "markdown",
   "id": "23607ef8-70de-472f-b76d-39915742572b",
   "metadata": {
    "tags": []
   },
   "source": [
    "## Diversité especes"
   ]
  },
  {
   "cell_type": "code",
   "execution_count": 41,
   "id": "65a12a55-9412-40dc-aa85-87fc84ca044c",
   "metadata": {},
   "outputs": [
    {
     "name": "stdout",
     "output_type": "stream",
     "text": [
      "La proportion maximale retrouvée pour un espèce est de 14.2 %\n",
      "La diversité en terme d'espèce n'est pas respectée\n"
     ]
    }
   ],
   "source": [
    "print(f\"La proportion maximale retrouvée pour un espèce est de {(max(liste_proportion_espece))*100:.1f} %\") \n",
    "if max(liste_proportion_espece) >0.1:\n",
    "    print(\"La diversité en terme d'espèce n'est pas respectée\")\n"
   ]
  }
 ],
 "metadata": {
  "kernelspec": {
   "display_name": "Python 3 (ipykernel)",
   "language": "python",
   "name": "python3"
  },
  "language_info": {
   "codemirror_mode": {
    "name": "ipython",
    "version": 3
   },
   "file_extension": ".py",
   "mimetype": "text/x-python",
   "name": "python",
   "nbconvert_exporter": "python",
   "pygments_lexer": "ipython3",
   "version": "3.9.7"
  }
 },
 "nbformat": 4,
 "nbformat_minor": 5
}
