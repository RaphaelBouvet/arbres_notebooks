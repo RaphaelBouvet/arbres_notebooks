{
 "cells": [
  {
   "cell_type": "code",
   "execution_count": 1,
   "id": "f5271bf9-df70-44d9-9df3-d89323dbabfe",
   "metadata": {},
   "outputs": [],
   "source": [
    "# Projet arbres avec pandas"
   ]
  },
  {
   "cell_type": "markdown",
   "id": "36fe8786-0f60-41b1-b8ab-0d58b667f5ef",
   "metadata": {},
   "source": [
    "## Initialisation"
   ]
  },
  {
   "cell_type": "markdown",
   "id": "951c1e92-22da-42fd-8078-e9c77d6e048e",
   "metadata": {},
   "source": [
    "### Importation des données"
   ]
  },
  {
   "cell_type": "code",
   "execution_count": 2,
   "id": "3fcfdf5a-4a00-4b45-a791-7549a1a09b1a",
   "metadata": {
    "tags": []
   },
   "outputs": [],
   "source": [
    "import pandas as pd\n",
    "file_path=\"../data/trees.csv\"\n",
    "df_tree = pd.read_csv(file_path, sep=\",\", header = 0, index_col=False,names=None)"
   ]
  },
  {
   "cell_type": "code",
   "execution_count": 3,
   "id": "82050349-a05f-44c0-b0a4-5f15d66e7aea",
   "metadata": {},
   "outputs": [],
   "source": [
    "import statistics as st\n",
    "import matplotlib.pyplot as plt\n",
    "import numpy as np\n",
    "import math"
   ]
  },
  {
   "cell_type": "markdown",
   "id": "18b748ee-f935-42fb-8f27-b10a4fd2f591",
   "metadata": {},
   "source": [
    "## Premières manipulations"
   ]
  },
  {
   "cell_type": "code",
   "execution_count": 4,
   "id": "45c4a072-f3d5-4924-8699-2196e09fa286",
   "metadata": {},
   "outputs": [],
   "source": [
    "# df_tree.head(50)\n",
    "# df_tree.tail(50)"
   ]
  },
  {
   "cell_type": "code",
   "execution_count": 5,
   "id": "af260cac-b156-47c6-a869-d50486f9982a",
   "metadata": {},
   "outputs": [],
   "source": [
    "# print(df_tree.loc[0]) # premier arbre de la liste\n",
    "# print(df_tree.columns) # represente la première ligne du fichier soit les variables"
   ]
  },
  {
   "cell_type": "code",
   "execution_count": 6,
   "id": "4e350355-a767-40c5-b70a-7c0bfe2aff69",
   "metadata": {},
   "outputs": [
    {
     "data": {
      "text/plain": [
       "0             NaN\n",
       "1             NaN\n",
       "2             NaN\n",
       "3             NaN\n",
       "4             NaN\n",
       "           ...   \n",
       "31238    Fraxinus\n",
       "31239    Fraxinus\n",
       "31240    Fraxinus\n",
       "31241    Fraxinus\n",
       "31242    Fraxinus\n",
       "Name: GENRE_BOTA, Length: 31243, dtype: object"
      ]
     },
     "execution_count": 6,
     "metadata": {},
     "output_type": "execute_result"
    }
   ],
   "source": [
    "df_tree['GENRE_BOTA'] # affiche colonne GENRE BOTA"
   ]
  },
  {
   "cell_type": "code",
   "execution_count": 7,
   "id": "e18334af-e7cc-4e29-ae78-bb94308da827",
   "metadata": {},
   "outputs": [
    {
     "data": {
      "text/plain": [
       "'ESP37969'"
      ]
     },
     "execution_count": 7,
     "metadata": {},
     "output_type": "execute_result"
    }
   ],
   "source": [
    "df_tree.at[0,'CODE'] # affiche cellule à première row et col code "
   ]
  },
  {
   "cell_type": "code",
   "execution_count": 8,
   "id": "42ca05ea-a0b7-4be0-a281-f92162a06cd1",
   "metadata": {},
   "outputs": [],
   "source": [
    "liste_anneeplanta = df_tree['ANNEEDEPLANTATION'].tolist() # stocke la colonne annee de plantation dans une liste"
   ]
  },
  {
   "cell_type": "code",
   "execution_count": 9,
   "id": "436dbf3f-746d-4679-b8cb-1da90f03dae3",
   "metadata": {},
   "outputs": [
    {
     "name": "stdout",
     "output_type": "stream",
     "text": [
      "[nan, nan, nan, nan, nan, nan, nan, nan, nan, nan, nan, nan, nan, 2017.0, 2017.0, 2017.0, 2017.0, 2017.0, 2017.0, 2017.0, 2017.0, 2017.0, 2017.0, 2017.0, 2017.0, 2017.0, 2017.0, 2017.0, 2017.0, 2017.0, 2017.0, 2017.0, 2017.0, 2017.0, 2017.0, 2017.0, 2017.0, 2017.0, 2017.0, 2017.0, 2017.0, 2017.0, 2017.0, 2017.0, 2017.0, 2017.0, 2017.0, 2017.0, 2017.0, 2017.0]\n"
     ]
    }
   ],
   "source": [
    "print(liste_anneeplanta[:50])"
   ]
  },
  {
   "cell_type": "code",
   "execution_count": 10,
   "id": "38f69fad-c662-453d-9b91-290c69b2c7ac",
   "metadata": {},
   "outputs": [
    {
     "data": {
      "text/plain": [
       "0        NaN\n",
       "1        NaN\n",
       "2        NaN\n",
       "3        NaN\n",
       "4        NaN\n",
       "5        NaN\n",
       "6        NaN\n",
       "7        NaN\n",
       "8        NaN\n",
       "9        NaN\n",
       "10       NaN\n",
       "11       NaN\n",
       "12       NaN\n",
       "13    2017.0\n",
       "14    2017.0\n",
       "15    2017.0\n",
       "16    2017.0\n",
       "17    2017.0\n",
       "18    2017.0\n",
       "19    2017.0\n",
       "20    2017.0\n",
       "21    2017.0\n",
       "22    2017.0\n",
       "23    2017.0\n",
       "24    2017.0\n",
       "25    2017.0\n",
       "26    2017.0\n",
       "27    2017.0\n",
       "28    2017.0\n",
       "29    2017.0\n",
       "30    2017.0\n",
       "31    2017.0\n",
       "32    2017.0\n",
       "33    2017.0\n",
       "34    2017.0\n",
       "35    2017.0\n",
       "36    2017.0\n",
       "37    2017.0\n",
       "38    2017.0\n",
       "39    2017.0\n",
       "40    2017.0\n",
       "41    2017.0\n",
       "42    2017.0\n",
       "43    2017.0\n",
       "44    2017.0\n",
       "45    2017.0\n",
       "46    2017.0\n",
       "47    2017.0\n",
       "48    2017.0\n",
       "49    2017.0\n",
       "Name: ANNEEDEPLANTATION, dtype: float64"
      ]
     },
     "execution_count": 10,
     "metadata": {},
     "output_type": "execute_result"
    }
   ],
   "source": [
    "df_tree['ANNEEDEPLANTATION'].head(50) #affiche 50 premières valeurs par pandas"
   ]
  },
  {
   "cell_type": "code",
   "execution_count": 11,
   "id": "a915bc2d-372f-4531-a591-3822682b8735",
   "metadata": {},
   "outputs": [
    {
     "data": {
      "text/plain": [
       "31193    1975.0\n",
       "31194    1975.0\n",
       "31195    1975.0\n",
       "31196    1975.0\n",
       "31197    1975.0\n",
       "31198    1975.0\n",
       "31199    1975.0\n",
       "31200    1975.0\n",
       "31201    1975.0\n",
       "31202    1975.0\n",
       "31203    1975.0\n",
       "31204    1975.0\n",
       "31205    1975.0\n",
       "31206    1975.0\n",
       "31207    1975.0\n",
       "31208    1975.0\n",
       "31209    1975.0\n",
       "31210    1975.0\n",
       "31211    1975.0\n",
       "31212    1975.0\n",
       "31213    1975.0\n",
       "31214    2017.0\n",
       "31215    2017.0\n",
       "31216    2001.0\n",
       "31217    2001.0\n",
       "31218    2001.0\n",
       "31219    2001.0\n",
       "31220    2001.0\n",
       "31221    2001.0\n",
       "31222    2001.0\n",
       "31223    2001.0\n",
       "31224    2001.0\n",
       "31225    2001.0\n",
       "31226    2001.0\n",
       "31227    2001.0\n",
       "31228    2001.0\n",
       "31229    2001.0\n",
       "31230    2001.0\n",
       "31231    2001.0\n",
       "31232    2001.0\n",
       "31233    2001.0\n",
       "31234    2001.0\n",
       "31235    2001.0\n",
       "31236    2001.0\n",
       "31237    2001.0\n",
       "31238    2001.0\n",
       "31239    2001.0\n",
       "31240    2001.0\n",
       "31241    2001.0\n",
       "31242    2001.0\n",
       "Name: ANNEEDEPLANTATION, dtype: float64"
      ]
     },
     "execution_count": 11,
     "metadata": {},
     "output_type": "execute_result"
    }
   ],
   "source": [
    "df_tree['ANNEEDEPLANTATION'].tail(50) #affiche 50 premières valeurs par pandas"
   ]
  },
  {
   "cell_type": "markdown",
   "id": "7dae7103-5ec4-4fca-89fb-9a6d09b64bb2",
   "metadata": {},
   "source": [
    "### Nombre d'arbres recensés"
   ]
  },
  {
   "cell_type": "code",
   "execution_count": 12,
   "id": "0e4f1e93-5eb9-46e0-b96e-e66e99a6c215",
   "metadata": {},
   "outputs": [
    {
     "name": "stdout",
     "output_type": "stream",
     "text": [
      "Il y a 31243 arbres recensés dans le fichier\n"
     ]
    }
   ],
   "source": [
    "print(f\"Il y a {len(df_tree.index)} arbres recensés dans le fichier\")"
   ]
  },
  {
   "cell_type": "markdown",
   "id": "0758a017-f93e-412c-8521-f91f0e9490ef",
   "metadata": {},
   "source": [
    "### Nombres d'arbres sans données d'année de plantation"
   ]
  },
  {
   "cell_type": "code",
   "execution_count": 13,
   "id": "2631a501-1e71-4950-9a62-b119b146b5d6",
   "metadata": {},
   "outputs": [
    {
     "name": "stdout",
     "output_type": "stream",
     "text": [
      "Il y a 442 arbres sans données de plantations dans le fichier\n"
     ]
    }
   ],
   "source": [
    "nb_na_planta = df_tree['ANNEEDEPLANTATION'].isna().sum()\n",
    "print(f\"Il y a {nb_na_planta} arbres sans données de plantations dans le fichier\")"
   ]
  },
  {
   "cell_type": "markdown",
   "id": "dd1c8ca8-7142-4240-9a7d-0f1b7936e56a",
   "metadata": {},
   "source": [
    "### Nombre d'arbres plantés en 1993"
   ]
  },
  {
   "cell_type": "code",
   "execution_count": 14,
   "id": "8158e28c-1fbb-415f-84c6-eb4c08ece152",
   "metadata": {},
   "outputs": [
    {
     "name": "stdout",
     "output_type": "stream",
     "text": [
      "Il y a eu 161 arbres plantés en 1993\n"
     ]
    }
   ],
   "source": [
    "nb_arbres_1993 = df_tree['ANNEEDEPLANTATION'].value_counts()[1993]\n",
    "print(f\"Il y a eu {nb_arbres_1993} arbres plantés en 1993\")"
   ]
  },
  {
   "cell_type": "markdown",
   "id": "85f5de38-3df5-4d3e-a3e9-559c5b4f7af1",
   "metadata": {},
   "source": [
    "### Plus vieux et plus récente plantation d'arbres"
   ]
  },
  {
   "cell_type": "code",
   "execution_count": 15,
   "id": "3aca053e-8174-4082-a846-bf31ee19396c",
   "metadata": {},
   "outputs": [
    {
     "name": "stdout",
     "output_type": "stream",
     "text": [
      "Le plus viel arbre date de 1950.0 et le plus jeune de 2017.0\n"
     ]
    }
   ],
   "source": [
    "min_annee = df_tree['ANNEEDEPLANTATION'].min()\n",
    "max_annee = df_tree['ANNEEDEPLANTATION'].max()\n",
    "print(f\"Le plus viel arbre date de {min_annee} et le plus jeune de {max_annee}\")"
   ]
  },
  {
   "cell_type": "markdown",
   "id": "f7ce028b-4014-423d-9655-f1e9da397090",
   "metadata": {},
   "source": [
    "### Arbres plantés année par année"
   ]
  },
  {
   "cell_type": "code",
   "execution_count": 16,
   "id": "46e1f38e-f841-4a2e-8262-e1e1ff88290e",
   "metadata": {},
   "outputs": [
    {
     "data": {
      "text/plain": [
       "1975.0    3922\n",
       "2001.0    1626\n",
       "1980.0    1528\n",
       "1970.0    1444\n",
       "2015.0     996\n",
       "1985.0     990\n",
       "1976.0     972\n",
       "1978.0     912\n",
       "2014.0     881\n",
       "1995.0     781\n",
       "1987.0     771\n",
       "1965.0     760\n",
       "1960.0     745\n",
       "2009.0     696\n",
       "1984.0     666\n",
       "1981.0     644\n",
       "1977.0     616\n",
       "2006.0     616\n",
       "1999.0     603\n",
       "2011.0     530\n",
       "2010.0     467\n",
       "2000.0     461\n",
       "2005.0     450\n",
       "1982.0     448\n",
       "1990.0     433\n",
       "1950.0     422\n",
       "1996.0     385\n",
       "1972.0     364\n",
       "1979.0     361\n",
       "2004.0     352\n",
       "2003.0     352\n",
       "1969.0     350\n",
       "1974.0     350\n",
       "2016.0     347\n",
       "2002.0     341\n",
       "2012.0     338\n",
       "2013.0     335\n",
       "1983.0     333\n",
       "1989.0     307\n",
       "1994.0     288\n",
       "2017.0     272\n",
       "1988.0     266\n",
       "1997.0     238\n",
       "1986.0     238\n",
       "1992.0     226\n",
       "1998.0     220\n",
       "2008.0     219\n",
       "1993.0     161\n",
       "2007.0     155\n",
       "1991.0     146\n",
       "1968.0     116\n",
       "1966.0      95\n",
       "1971.0      75\n",
       "1955.0      66\n",
       "1967.0      57\n",
       "1973.0      34\n",
       "1961.0      27\n",
       "1964.0       7\n",
       "Name: ANNEEDEPLANTATION, dtype: int64"
      ]
     },
     "execution_count": 16,
     "metadata": {},
     "output_type": "execute_result"
    }
   ],
   "source": [
    "df_tree['ANNEEDEPLANTATION'].value_counts()"
   ]
  },
  {
   "cell_type": "markdown",
   "id": "096e8e91-10f3-4473-a76c-984b164e7a69",
   "metadata": {},
   "source": [
    "### Moyenne du nombre d'arbres plantés par année"
   ]
  },
  {
   "cell_type": "code",
   "execution_count": 17,
   "id": "0527d206-bc86-4f74-bdef-f8c2a599eca7",
   "metadata": {},
   "outputs": [
    {
     "name": "stdout",
     "output_type": "stream",
     "text": [
      "La metropole de grenoble a planté 531.1 arbres par année\n"
     ]
    }
   ],
   "source": [
    "import statistics as st\n",
    "moyenne = st.mean(df_tree['ANNEEDEPLANTATION'].value_counts())\n",
    "print(f\"La metropole de grenoble a planté {moyenne:.1f} arbres par année\")"
   ]
  },
  {
   "cell_type": "markdown",
   "id": "7757cfe6-6255-47d9-94e7-0b48f7a18b28",
   "metadata": {},
   "source": [
    "### Tuple pour nb arbres par année"
   ]
  },
  {
   "cell_type": "code",
   "execution_count": 18,
   "id": "08ecf87a-5911-4275-9e85-a434da923932",
   "metadata": {},
   "outputs": [
    {
     "name": "stdout",
     "output_type": "stream",
     "text": [
      "[(1975.0, 3922), (2001.0, 1626), (1980.0, 1528), (1970.0, 1444), (2015.0, 996), (1985.0, 990), (1976.0, 972), (1978.0, 912), (2014.0, 881), (1995.0, 781), (1987.0, 771), (1965.0, 760), (1960.0, 745), (2009.0, 696), (1984.0, 666), (1981.0, 644), (1977.0, 616), (2006.0, 616), (1999.0, 603), (2011.0, 530), (2010.0, 467), (2000.0, 461), (2005.0, 450), (1982.0, 448), (1990.0, 433), (1950.0, 422), (1996.0, 385), (1972.0, 364), (1979.0, 361), (2004.0, 352), (2003.0, 352), (1969.0, 350), (1974.0, 350), (2016.0, 347), (2002.0, 341), (2012.0, 338), (2013.0, 335), (1983.0, 333), (1989.0, 307), (1994.0, 288), (2017.0, 272), (1988.0, 266), (1997.0, 238), (1986.0, 238), (1992.0, 226), (1998.0, 220), (2008.0, 219), (1993.0, 161), (2007.0, 155), (1991.0, 146), (1968.0, 116), (1966.0, 95), (1971.0, 75), (1955.0, 66), (1967.0, 57), (1973.0, 34), (1961.0, 27), (1964.0, 7)]\n"
     ]
    }
   ],
   "source": [
    "count=df_tree['ANNEEDEPLANTATION'].value_counts() # stocke les counts dans une pandas.series \n",
    "list_tu_arbreplantation =[(annee,nb) for annee,nb in count.items()] \n",
    "print(list_tu_arbreplantation)"
   ]
  },
  {
   "cell_type": "markdown",
   "id": "620f82f4-fa19-494f-8586-019ae7acffdd",
   "metadata": {
    "tags": []
   },
   "source": [
    "## Quel maire a planté le plus d'arbres à Grenoble"
   ]
  },
  {
   "cell_type": "code",
   "execution_count": 19,
   "id": "4651da6c-0b9b-41f8-bbeb-07dbf4d2748d",
   "metadata": {},
   "outputs": [
    {
     "data": {
      "text/plain": [
       "ANNEEDEPLANTATION\n",
       "(1949, 1959]      488\n",
       "(1959, 1965]     1539\n",
       "(1965, 1983]    12621\n",
       "(1983, 1995]     5273\n",
       "(1995, 2014]     9265\n",
       "(2014, 2024]     1615\n",
       "Name: ANNEEDEPLANTATION, dtype: int64"
      ]
     },
     "execution_count": 19,
     "metadata": {},
     "output_type": "execute_result"
    }
   ],
   "source": [
    "mandats= [1949,1959,1965,1983,1995,2014,2024]\n",
    "df_tree['ANNEEDEPLANTATION'].groupby(pd.cut(df_tree['ANNEEDEPLANTATION'], mandats)).count()"
   ]
  },
  {
   "cell_type": "markdown",
   "id": "c953b864-a040-47d0-a103-0cf178fce86f",
   "metadata": {},
   "source": [
    "## Histogramme nb d'arbres plantés par année"
   ]
  },
  {
   "cell_type": "code",
   "execution_count": 20,
   "id": "9fdd46ee-372a-4e1c-8382-11bf192b4b1f",
   "metadata": {},
   "outputs": [
    {
     "data": {
      "image/png": "[encoded data removed]",
      "text/plain": [
       "<Figure size 432x288 with 1 Axes>"
      ]
     },
     "metadata": {
      "needs_background": "light"
     },
     "output_type": "display_data"
    },
    {
     "data": {
      "text/plain": [
       "<AxesSubplot:>"
      ]
     },
     "execution_count": 20,
     "metadata": {},
     "output_type": "execute_result"
    },
    {
     "data": {
      "image/png": "[encoded data removed]",
      "text/plain": [
       "<Figure size 432x288 with 1 Axes>"
      ]
     },
     "metadata": {
      "needs_background": "light"
     },
     "output_type": "display_data"
    }
   ],
   "source": [
    "## avec matplotlib\n",
    "\n",
    "planta = df_tree['ANNEEDEPLANTATION'].value_counts().sort_index()\n",
    "plt.bar(planta.index,planta.values)\n",
    "plt.show()\n",
    "\n",
    "## avec pandas\n",
    "\n",
    "df_tree['ANNEEDEPLANTATION'].value_counts().sort_index().plot(kind='bar') \n"
   ]
  },
  {
   "cell_type": "code",
   "execution_count": 21,
   "id": "cc1ca83f-f5b4-4c6a-9cba-2660fd02765e",
   "metadata": {},
   "outputs": [
    {
     "data": {
      "text/plain": [
       "(58,)"
      ]
     },
     "execution_count": 21,
     "metadata": {},
     "output_type": "execute_result"
    }
   ],
   "source": [
    "planta.values.shape"
   ]
  },
  {
   "cell_type": "markdown",
   "id": "76f17f2c-2b47-4c37-b097-06dbc9df443e",
   "metadata": {
    "tags": []
   },
   "source": [
    "### liste de tuple gerne et annee de plantation"
   ]
  },
  {
   "cell_type": "code",
   "execution_count": 22,
   "id": "1d576225-e25c-4ca1-95ca-f5a005641620",
   "metadata": {
    "tags": []
   },
   "outputs": [
    {
     "data": {
      "text/plain": [
       "[(2017.0, 'Platanus'),\n",
       " (2017.0, 'Platanus'),\n",
       " (2017.0, 'Platanus'),\n",
       " (2017.0, 'Platanus'),\n",
       " (2017.0, 'Platanus'),\n",
       " (2017.0, 'Platanus'),\n",
       " (2017.0, 'Platanus'),\n",
       " (2017.0, 'Platanus'),\n",
       " (2017.0, 'Platanus'),\n",
       " (2017.0, 'Platanus'),\n",
       " (2017.0, 'Platanus'),\n",
       " (2017.0, 'Platanus'),\n",
       " (2017.0, 'Platanus'),\n",
       " (2017.0, 'Platanus'),\n",
       " (2017.0, 'Platanus'),\n",
       " (2017.0, 'Platanus'),\n",
       " (2017.0, 'Platanus'),\n",
       " (2017.0, 'Platanus'),\n",
       " (2017.0, 'Platanus'),\n",
       " (2017.0, 'Platanus'),\n",
       " (2017.0, 'Platanus'),\n",
       " (2017.0, 'Platanus'),\n",
       " (2017.0, 'Platanus'),\n",
       " (2017.0, 'Platanus'),\n",
       " (2017.0, 'Platanus'),\n",
       " (2017.0, 'Platanus'),\n",
       " (2017.0, 'Platanus'),\n",
       " (2017.0, 'Platanus'),\n",
       " (2017.0, 'Platanus'),\n",
       " (2017.0, 'Platanus'),\n",
       " (2017.0, 'Platanus'),\n",
       " (2017.0, 'Platanus'),\n",
       " (2017.0, 'Platanus'),\n",
       " (2017.0, 'Platanus'),\n",
       " (2017.0, 'Platanus'),\n",
       " (2017.0, 'Platanus'),\n",
       " (2017.0, 'Platanus'),\n",
       " (2017.0, 'Platanus'),\n",
       " (2000.0, 'Ginkgo'),\n",
       " (2017.0, 'Salix'),\n",
       " (2009.0, 'Liriodendron'),\n",
       " (2009.0, 'Liriodendron'),\n",
       " (2009.0, 'Liriodendron'),\n",
       " (1983.0, 'Catalpa'),\n",
       " (1983.0, 'Platanus'),\n",
       " (1976.0, 'Platanus'),\n",
       " (1976.0, 'Platanus'),\n",
       " (1976.0, 'Platanus'),\n",
       " (1976.0, 'Platanus'),\n",
       " (1976.0, 'Platanus'),\n",
       " (1976.0, 'Platanus'),\n",
       " (1976.0, 'Platanus'),\n",
       " (1976.0, 'Platanus'),\n",
       " (1976.0, 'Platanus'),\n",
       " (1976.0, 'Platanus'),\n",
       " (1976.0, 'Platanus'),\n",
       " (1976.0, 'Platanus'),\n",
       " (1976.0, 'Platanus'),\n",
       " (2017.0, 'Pyrus'),\n",
       " (2017.0, 'Robinia'),\n",
       " (2017.0, 'Robinia'),\n",
       " (2015.0, 'Acer'),\n",
       " (2015.0, 'Acer'),\n",
       " (2015.0, 'Acer'),\n",
       " (2015.0, 'Zelkova'),\n",
       " (2008.0, 'Parrotia'),\n",
       " (1966.0, 'Fraxinus'),\n",
       " (1966.0, 'Fagus'),\n",
       " (1966.0, 'Fraxinus'),\n",
       " (1966.0, 'Acer'),\n",
       " (1966.0, 'Fraxinus'),\n",
       " (1966.0, 'Magnolia'),\n",
       " (1966.0, 'Taxus'),\n",
       " (1966.0, 'Fagus'),\n",
       " (1966.0, 'Fraxinus'),\n",
       " (1966.0, 'Alnus'),\n",
       " (1966.0, 'Alnus'),\n",
       " (1966.0, 'Picea'),\n",
       " (1966.0, 'Picea'),\n",
       " (1966.0, 'Taxus'),\n",
       " (1966.0, 'Fraxinus'),\n",
       " (1966.0, 'Fraxinus'),\n",
       " (1966.0, 'Fraxinus'),\n",
       " (1966.0, 'Fraxinus'),\n",
       " (1966.0, 'Fraxinus'),\n",
       " (1966.0, 'Acer'),\n",
       " (1966.0, 'Magnolia'),\n",
       " (1966.0, 'Fraxinus'),\n",
       " (1966.0, 'Cupressus'),\n",
       " (1966.0, 'Sequoiadendron'),\n",
       " (1966.0, 'Fraxinus'),\n",
       " (1966.0, 'Fagus'),\n",
       " (1995.0, 'Pyrus'),\n",
       " (1966.0, 'Pinus'),\n",
       " (1966.0, 'Taxus'),\n",
       " (1966.0, 'Betula'),\n",
       " (1966.0, 'Fraxinus'),\n",
       " (1966.0, 'Tilia'),\n",
       " (1970.0, 'Acer'),\n",
       " (2006.0, 'Tilia'),\n",
       " (1970.0, 'Acer'),\n",
       " (1970.0, 'Cedrus'),\n",
       " (2009.0, 'Liriodendron'),\n",
       " (1970.0, 'Acer'),\n",
       " (1970.0, 'Pinus'),\n",
       " (1970.0, 'Populus'),\n",
       " (2009.0, 'Celtis'),\n",
       " (1970.0, 'Cedrus'),\n",
       " (1970.0, 'Acer'),\n",
       " (2006.0, 'Tilia'),\n",
       " (2006.0, 'Tilia'),\n",
       " (1970.0, 'Picea'),\n",
       " (2009.0, 'Celtis'),\n",
       " (1970.0, 'Picea'),\n",
       " (2009.0, 'Celtis'),\n",
       " (1970.0, 'Populus'),\n",
       " (2006.0, 'Celtis'),\n",
       " (1970.0, 'Acer'),\n",
       " (1970.0, 'Thuja'),\n",
       " (2011.0, 'Sorbus'),\n",
       " (1970.0, 'Picea'),\n",
       " (1970.0, 'Populus'),\n",
       " (1970.0, 'Acer'),\n",
       " (1970.0, 'Sophora'),\n",
       " (1970.0, 'Pinus'),\n",
       " (1970.0, 'Robinia'),\n",
       " (1970.0, 'Ginkgo'),\n",
       " (1970.0, 'Fagus'),\n",
       " (1970.0, 'Acer'),\n",
       " (1970.0, 'Acer'),\n",
       " (2011.0, 'Acer'),\n",
       " (1970.0, 'Ginkgo'),\n",
       " (1970.0, 'Robinia'),\n",
       " (2011.0, 'Sorbus'),\n",
       " (1970.0, 'Acer'),\n",
       " (1970.0, 'Acer'),\n",
       " (1970.0, 'Populus'),\n",
       " (1970.0, 'Liquidambar'),\n",
       " (1970.0, 'Acer'),\n",
       " (2006.0, 'Tilia'),\n",
       " (2009.0, 'Celtis'),\n",
       " (2009.0, 'Celtis'),\n",
       " (2009.0, 'Acer'),\n",
       " (1970.0, 'Pinus'),\n",
       " (1970.0, 'Pinus'),\n",
       " (2006.0, 'Tilia'),\n",
       " (1970.0, 'Thuja'),\n",
       " (2009.0, 'Prunus'),\n",
       " (1970.0, 'Picea'),\n",
       " (2006.0, 'Tilia'),\n",
       " (1970.0, 'Ginkgo'),\n",
       " (1970.0, 'Fraxinus'),\n",
       " (1970.0, 'Thuja'),\n",
       " (1970.0, 'Cedrus'),\n",
       " (1970.0, 'Acer'),\n",
       " (1970.0, 'Robinia'),\n",
       " (1970.0, 'Populus'),\n",
       " (1970.0, 'Acer'),\n",
       " (1970.0, 'Populus'),\n",
       " (1970.0, 'Picea'),\n",
       " (1970.0, 'Acer'),\n",
       " (1970.0, 'Acer'),\n",
       " (2009.0, 'Prunus'),\n",
       " (1970.0, 'Acer'),\n",
       " (2009.0, 'Celtis'),\n",
       " (1970.0, 'Acer'),\n",
       " (1970.0, 'Populus'),\n",
       " (2006.0, 'Tilia'),\n",
       " (2009.0, 'Celtis'),\n",
       " (1970.0, 'Acer'),\n",
       " (1970.0, 'Liquidambar'),\n",
       " (1970.0, 'Robinia'),\n",
       " (1970.0, 'Platanus'),\n",
       " (1970.0, 'Pinus'),\n",
       " (1970.0, 'Cedrus'),\n",
       " (1970.0, 'Cedrus'),\n",
       " (1970.0, 'Acer'),\n",
       " (2009.0, 'Celtis'),\n",
       " (1970.0, 'Acer'),\n",
       " (2009.0, 'Celtis'),\n",
       " (1970.0, 'Populus'),\n",
       " (1970.0, 'Populus'),\n",
       " (1970.0, 'Cedrus'),\n",
       " (2007.0, 'Pinus'),\n",
       " (1970.0, 'Calocedrus'),\n",
       " (1970.0, 'Sophora'),\n",
       " (1970.0, 'Pinus'),\n",
       " (2006.0, 'Tilia'),\n",
       " (1970.0, 'Prunus'),\n",
       " (2009.0, 'Zelkova'),\n",
       " (1970.0, 'Platanus'),\n",
       " (1970.0, 'Platanus'),\n",
       " (1970.0, 'Platanus'),\n",
       " (2009.0, 'Celtis'),\n",
       " (2008.0, 'Cedrus'),\n",
       " (1970.0, 'Sophora'),\n",
       " (1970.0, 'Paulownia'),\n",
       " (1970.0, 'Fraxinus'),\n",
       " (1970.0, 'Calocedrus'),\n",
       " (1970.0, 'Cedrus'),\n",
       " (1970.0, 'Populus'),\n",
       " (1970.0, 'Fraxinus'),\n",
       " (2009.0, 'Zelkova'),\n",
       " (2009.0, 'Celtis'),\n",
       " (1970.0, 'Pinus'),\n",
       " (2009.0, 'Zelkova'),\n",
       " (1970.0, 'Picea'),\n",
       " (2009.0, 'Celtis'),\n",
       " (1970.0, 'Ginkgo'),\n",
       " (1970.0, 'Robinia'),\n",
       " (1970.0, 'Pinus'),\n",
       " (1970.0, 'Ginkgo'),\n",
       " (1970.0, 'Tilia'),\n",
       " (2011.0, 'Celtis'),\n",
       " (2011.0, 'Acer'),\n",
       " (1970.0, 'Picea'),\n",
       " (1970.0, 'Acer'),\n",
       " (1970.0, 'Acer'),\n",
       " (1970.0, 'Thuja'),\n",
       " (2011.0, 'Celtis'),\n",
       " (2011.0, 'Celtis'),\n",
       " (2011.0, 'Sorbus'),\n",
       " (1970.0, 'Cedrus'),\n",
       " (1970.0, 'Picea'),\n",
       " (1970.0, 'Liquidambar'),\n",
       " (1970.0, 'Sophora'),\n",
       " (1970.0, 'Robinia'),\n",
       " (1970.0, 'Sophora'),\n",
       " (1970.0, 'Gymnocladus'),\n",
       " (2009.0, 'Ulmus'),\n",
       " (2006.0, 'Tilia'),\n",
       " (2009.0, 'Celtis'),\n",
       " (2009.0, 'Celtis'),\n",
       " (1970.0, 'Sophora'),\n",
       " (1970.0, 'Pinus'),\n",
       " (2009.0, 'Prunus'),\n",
       " (1970.0, 'Picea'),\n",
       " (1970.0, 'Sophora'),\n",
       " (1970.0, 'Corylus'),\n",
       " (1970.0, 'Cedrus'),\n",
       " (1970.0, 'Acer'),\n",
       " (2006.0, 'Tilia'),\n",
       " (2009.0, 'Celtis'),\n",
       " (1970.0, 'Acer'),\n",
       " (2009.0, 'Celtis'),\n",
       " (2009.0, 'Acer'),\n",
       " (1970.0, 'Picea'),\n",
       " (1970.0, 'Pinus'),\n",
       " (1970.0, 'Pinus'),\n",
       " (2009.0, 'Sorbus'),\n",
       " (1970.0, 'Platanus'),\n",
       " (1970.0, 'Sophora'),\n",
       " (1970.0, 'Fraxinus'),\n",
       " (2009.0, 'Zelkova'),\n",
       " (1970.0, 'Pinus'),\n",
       " (1970.0, 'Thuja'),\n",
       " (1970.0, 'Cedrus'),\n",
       " (2006.0, 'Tilia'),\n",
       " (2006.0, 'Tilia'),\n",
       " (2007.0, 'Prunus'),\n",
       " (2009.0, 'Acer'),\n",
       " (1970.0, 'Acer'),\n",
       " (1970.0, 'Robinia'),\n",
       " (1970.0, 'Liquidambar'),\n",
       " (2006.0, 'Tilia'),\n",
       " (1970.0, 'Sophora'),\n",
       " (1970.0, 'Platanus'),\n",
       " (1970.0, 'Acer'),\n",
       " (1970.0, 'Picea'),\n",
       " (1970.0, 'Acer'),\n",
       " (2009.0, 'Celtis'),\n",
       " (1970.0, 'Morus'),\n",
       " (1970.0, 'Pinus'),\n",
       " (1970.0, 'Ginkgo'),\n",
       " (1970.0, 'Platanus'),\n",
       " (1970.0, 'Sorbus'),\n",
       " (1970.0, 'Sophora'),\n",
       " (1970.0, 'Ginkgo'),\n",
       " (1970.0, 'Populus'),\n",
       " (1970.0, 'Acer'),\n",
       " (2009.0, 'Celtis'),\n",
       " (1970.0, 'Cedrus'),\n",
       " (1970.0, 'Corylus'),\n",
       " (2002.0, 'Betula'),\n",
       " (2002.0, 'Liriodendron'),\n",
       " (2002.0, 'Liriodendron'),\n",
       " (2002.0, 'Liriodendron'),\n",
       " (2002.0, 'Liriodendron'),\n",
       " (2002.0, 'Liriodendron'),\n",
       " (2002.0, 'Liriodendron'),\n",
       " (2002.0, 'Liriodendron'),\n",
       " (2002.0, 'Betula'),\n",
       " (2002.0, 'Liriodendron'),\n",
       " (2002.0, 'Betula'),\n",
       " (2002.0, 'Betula'),\n",
       " (2002.0, 'Liriodendron'),\n",
       " (2002.0, 'Betula'),\n",
       " (2002.0, 'Betula'),\n",
       " (2002.0, 'Liriodendron'),\n",
       " (2002.0, 'Betula'),\n",
       " (2002.0, 'Betula'),\n",
       " (2002.0, 'Liriodendron'),\n",
       " (2002.0, 'Liriodendron'),\n",
       " (2002.0, 'Liriodendron'),\n",
       " (2002.0, 'Liriodendron'),\n",
       " (2002.0, 'Liriodendron'),\n",
       " (2002.0, 'Liriodendron'),\n",
       " (2002.0, 'Liriodendron'),\n",
       " (2002.0, 'Liriodendron'),\n",
       " (2002.0, 'Liriodendron'),\n",
       " (2002.0, 'Betula'),\n",
       " (2002.0, 'Betula'),\n",
       " (2002.0, 'Betula'),\n",
       " (2002.0, 'Liriodendron'),\n",
       " (2002.0, 'Liriodendron'),\n",
       " (2002.0, 'Liriodendron'),\n",
       " (2002.0, 'Liriodendron'),\n",
       " (2002.0, 'Liriodendron'),\n",
       " (2002.0, 'Liriodendron'),\n",
       " (2002.0, 'Liriodendron'),\n",
       " (2002.0, 'Liriodendron'),\n",
       " (2002.0, 'Liriodendron'),\n",
       " (2002.0, 'Betula'),\n",
       " (2002.0, 'Betula'),\n",
       " (2002.0, 'Liriodendron'),\n",
       " (2002.0, 'Liriodendron'),\n",
       " (2002.0, 'Liriodendron'),\n",
       " (2002.0, 'Betula'),\n",
       " (2002.0, 'Liriodendron'),\n",
       " (2002.0, 'Betula'),\n",
       " (2002.0, 'Betula'),\n",
       " (2002.0, 'Liriodendron'),\n",
       " (2002.0, 'Liriodendron'),\n",
       " (2002.0, 'Betula'),\n",
       " (2002.0, 'Liriodendron'),\n",
       " (2002.0, 'Liriodendron'),\n",
       " (2002.0, 'Liriodendron'),\n",
       " (2002.0, 'Betula'),\n",
       " (1981.0, 'Tilia'),\n",
       " (1981.0, 'Tilia'),\n",
       " (1981.0, 'Tilia'),\n",
       " (1981.0, 'Tilia'),\n",
       " (1981.0, 'Tilia'),\n",
       " (1981.0, 'Tilia'),\n",
       " (1981.0, 'Tilia'),\n",
       " (1981.0, 'Tilia'),\n",
       " (1981.0, 'Tilia'),\n",
       " (1981.0, 'Tilia'),\n",
       " (1981.0, 'Pinus'),\n",
       " (1981.0, 'Tilia'),\n",
       " (1981.0, 'Tilia'),\n",
       " (1981.0, 'Tilia'),\n",
       " (1981.0, 'Tilia'),\n",
       " (1981.0, 'Tilia'),\n",
       " (1981.0, 'Acer'),\n",
       " (1981.0, 'Tilia'),\n",
       " (1974.0, 'Tilia'),\n",
       " (1974.0, 'Tilia'),\n",
       " (2009.0, 'Tilia'),\n",
       " (1974.0, 'Tilia'),\n",
       " (1974.0, 'Tilia'),\n",
       " (1974.0, 'Tilia'),\n",
       " (1974.0, 'Tilia'),\n",
       " (1974.0, 'Tilia'),\n",
       " (1974.0, 'Tilia'),\n",
       " (1974.0, 'Tilia'),\n",
       " (1974.0, 'Tilia'),\n",
       " (1974.0, 'Tilia'),\n",
       " (1974.0, 'Tilia'),\n",
       " (1974.0, 'Tilia'),\n",
       " (1974.0, 'Tilia'),\n",
       " (1974.0, 'Acer'),\n",
       " (1974.0, 'Tilia'),\n",
       " (1974.0, 'Tilia'),\n",
       " (1974.0, 'Tilia'),\n",
       " (2009.0, 'Tilia'),\n",
       " (1974.0, 'Tilia'),\n",
       " (1974.0, 'Tilia'),\n",
       " (1974.0, 'Tilia'),\n",
       " (1974.0, 'Tilia'),\n",
       " (1974.0, 'Tilia'),\n",
       " (1974.0, 'Tilia'),\n",
       " (1974.0, 'Tilia'),\n",
       " (1974.0, 'Tilia'),\n",
       " (1974.0, 'Tilia'),\n",
       " (1974.0, 'Tilia'),\n",
       " (1974.0, 'Tilia'),\n",
       " (1974.0, 'Tilia'),\n",
       " (1974.0, 'Tilia'),\n",
       " (1974.0, 'Tilia'),\n",
       " (1974.0, 'Tilia'),\n",
       " (1974.0, 'Acer'),\n",
       " (2002.0, 'Liquidambar'),\n",
       " (2002.0, 'Liquidambar'),\n",
       " (2002.0, 'Liquidambar'),\n",
       " (2002.0, 'Liquidambar'),\n",
       " (2002.0, 'Liquidambar'),\n",
       " (2002.0, 'Liquidambar'),\n",
       " (2002.0, 'Liquidambar'),\n",
       " (2002.0, 'Liquidambar'),\n",
       " (1986.0, 'Clerodendron'),\n",
       " (1966.0, 'Taxus'),\n",
       " (1966.0, 'Gleditsia'),\n",
       " (1966.0, 'Taxus'),\n",
       " (1966.0, 'Libocedrus'),\n",
       " (1966.0, 'Quercus'),\n",
       " (1966.0, 'Fraxinus'),\n",
       " (2007.0, 'Lagerstroemia'),\n",
       " (2000.0, 'Celtis'),\n",
       " (1966.0, 'Acer'),\n",
       " (1966.0, 'Fraxinus'),\n",
       " (1966.0, 'Fraxinus'),\n",
       " (1966.0, 'Fraxinus'),\n",
       " (1966.0, 'Magnolia'),\n",
       " (1966.0, 'Fraxinus'),\n",
       " (1966.0, 'Taxus'),\n",
       " (1966.0, 'Alnus'),\n",
       " (1966.0, 'Alnus'),\n",
       " (1966.0, 'Acer'),\n",
       " (1966.0, 'Taxodium'),\n",
       " (1966.0, 'Alnus'),\n",
       " (1966.0, 'Fraxinus'),\n",
       " (1966.0, 'Taxus'),\n",
       " (2014.0, 'Amélanchier'),\n",
       " (2014.0, 'Amélanchier'),\n",
       " (2014.0, 'Amélanchier'),\n",
       " (2014.0, 'Acer'),\n",
       " (2014.0, 'Acer'),\n",
       " (2014.0, 'Acer'),\n",
       " (2014.0, 'Quercus'),\n",
       " (1966.0, 'Cupressus'),\n",
       " (2006.0, 'Cercidiphyllum'),\n",
       " (1966.0, 'Fraxinus'),\n",
       " (1966.0, 'Acer'),\n",
       " (1966.0, 'Taxus'),\n",
       " (1995.0, 'Pyrus'),\n",
       " (1966.0, 'Robinia'),\n",
       " (1966.0, 'Acer'),\n",
       " (1966.0, 'Cedrus'),\n",
       " (1966.0, 'Alnus'),\n",
       " (1966.0, 'Fraxinus'),\n",
       " (1966.0, 'Taxus'),\n",
       " (1966.0, 'Liriodendron'),\n",
       " (1966.0, 'Taxus'),\n",
       " (1966.0, 'Magnolia'),\n",
       " (1966.0, 'Cedrus'),\n",
       " (1995.0, 'Pyrus'),\n",
       " (1966.0, 'Alnus'),\n",
       " (1966.0, 'Ilex'),\n",
       " (1966.0, 'Magnolia'),\n",
       " (1966.0, 'Pinus'),\n",
       " (1966.0, 'Fraxinus'),\n",
       " (1966.0, 'Fraxinus'),\n",
       " (1966.0, 'Magnolia'),\n",
       " (1966.0, 'Alnus'),\n",
       " (1966.0, 'Picea'),\n",
       " (1966.0, 'Tilia'),\n",
       " (1966.0, 'Acer'),\n",
       " (1966.0, 'Robinia'),\n",
       " (1966.0, 'Taxus'),\n",
       " (1966.0, 'Alnus'),\n",
       " (1966.0, 'Picea'),\n",
       " (1966.0, 'Taxus'),\n",
       " (1966.0, 'Alnus'),\n",
       " (1966.0, 'Tilia'),\n",
       " (1966.0, 'Fraxinus'),\n",
       " (1966.0, 'Taxus'),\n",
       " (1966.0, 'Alnus'),\n",
       " (1966.0, 'Magnolia'),\n",
       " (2006.0, 'Malus'),\n",
       " (2006.0, 'Malus'),\n",
       " (2006.0, 'Malus'),\n",
       " (2006.0, 'Fraxinus'),\n",
       " (2011.0, 'Cedrela'),\n",
       " (2011.0, 'Cedrela'),\n",
       " (2006.0, 'Prunus'),\n",
       " (1975.0, 'Photinia'),\n",
       " (2006.0, 'Malus'),\n",
       " (2011.0, 'Paulownia'),\n",
       " (2011.0, 'Cedrela'),\n",
       " (2006.0, 'Sorbus'),\n",
       " (2006.0, 'Prunus'),\n",
       " (2006.0, 'Prunus'),\n",
       " (2006.0, 'Prunus'),\n",
       " (2011.0, 'Paulownia'),\n",
       " (2006.0, 'Sorbus'),\n",
       " (2012.0, 'Paulownia'),\n",
       " (2006.0, 'Prunus'),\n",
       " (2006.0, 'Malus'),\n",
       " (1983.0, 'Platanus'),\n",
       " (1983.0, 'Platanus'),\n",
       " (1983.0, 'Platanus'),\n",
       " (1983.0, 'Platanus'),\n",
       " (2009.0, 'Liriodendron'),\n",
       " (2009.0, 'Liriodendron'),\n",
       " (2009.0, 'Liriodendron'),\n",
       " (1983.0, 'Platanus'),\n",
       " (2009.0, 'Liriodendron'),\n",
       " (2009.0, 'Liriodendron'),\n",
       " (1980.0, 'Betula'),\n",
       " (1980.0, 'Robinia'),\n",
       " (1980.0, 'Pinus'),\n",
       " (1980.0, 'Populus'),\n",
       " (1980.0, 'Populus'),\n",
       " (1980.0, 'Populus'),\n",
       " (1980.0, 'Populus'),\n",
       " (2004.0, 'Celtis'),\n",
       " (2004.0, 'Celtis'),\n",
       " (2004.0, 'Celtis'),\n",
       " (2004.0, 'Celtis'),\n",
       " (2004.0, 'Celtis'),\n",
       " (1965.0, 'Platanus'),\n",
       " (1965.0, 'Platanus'),\n",
       " (1965.0, 'Platanus'),\n",
       " (1965.0, 'Platanus'),\n",
       " (1965.0, 'Platanus'),\n",
       " (1965.0, 'Platanus'),\n",
       " (1965.0, 'Platanus'),\n",
       " (1965.0, 'Platanus'),\n",
       " (1965.0, 'Platanus'),\n",
       " (1965.0, 'Platanus'),\n",
       " (1965.0, 'Platanus'),\n",
       " (1965.0, 'Platanus'),\n",
       " (1965.0, 'Platanus'),\n",
       " (1965.0, 'Platanus'),\n",
       " (1965.0, 'Platanus'),\n",
       " (1965.0, 'Platanus'),\n",
       " (1965.0, 'Platanus'),\n",
       " (1965.0, 'Platanus'),\n",
       " (1965.0, 'Platanus'),\n",
       " (1979.0, 'Tilia'),\n",
       " (1979.0, 'Tilia'),\n",
       " (1979.0, 'Tilia'),\n",
       " (1979.0, 'Pinus'),\n",
       " (1979.0, 'Robinia'),\n",
       " (1979.0, 'Paulownia'),\n",
       " (1979.0, 'Pinus'),\n",
       " (1979.0, 'Robinia'),\n",
       " (1979.0, 'Pinus'),\n",
       " (2007.0, 'Tetradium'),\n",
       " (2007.0, 'Tetradium'),\n",
       " (1999.0, 'Tetradium'),\n",
       " (1999.0, 'Tetradium'),\n",
       " (1999.0, 'Tetradium'),\n",
       " (2013.0, 'Tetradium'),\n",
       " (1999.0, 'Tetradium'),\n",
       " (2013.0, 'Tetradium'),\n",
       " (1999.0, 'Tetradium'),\n",
       " (1999.0, 'Tetradium'),\n",
       " (2010.0, 'Tetradium'),\n",
       " (1999.0, 'Tetradium'),\n",
       " (2010.0, 'Tetradium'),\n",
       " (2010.0, 'Tetradium'),\n",
       " (2010.0, 'Tetradium'),\n",
       " (2009.0, 'Tetradium'),\n",
       " (2013.0, 'Tetradium'),\n",
       " (2011.0, 'Tetradium'),\n",
       " (2007.0, 'Tetradium'),\n",
       " (2009.0, 'Tetradium'),\n",
       " (1999.0, 'Tetradium'),\n",
       " (1965.0, 'Platanus'),\n",
       " (1965.0, 'Platanus'),\n",
       " (1965.0, 'Platanus'),\n",
       " (1965.0, 'Platanus'),\n",
       " (1965.0, 'Platanus'),\n",
       " (1965.0, 'Platanus'),\n",
       " (1965.0, 'Platanus'),\n",
       " (1965.0, 'Platanus'),\n",
       " (1965.0, 'Platanus'),\n",
       " (1965.0, 'Platanus'),\n",
       " (1965.0, 'Platanus'),\n",
       " (1965.0, 'Platanus'),\n",
       " (1965.0, 'Platanus'),\n",
       " (1965.0, 'Platanus'),\n",
       " (1965.0, 'Platanus'),\n",
       " (1965.0, 'Platanus'),\n",
       " (1965.0, 'Platanus'),\n",
       " (1965.0, 'Platanus'),\n",
       " (1965.0, 'Platanus'),\n",
       " (1991.0, 'Tilia'),\n",
       " (1991.0, 'Tilia'),\n",
       " (1991.0, 'Tilia'),\n",
       " (1991.0, 'Tilia'),\n",
       " (1991.0, 'Tilia'),\n",
       " (1991.0, 'Tilia'),\n",
       " (1991.0, 'Tilia'),\n",
       " (1991.0, 'Tilia'),\n",
       " (1991.0, 'Tilia'),\n",
       " (1991.0, 'Tilia'),\n",
       " (1991.0, 'Tilia'),\n",
       " (1991.0, 'Tilia'),\n",
       " (2011.0, 'Tilia'),\n",
       " (2011.0, 'Liriodendron'),\n",
       " (2011.0, 'Liriodendron'),\n",
       " (2011.0, 'Liriodendron'),\n",
       " (2012.0, 'Liriodendron'),\n",
       " (2012.0, 'Liriodendron'),\n",
       " (2011.0, 'Liriodendron'),\n",
       " (2011.0, 'Liriodendron'),\n",
       " (2011.0, 'Liriodendron'),\n",
       " (2011.0, 'Liriodendron'),\n",
       " (2011.0, 'Liriodendron'),\n",
       " (2009.0, 'Pinus'),\n",
       " (2010.0, 'Fraxinus'),\n",
       " (2010.0, 'Fraxinus'),\n",
       " (2010.0, 'Fraxinus'),\n",
       " (2011.0, 'Pinus'),\n",
       " (2010.0, 'Fraxinus'),\n",
       " (2010.0, 'Fraxinus'),\n",
       " (2010.0, 'Fraxinus'),\n",
       " (2010.0, 'Fraxinus'),\n",
       " (2011.0, 'Fraxinus'),\n",
       " (2011.0, 'Fraxinus'),\n",
       " (2010.0, 'Fraxinus'),\n",
       " (2009.0, 'Pinus'),\n",
       " (2010.0, 'Fraxinus'),\n",
       " (1996.0, 'Ulmus'),\n",
       " (1996.0, 'Ulmus'),\n",
       " (1996.0, 'Acer'),\n",
       " (1996.0, 'Acer'),\n",
       " (1996.0, 'Populus'),\n",
       " (1996.0, 'Acer'),\n",
       " (1996.0, 'Populus'),\n",
       " (1996.0, 'Acer'),\n",
       " (1996.0, 'Acer'),\n",
       " (1996.0, 'Ulmus'),\n",
       " (1996.0, 'Ulmus'),\n",
       " (1981.0, 'Liriodendron'),\n",
       " (1999.0, 'Platanus'),\n",
       " (1999.0, 'Platanus'),\n",
       " (1999.0, 'Platanus'),\n",
       " (1999.0, 'Platanus'),\n",
       " (1999.0, 'Platanus'),\n",
       " (1999.0, 'Platanus'),\n",
       " (1999.0, 'Platanus'),\n",
       " (1999.0, 'Platanus'),\n",
       " (1999.0, 'Platanus'),\n",
       " (2014.0, 'Platanus'),\n",
       " (2014.0, 'Platanus'),\n",
       " (1999.0, 'Platanus'),\n",
       " (1999.0, 'Platanus'),\n",
       " (1999.0, 'Platanus'),\n",
       " (1999.0, 'Platanus'),\n",
       " (1999.0, 'Platanus'),\n",
       " (1999.0, 'Platanus'),\n",
       " (1999.0, 'Platanus'),\n",
       " (1999.0, 'Platanus'),\n",
       " (1999.0, 'Platanus'),\n",
       " (1999.0, 'Platanus'),\n",
       " (1999.0, 'Platanus'),\n",
       " (1999.0, 'Platanus'),\n",
       " (2001.0, 'Platanus'),\n",
       " (2001.0, 'Platanus'),\n",
       " (2001.0, 'Platanus'),\n",
       " (2001.0, 'Platanus'),\n",
       " (2001.0, 'Platanus'),\n",
       " (2001.0, 'Platanus'),\n",
       " (2001.0, 'Platanus'),\n",
       " (2001.0, 'Platanus'),\n",
       " (2001.0, 'Platanus'),\n",
       " (2001.0, 'Platanus'),\n",
       " (2001.0, 'Platanus'),\n",
       " (2001.0, 'Platanus'),\n",
       " (2001.0, 'Platanus'),\n",
       " (2001.0, 'Platanus'),\n",
       " (2001.0, 'Platanus'),\n",
       " (2001.0, 'Platanus'),\n",
       " (2001.0, 'Platanus'),\n",
       " (2001.0, 'Platanus'),\n",
       " (2008.0, 'Platanus'),\n",
       " (2001.0, 'Platanus'),\n",
       " (2008.0, 'Platanus'),\n",
       " (2001.0, 'Platanus'),\n",
       " (2001.0, 'Platanus'),\n",
       " (2001.0, 'Platanus'),\n",
       " (2001.0, 'Platanus'),\n",
       " (2001.0, 'Platanus'),\n",
       " (2001.0, 'Platanus'),\n",
       " (2008.0, 'Platanus'),\n",
       " (2001.0, 'Platanus'),\n",
       " (2001.0, 'Platanus'),\n",
       " (2001.0, 'Platanus'),\n",
       " (2001.0, 'Platanus'),\n",
       " (2008.0, 'Platanus'),\n",
       " (2001.0, 'Platanus'),\n",
       " (2001.0, 'Platanus'),\n",
       " (2001.0, 'Platanus'),\n",
       " (2001.0, 'Platanus'),\n",
       " (2001.0, 'Platanus'),\n",
       " (2001.0, 'Platanus'),\n",
       " (2001.0, 'Platanus'),\n",
       " (2001.0, 'Platanus'),\n",
       " (2001.0, 'Platanus'),\n",
       " (2001.0, 'Platanus'),\n",
       " (2008.0, 'Platanus'),\n",
       " (2001.0, 'Platanus'),\n",
       " (2001.0, 'Platanus'),\n",
       " (2001.0, 'Platanus'),\n",
       " (2001.0, 'Platanus'),\n",
       " (2001.0, 'Platanus'),\n",
       " (2001.0, 'Platanus'),\n",
       " (2001.0, 'Platanus'),\n",
       " (2001.0, 'Platanus'),\n",
       " (2001.0, 'Platanus'),\n",
       " (2001.0, 'Platanus'),\n",
       " (2001.0, 'Platanus'),\n",
       " (1990.0, 'Acer'),\n",
       " (1990.0, 'Acer'),\n",
       " (1990.0, 'Acer'),\n",
       " (1990.0, 'Acer'),\n",
       " (1990.0, 'Acer'),\n",
       " (1990.0, 'Acer'),\n",
       " (1990.0, 'Acer'),\n",
       " (1990.0, 'Acer'),\n",
       " (1990.0, 'Acer'),\n",
       " (1990.0, 'Acer'),\n",
       " (1990.0, 'Acer'),\n",
       " (1990.0, 'Acer'),\n",
       " (1990.0, 'Acer'),\n",
       " (1990.0, 'Acer'),\n",
       " (2009.0, 'Acer'),\n",
       " (1990.0, 'Acer'),\n",
       " (1975.0, 'Platanus'),\n",
       " (1975.0, 'Platanus'),\n",
       " (1975.0, 'Platanus'),\n",
       " (1975.0, 'Platanus'),\n",
       " (1975.0, 'Platanus'),\n",
       " (1975.0, 'Platanus'),\n",
       " (1975.0, 'Platanus'),\n",
       " (1978.0, 'Pinus'),\n",
       " (1978.0, 'Cupressus'),\n",
       " (1978.0, 'Pinus'),\n",
       " (1978.0, 'Pinus'),\n",
       " (1978.0, 'Acer'),\n",
       " (1978.0, 'Pinus'),\n",
       " (1978.0, 'Pinus'),\n",
       " (1978.0, 'Acer'),\n",
       " (1978.0, 'Acer'),\n",
       " (1978.0, 'Thuja'),\n",
       " (1978.0, 'Acer'),\n",
       " (2009.0, 'Koelreuteria'),\n",
       " (1978.0, 'Acer'),\n",
       " (1978.0, 'Acer'),\n",
       " (1978.0, 'Acer'),\n",
       " (1978.0, 'Pinus'),\n",
       " (1980.0, 'Acer'),\n",
       " (1980.0, 'Betula'),\n",
       " (1980.0, 'Malus'),\n",
       " (2014.0, 'Halesia'),\n",
       " (1980.0, 'Crataegus'),\n",
       " (1980.0, 'Acer'),\n",
       " (1980.0, 'Acer'),\n",
       " (1980.0, 'Acer'),\n",
       " (1980.0, 'Cedrus'),\n",
       " (1980.0, 'Crataegus'),\n",
       " (1970.0, 'Morus'),\n",
       " (1970.0, 'Morus'),\n",
       " (1970.0, 'Morus'),\n",
       " (1970.0, 'Aesculus'),\n",
       " (1970.0, 'Aesculus'),\n",
       " (2011.0, 'Prunus'),\n",
       " (2010.0, 'Prunus'),\n",
       " (2010.0, 'Prunus'),\n",
       " (2002.0, 'Acer'),\n",
       " (2002.0, 'Acer'),\n",
       " (2002.0, 'Acer'),\n",
       " (2002.0, 'Acer'),\n",
       " (2002.0, 'Acer'),\n",
       " (2001.0, 'Liriodendron'),\n",
       " (2001.0, 'Liriodendron'),\n",
       " (2001.0, 'Liriodendron'),\n",
       " (2001.0, 'Liriodendron'),\n",
       " (2001.0, 'Liriodendron'),\n",
       " (2001.0, 'Liriodendron'),\n",
       " (2001.0, 'Liriodendron'),\n",
       " (2001.0, 'Liriodendron'),\n",
       " (2001.0, 'Liriodendron'),\n",
       " (2001.0, 'Liriodendron'),\n",
       " (2001.0, 'Liriodendron'),\n",
       " (2001.0, 'Liriodendron'),\n",
       " (2001.0, 'Liriodendron'),\n",
       " (2001.0, 'Liriodendron'),\n",
       " (2001.0, 'Liriodendron'),\n",
       " (2001.0, 'Liriodendron'),\n",
       " (2001.0, 'Liriodendron'),\n",
       " (2001.0, 'Liriodendron'),\n",
       " (2001.0, 'Liriodendron'),\n",
       " (2001.0, 'Liriodendron'),\n",
       " (2001.0, 'Liriodendron'),\n",
       " (2001.0, 'Liriodendron'),\n",
       " (2001.0, 'Liriodendron'),\n",
       " (2001.0, 'Liriodendron'),\n",
       " (2001.0, 'Liriodendron'),\n",
       " (2001.0, 'Liriodendron'),\n",
       " (2001.0, 'Liriodendron'),\n",
       " (2001.0, 'Liriodendron'),\n",
       " (2001.0, 'Liriodendron'),\n",
       " (2001.0, 'Liriodendron'),\n",
       " (2001.0, 'Liriodendron'),\n",
       " (2001.0, 'Liriodendron'),\n",
       " (2001.0, 'Liriodendron'),\n",
       " (2001.0, 'Liriodendron'),\n",
       " (2001.0, 'Liriodendron'),\n",
       " (2001.0, 'Liriodendron'),\n",
       " (2001.0, 'Liriodendron'),\n",
       " (2001.0, 'Liriodendron'),\n",
       " (2001.0, 'Liriodendron'),\n",
       " (2001.0, 'Liriodendron'),\n",
       " (1984.0, 'Liquidambar'),\n",
       " (1984.0, 'Liquidambar'),\n",
       " (1984.0, 'Liquidambar'),\n",
       " (1984.0, 'Liquidambar'),\n",
       " (1984.0, 'Liquidambar'),\n",
       " (1984.0, 'Liquidambar'),\n",
       " (1984.0, 'Liquidambar'),\n",
       " (1984.0, 'Liquidambar'),\n",
       " (1984.0, 'Liquidambar'),\n",
       " (1984.0, 'Liquidambar'),\n",
       " (1984.0, 'Liquidambar'),\n",
       " (1984.0, 'Liquidambar'),\n",
       " (1984.0, 'Liquidambar'),\n",
       " (1961.0, 'Populus'),\n",
       " (1961.0, 'Populus'),\n",
       " (1961.0, 'Populus'),\n",
       " (1961.0, 'Populus'),\n",
       " (1961.0, 'Populus'),\n",
       " (1961.0, 'Populus'),\n",
       " (1961.0, 'Populus'),\n",
       " (1961.0, 'Populus'),\n",
       " (1961.0, 'Populus'),\n",
       " (1961.0, 'Populus'),\n",
       " (1961.0, 'Populus'),\n",
       " (2013.0, 'Ptelea'),\n",
       " (2013.0, 'Ptelea'),\n",
       " (1961.0, 'Populus'),\n",
       " (1961.0, 'Populus'),\n",
       " (1961.0, 'Populus'),\n",
       " (1961.0, 'Populus'),\n",
       " (1961.0, 'Populus'),\n",
       " (1961.0, 'Populus'),\n",
       " (1961.0, 'Populus'),\n",
       " (1961.0, 'Populus'),\n",
       " (1961.0, 'Populus'),\n",
       " (1961.0, 'Populus'),\n",
       " (1961.0, 'Populus'),\n",
       " (1961.0, 'Populus'),\n",
       " (1961.0, 'Populus'),\n",
       " (1961.0, 'Populus'),\n",
       " (1961.0, 'Populus'),\n",
       " (1961.0, 'Populus'),\n",
       " (1975.0, 'Platanus'),\n",
       " (1975.0, 'Platanus'),\n",
       " (1975.0, 'Platanus'),\n",
       " (1975.0, 'Platanus'),\n",
       " (1975.0, 'Platanus'),\n",
       " (1975.0, 'Platanus'),\n",
       " (1975.0, 'Betula'),\n",
       " (1975.0, 'Platanus'),\n",
       " (1965.0, 'Platanus'),\n",
       " (1965.0, 'Platanus'),\n",
       " (1965.0, 'Prunus'),\n",
       " (1965.0, 'Platanus'),\n",
       " (1965.0, 'Platanus'),\n",
       " (1965.0, 'Platanus'),\n",
       " (1965.0, 'Platanus'),\n",
       " (1965.0, 'Prunus'),\n",
       " (1965.0, 'Platanus'),\n",
       " (1965.0, 'Platanus'),\n",
       " (1965.0, 'Platanus'),\n",
       " (1965.0, 'Platanus'),\n",
       " (1965.0, 'Platanus'),\n",
       " (1965.0, 'Platanus'),\n",
       " (1965.0, 'Platanus'),\n",
       " (1965.0, 'Platanus'),\n",
       " (1965.0, 'Platanus'),\n",
       " (1965.0, 'Platanus'),\n",
       " (1965.0, 'Platanus'),\n",
       " (1965.0, 'Platanus'),\n",
       " (1965.0, 'Platanus'),\n",
       " (1965.0, 'Prunus'),\n",
       " (1965.0, 'Platanus'),\n",
       " (1965.0, 'Platanus'),\n",
       " (1965.0, 'Platanus'),\n",
       " (1965.0, 'Prunus'),\n",
       " (1965.0, 'Platanus'),\n",
       " (1965.0, 'Prunus'),\n",
       " (1965.0, 'Platanus'),\n",
       " (1965.0, 'Platanus'),\n",
       " (1965.0, 'Prunus'),\n",
       " (1965.0, 'Platanus'),\n",
       " (1965.0, 'Prunus'),\n",
       " (1989.0, 'Quercus'),\n",
       " (1989.0, 'Fraxinus'),\n",
       " (1989.0, 'Acer'),\n",
       " (1999.0, 'Celtis'),\n",
       " (2007.0, 'Fraxinus'),\n",
       " (1989.0, 'Fraxinus'),\n",
       " (1989.0, 'Fraxinus'),\n",
       " (1989.0, 'Fraxinus'),\n",
       " (1989.0, 'Fraxinus'),\n",
       " (1989.0, 'Acer'),\n",
       " (1999.0, 'Chimonanthus'),\n",
       " (1999.0, 'Thuja'),\n",
       " (1999.0, 'Chimonanthus'),\n",
       " (1999.0, 'Chimonanthus'),\n",
       " (1998.0, 'Pyrus'),\n",
       " (1998.0, 'Pyrus'),\n",
       " (1998.0, 'Pyrus'),\n",
       " (1980.0, 'Populus'),\n",
       " (1980.0, 'Populus'),\n",
       " (1980.0, 'Pinus'),\n",
       " (1980.0, 'Betula'),\n",
       " (1980.0, 'Populus'),\n",
       " (1980.0, 'Populus'),\n",
       " (1980.0, 'Picea'),\n",
       " (1980.0, 'Populus'),\n",
       " (1980.0, 'Robinia'),\n",
       " (1980.0, 'Acer'),\n",
       " (1980.0, 'Populus'),\n",
       " (1980.0, 'Tilia'),\n",
       " (1980.0, 'Pinus'),\n",
       " (1980.0, 'Populus'),\n",
       " (1980.0, 'Populus'),\n",
       " (1980.0, 'Populus'),\n",
       " (1980.0, 'Betula'),\n",
       " (1980.0, 'Populus'),\n",
       " (1980.0, 'Betula'),\n",
       " (1980.0, 'Ulmus'),\n",
       " (1980.0, 'Salix'),\n",
       " (1980.0, 'Populus'),\n",
       " (1980.0, 'Pinus'),\n",
       " (1980.0, 'Populus'),\n",
       " (2015.0, 'Tilia'),\n",
       " (2015.0, 'Alnus'),\n",
       " (2015.0, 'Acer'),\n",
       " (2015.0, 'Fraxinus'),\n",
       " (2015.0, 'Ulmus'),\n",
       " (2015.0, 'Fraxinus'),\n",
       " (2015.0, 'Fraxinus'),\n",
       " (2015.0, 'Acer'),\n",
       " (2015.0, 'Acer'),\n",
       " (2015.0, 'Alnus'),\n",
       " (2015.0, 'Alnus'),\n",
       " (2015.0, 'Alnus'),\n",
       " (2015.0, 'Fraxinus'),\n",
       " (2015.0, 'Fraxinus'),\n",
       " (2015.0, 'Ulmus'),\n",
       " (2015.0, 'Acer'),\n",
       " (2015.0, 'Fraxinus'),\n",
       " (2015.0, 'Alnus'),\n",
       " (2015.0, 'Amélanchier'),\n",
       " (2015.0, 'Alnus'),\n",
       " (1975.0, 'Acer'),\n",
       " (1975.0, 'Carpinus'),\n",
       " (1975.0, 'Carpinus'),\n",
       " (1975.0, 'Betula'),\n",
       " (1975.0, 'Koelreuteria'),\n",
       " (1975.0, 'Acer'),\n",
       " (1975.0, 'Koelreuteria'),\n",
       " (1975.0, 'Koelreuteria'),\n",
       " (1975.0, 'Acer'),\n",
       " (1975.0, 'Koelreuteria'),\n",
       " (1975.0, 'Acer'),\n",
       " (1975.0, 'Betula'),\n",
       " (1975.0, 'Koelreuteria'),\n",
       " (1975.0, 'Acer'),\n",
       " (1975.0, 'Koelreuteria'),\n",
       " (1975.0, 'Acer'),\n",
       " (1975.0, 'Acer'),\n",
       " (1975.0, 'Acer'),\n",
       " (1975.0, 'Betula'),\n",
       " (1975.0, 'Betula'),\n",
       " (1975.0, 'Koelreuteria'),\n",
       " (1975.0, 'Betula'),\n",
       " (1975.0, 'Acer'),\n",
       " (1975.0, 'Betula'),\n",
       " (1975.0, 'Koelreuteria'),\n",
       " (1975.0, 'Koelreuteria'),\n",
       " (2015.0, 'Alnus'),\n",
       " (2015.0, 'Metasequoia'),\n",
       " (2015.0, 'Tilia'),\n",
       " (2015.0, 'Prunus'),\n",
       " (1982.0, 'Pinus'),\n",
       " (1982.0, 'Acer'),\n",
       " (2015.0, 'Prunus'),\n",
       " (2015.0, 'Malus'),\n",
       " (2015.0, 'Malus'),\n",
       " (2015.0, 'Cercis'),\n",
       " (2015.0, 'Cercis'),\n",
       " (2015.0, 'Acer'),\n",
       " (2015.0, 'Pyrus'),\n",
       " (2015.0, 'Malus'),\n",
       " (2015.0, 'Pyrus'),\n",
       " (2015.0, 'Malus'),\n",
       " (2015.0, 'Prunus'),\n",
       " (2015.0, 'Prunus'),\n",
       " (2015.0, 'Prunus'),\n",
       " (2015.0, 'Malus'),\n",
       " (2015.0, 'Malus'),\n",
       " (2015.0, 'Acer'),\n",
       " ...]"
      ]
     },
     "execution_count": 22,
     "metadata": {},
     "output_type": "execute_result"
    }
   ],
   "source": [
    "list(zip(df_tree.dropna(subset=['GENRE_BOTA','ANNEEDEPLANTATION'])['ANNEEDEPLANTATION'],\n",
    "         df_tree.dropna(subset=['GENRE_BOTA','ANNEEDEPLANTATION'])['GENRE_BOTA']))"
   ]
  },
  {
   "cell_type": "markdown",
   "id": "cae42789-7fb5-4226-aead-84754bcb3027",
   "metadata": {},
   "source": [
    "## Analyse sur Genre Botanique"
   ]
  },
  {
   "cell_type": "markdown",
   "id": "85f03120-6de9-41a8-846c-36dbf0df09f6",
   "metadata": {},
   "source": [
    "### Genre manquant "
   ]
  },
  {
   "cell_type": "code",
   "execution_count": 23,
   "id": "4d2d1b5f-d59d-4cbf-9acc-2e84d64e504b",
   "metadata": {},
   "outputs": [
    {
     "name": "stdout",
     "output_type": "stream",
     "text": [
      "Il y a 515 arbres avec des données incompletes en terme de genre\n"
     ]
    }
   ],
   "source": [
    "nb_na_genre = df_tree['GENRE_BOTA'].isna().sum()\n",
    "print(f\"Il y a {nb_na_genre} arbres avec des données incompletes en terme de genre\")"
   ]
  },
  {
   "cell_type": "markdown",
   "id": "4ef53199-77e9-4f45-a464-70c7603408d4",
   "metadata": {},
   "source": [
    "### Nombre de genre botanique à Grenoble"
   ]
  },
  {
   "cell_type": "code",
   "execution_count": 24,
   "id": "d9e46f1d-04db-48ea-9876-5a9daf082e28",
   "metadata": {},
   "outputs": [
    {
     "name": "stdout",
     "output_type": "stream",
     "text": [
      "Il y a 112 genres botanique à Grenoble\n",
      "Le genre botanique le plus représenté est Acer\n"
     ]
    }
   ],
   "source": [
    "# génération d'une pandas series en comptant les occurences de chaque genre\n",
    "bota_g = df_tree['GENRE_BOTA'].value_counts()\n",
    "print(f\"Il y a {len(bota_g)} genres botanique à Grenoble\")\n",
    "print(f\"Le genre botanique le plus représenté est {bota_g.idxmax()}\")"
   ]
  },
  {
   "cell_type": "markdown",
   "id": "956cf6f5-cf73-4381-ae44-0e1c30506357",
   "metadata": {},
   "source": [
    "### Représentants uniques en ordre décroissant"
   ]
  },
  {
   "cell_type": "code",
   "execution_count": 25,
   "id": "2ea17500-a5a6-4e3c-9859-69b52ed9bc3e",
   "metadata": {},
   "outputs": [
    {
     "name": "stdout",
     "output_type": "stream",
     "text": [
      "['Acer' 'Platanus' 'Pinus' 'Tilia' 'Fraxinus' 'Carpinus' 'Betula' 'Prunus'\n",
      " 'Populus' 'Alnus' 'Liquidambar' 'Quercus' 'Liriodendron' 'Pyrus'\n",
      " 'Aesculus' 'Sophora' 'Magnolia' 'Cedrus' 'Chamaecyparis' 'Gleditsia'\n",
      " 'Cercis' 'Robinia' 'Koelreuteria' 'Fagus' 'Malus' 'Picea' 'Zelkova'\n",
      " 'Ulmus' 'Cupressus' 'Taxus' 'Celtis' 'Corylus' 'Salix' 'Ginkgo'\n",
      " 'Crataegus' 'Paulownia' 'Cupressocyparis' 'Morus' 'Amélanchier' 'Catalpa'\n",
      " 'Tetradium' 'Sorbus' 'Metasequoia' 'Ailanthus' 'Albizia' 'Juglans'\n",
      " 'Parrotia' 'Pterocarya' 'Lagerstroemia' 'Thuja' 'Libocedrus' 'Cedrela'\n",
      " 'Cladastris' 'Ostrya' 'Syringa' 'Chionanthus' 'Sambucus' 'Abies' 'Ilex'\n",
      " 'Cornus' 'Broussonetia' 'Trachycarpus' 'Eleagnus' 'Ficus' 'Buxus'\n",
      " 'Diospyros' 'Sequoiadendron' 'Phellodendron' 'Laburnum' 'Pteroceltis'\n",
      " 'Cydonia' 'Cotinus' 'Photinia' 'Halesia' 'Taxodium' 'Gymnocladus'\n",
      " 'Davidia' 'Pistacia' 'Mespilus' 'Cercidiphyllum' 'Rhus' 'Pterostyrax'\n",
      " 'Lonicera' 'Ligustrum' 'Larix' 'Olea' 'Maclura' 'Clerodendron' 'Chitalpa'\n",
      " 'Juniperus' 'Fontanesia' 'Calocedrus' 'Punica' 'Styrax' 'Ptelea'\n",
      " 'Chimonanthus' 'Cephalotaxus' 'Eriobotrya ' 'Phillyrea' 'Hovenia'\n",
      " 'Cryptomeria' 'Araucaria' 'Sorbopyrus' 'Sciadopitys' 'Nyssa' 'Rhamnus'\n",
      " 'Castanea' 'Sequoia' 'Staphylea' 'Eucalyptus' 'Sterculia' 'Poncinos']\n"
     ]
    }
   ],
   "source": [
    "print(bota_g.index.values)"
   ]
  },
  {
   "cell_type": "markdown",
   "id": "403e9142-b931-46ee-aecd-8f614e1de0ae",
   "metadata": {},
   "source": [
    "### Proportion des genres botaniques"
   ]
  },
  {
   "cell_type": "code",
   "execution_count": 26,
   "id": "025edce4-3a7c-4a6f-9aef-b4c4f7523bfa",
   "metadata": {},
   "outputs": [
    {
     "data": {
      "text/plain": [
       "17.170007810466025"
      ]
     },
     "execution_count": 26,
     "metadata": {},
     "output_type": "execute_result"
    }
   ],
   "source": [
    "bota_g.max()*100/bota_g.sum()"
   ]
  },
  {
   "cell_type": "code",
   "execution_count": 27,
   "id": "aed476f0-7a2b-4831-b6e4-1051eead2747",
   "metadata": {},
   "outputs": [
    {
     "data": {
      "text/plain": [
       "Acer          17.2%\n",
       "Platanus      15.2%\n",
       "Pinus          6.9%\n",
       "Tilia          5.8%\n",
       "Fraxinus       4.9%\n",
       "              ...  \n",
       "Sequoia        0.0%\n",
       "Staphylea      0.0%\n",
       "Eucalyptus     0.0%\n",
       "Sterculia      0.0%\n",
       "Poncinos       0.0%\n",
       "Name: GENRE_BOTA, Length: 112, dtype: object"
      ]
     },
     "execution_count": 27,
     "metadata": {},
     "output_type": "execute_result"
    }
   ],
   "source": [
    "bota_g_proportions = df_tree['GENRE_BOTA'].value_counts(normalize=True).mul(100).round(1).astype(str) +'%'\n",
    "bota_g_proportions"
   ]
  },
  {
   "cell_type": "markdown",
   "id": "3aa2c386-9cfa-408e-95b7-096a4fded480",
   "metadata": {},
   "source": [
    "Les objectifs de la Metropole sont validés car le genre dominant est inférieur à 20% "
   ]
  },
  {
   "cell_type": "markdown",
   "id": "cad14268-24e5-4dac-a2af-834832e490d6",
   "metadata": {},
   "source": [
    "## Analyse sur Genre espèces"
   ]
  },
  {
   "cell_type": "markdown",
   "id": "fa223bc9-670e-44ff-8029-4322c6b81a4d",
   "metadata": {},
   "source": [
    "### Représentants uniques en ordre décroissant"
   ]
  },
  {
   "cell_type": "code",
   "execution_count": 28,
   "id": "4efdf1e3-9d30-45e6-8b87-536b009ebcbe",
   "metadata": {},
   "outputs": [
    {
     "data": {
      "text/plain": [
       "GENRE_BOTA  ESPECE        \n",
       "Platanus    acerifolia        4422\n",
       "Acer        pseudoplatanus    1347\n",
       "Pinus       nigra             1304\n",
       "Carpinus    betulus           1282\n",
       "Acer        platanoides       1130\n",
       "                              ... \n",
       "Celtis      julianae             1\n",
       "Quercus     phellos              1\n",
       "Acer        opalus               1\n",
       "Quercus     macrocarpa           1\n",
       "Populus     lasiocarpa           1\n",
       "Length: 312, dtype: int64"
      ]
     },
     "execution_count": 28,
     "metadata": {},
     "output_type": "execute_result"
    }
   ],
   "source": [
    "bota_ge=df_tree[['GENRE_BOTA','ESPECE']].value_counts()\n",
    "bota_ge"
   ]
  },
  {
   "cell_type": "code",
   "execution_count": 29,
   "id": "e5182b4d-f089-4ead-87c3-ca5622ccc71c",
   "metadata": {},
   "outputs": [],
   "source": [
    "# print(bota_ge.index.values)"
   ]
  },
  {
   "cell_type": "markdown",
   "id": "b854d728-9893-4cc8-8405-ddd7ece88125",
   "metadata": {},
   "source": [
    "### Proportion des genres espèces botaniques"
   ]
  },
  {
   "cell_type": "code",
   "execution_count": 30,
   "id": "155e82bf-a9e4-414a-a705-7d90766e38a3",
   "metadata": {},
   "outputs": [
    {
     "data": {
      "text/plain": [
       "15.220459160843975"
      ]
     },
     "execution_count": 30,
     "metadata": {},
     "output_type": "execute_result"
    }
   ],
   "source": [
    "bota_ge.max()*100/bota_ge.sum()"
   ]
  },
  {
   "cell_type": "code",
   "execution_count": 31,
   "id": "ed156832-ff4a-4b87-8fba-7a3122c1f586",
   "metadata": {},
   "outputs": [
    {
     "data": {
      "text/plain": [
       "GENRE_BOTA  ESPECE        \n",
       "Platanus    acerifolia        15.2%\n",
       "Acer        pseudoplatanus     4.6%\n",
       "Pinus       nigra              4.5%\n",
       "Carpinus    betulus            4.4%\n",
       "Acer        platanoides        3.9%\n",
       "                              ...  \n",
       "Celtis      julianae           0.0%\n",
       "Quercus     phellos            0.0%\n",
       "Acer        opalus             0.0%\n",
       "Quercus     macrocarpa         0.0%\n",
       "Populus     lasiocarpa         0.0%\n",
       "Length: 312, dtype: object"
      ]
     },
     "execution_count": 31,
     "metadata": {},
     "output_type": "execute_result"
    }
   ],
   "source": [
    "bota_ge_proportions = df_tree[['GENRE_BOTA','ESPECE']].value_counts(normalize=True).mul(100).round(1).astype(str) +'%'\n",
    "bota_ge_proportions"
   ]
  },
  {
   "cell_type": "markdown",
   "id": "ff054404-d943-4a24-b812-4fd498fb3439",
   "metadata": {},
   "source": [
    "Les objectifs de la Métropole ne sont pas respectés en terme de diversité d'espèces botanique"
   ]
  },
  {
   "cell_type": "markdown",
   "id": "b759e97e-b6c9-4085-b3a9-19d2588ead42",
   "metadata": {},
   "source": [
    "## Evolution de la pratique de plantation au cours du temps"
   ]
  },
  {
   "cell_type": "markdown",
   "id": "55298440-6a33-4def-a2e2-37f0adb7c2f2",
   "metadata": {},
   "source": [
    "### Graphique du nombre d'espèces plantées en fonction du temps"
   ]
  },
  {
   "cell_type": "code",
   "execution_count": 32,
   "id": "b95f0a98-450e-4642-bf25-da242125c9c9",
   "metadata": {},
   "outputs": [],
   "source": [
    "y = df_tree[['ANNEEDEPLANTATION','GENRE_BOTA']].groupby(['ANNEEDEPLANTATION']).nunique()"
   ]
  },
  {
   "cell_type": "code",
   "execution_count": 33,
   "id": "6f2f1e48-4adb-4482-ab64-6d45bf9eb6b8",
   "metadata": {},
   "outputs": [
    {
     "data": {
      "image/png": "[encoded data removed]",
      "text/plain": [
       "<Figure size 432x288 with 1 Axes>"
      ]
     },
     "metadata": {
      "needs_background": "light"
     },
     "output_type": "display_data"
    }
   ],
   "source": [
    "plt.plot(y.index,y.values)\n",
    "plt.xlabel(\"Annnée de plantation\")\n",
    "plt.ylabel(\"Nombre de genre botanique différents plantés\")\n",
    "plt.show()"
   ]
  },
  {
   "cell_type": "code",
   "execution_count": 34,
   "id": "a16a71b3-5d98-4787-a443-e61c406e32a0",
   "metadata": {},
   "outputs": [
    {
     "data": {
      "image/png": "[encoded data removed]",
      "text/plain": [
       "<Figure size 432x288 with 1 Axes>"
      ]
     },
     "metadata": {
      "needs_background": "light"
     },
     "output_type": "display_data"
    }
   ],
   "source": [
    "y = df_tree[['ANNEEDEPLANTATION','GENRE_BOTA']].groupby(['ANNEEDEPLANTATION']).nunique()['GENRE_BOTA']\n",
    "plt.xlabel(\"Annnée de plantation\")\n",
    "plt.ylabel(\"Nombre de genre botanique différents plantés\")\n",
    "plt.bar(y.index,y.values)\n",
    "plt.show()"
   ]
  },
  {
   "cell_type": "markdown",
   "id": "0aa6ec6a-6362-4ac6-9a62-48cfb3855eb1",
   "metadata": {
    "tags": []
   },
   "source": [
    "### Calcul de l'indice de diversité de shannon pour les plantations de chaque année"
   ]
  },
  {
   "cell_type": "code",
   "execution_count": 35,
   "id": "8c83bf1e-7578-4f69-a716-48634458ae14",
   "metadata": {},
   "outputs": [
    {
     "data": {
      "text/plain": [
       "ANNEEDEPLANTATION  GENRE_BOTA   \n",
       "1950.0             Platanus         0.902844\n",
       "                   Tilia            0.066351\n",
       "                   Pterocarya       0.016588\n",
       "                   Aesculus         0.009479\n",
       "                   Ginkgo           0.002370\n",
       "                                      ...   \n",
       "2017.0             Chionanthus      0.004329\n",
       "                   Diospyros        0.004329\n",
       "                   Lagerstroemia    0.004329\n",
       "                   Picea            0.004329\n",
       "                   Ulmus            0.004329\n",
       "Name: GENRE_BOTA, Length: 1709, dtype: float64"
      ]
     },
     "execution_count": 35,
     "metadata": {},
     "output_type": "execute_result"
    }
   ],
   "source": [
    "shan = df_tree[['ANNEEDEPLANTATION','GENRE_BOTA']].groupby(['ANNEEDEPLANTATION'])['GENRE_BOTA'].value_counts(normalize=True)\n",
    "shan"
   ]
  },
  {
   "cell_type": "code",
   "execution_count": 36,
   "id": "f0069375-768d-41a8-bc5e-a6593c48c1f0",
   "metadata": {},
   "outputs": [],
   "source": [
    "shan = shan.mul(np.log(shan.values))"
   ]
  },
  {
   "cell_type": "code",
   "execution_count": 37,
   "id": "bb1f5519-c05b-4bb2-9563-649edbfdd5d6",
   "metadata": {},
   "outputs": [],
   "source": [
    "shan=shan.to_frame()"
   ]
  },
  {
   "cell_type": "code",
   "execution_count": 38,
   "id": "8bb8cfd9-f1bd-4e02-ad08-4f105495df27",
   "metadata": {},
   "outputs": [],
   "source": [
    "shan = shan.groupby('ANNEEDEPLANTATION').sum().mul(-1)"
   ]
  },
  {
   "cell_type": "code",
   "execution_count": 39,
   "id": "636989d9-126f-43d5-b7aa-ecf7dbbfa0df",
   "metadata": {},
   "outputs": [],
   "source": [
    "x = shan.index.get_level_values(0).unique()\n",
    "y = shan.values.reshape(len(shan))"
   ]
  },
  {
   "cell_type": "code",
   "execution_count": 40,
   "id": "83477ef8-ca84-4cbd-a200-0088b7ce1224",
   "metadata": {},
   "outputs": [
    {
     "data": {
      "image/png": "[encoded data removed]",
      "text/plain": [
       "<Figure size 432x288 with 1 Axes>"
      ]
     },
     "metadata": {
      "needs_background": "light"
     },
     "output_type": "display_data"
    }
   ],
   "source": [
    "plt.bar(x,y)\n",
    "plt.xlabel(\"Année de Plantation\")\n",
    "plt.ylabel(\"Indice de diversité de Shannon\")\n",
    "plt.show()"
   ]
  },
  {
   "cell_type": "markdown",
   "id": "a3c9ed36-a785-467d-b08b-712d1ebffdd3",
   "metadata": {},
   "source": [
    "## Identification essences invasives\n",
    "Selection des espèces invasives"
   ]
  },
  {
   "cell_type": "code",
   "execution_count": 41,
   "id": "8ef4b760-28da-4f73-87de-1f04129e35e1",
   "metadata": {},
   "outputs": [],
   "source": [
    "df_tree['GE']=df_tree['GENRE_BOTA']+ \" \" + df_tree['ESPECE']"
   ]
  },
  {
   "cell_type": "code",
   "execution_count": 42,
   "id": "314d6baa-c223-48ce-b6d3-25ba01398fe1",
   "metadata": {},
   "outputs": [],
   "source": [
    "## liste des essences indésirables\n",
    "li_invasive=['Ailanthus altissima','Robinia pseudoacacia','Acer negundo']"
   ]
  },
  {
   "cell_type": "code",
   "execution_count": 51,
   "id": "86e532d5-e49a-4ffb-b7eb-d42a4b8b399a",
   "metadata": {},
   "outputs": [
    {
     "name": "stdout",
     "output_type": "stream",
     "text": [
      "1.31 ms ± 17 µs per loop (mean ± std. dev. of 7 runs, 1000 loops each)\n"
     ]
    }
   ],
   "source": [
    "%%timeit\n",
    "df_tree['INDESIRABLE'] = np.isin(df_tree['GE'].values,li_invasive)"
   ]
  },
  {
   "cell_type": "code",
   "execution_count": 44,
   "id": "f4544026-5b33-4f39-9195-7a356d7ba0ed",
   "metadata": {},
   "outputs": [
    {
     "data": {
      "text/plain": [
       "False    30702\n",
       "True       541\n",
       "Name: INDESIRABLE, dtype: int64"
      ]
     },
     "execution_count": 44,
     "metadata": {},
     "output_type": "execute_result"
    }
   ],
   "source": [
    "df_tree['INDESIRABLE'].value_counts()"
   ]
  },
  {
   "cell_type": "code",
   "execution_count": 49,
   "id": "e37d710b-e80b-4909-8047-638e932e01fb",
   "metadata": {},
   "outputs": [
    {
     "name": "stdout",
     "output_type": "stream",
     "text": [
      "5.12 ms ± 91.8 µs per loop (mean ± std. dev. of 7 runs, 100 loops each)\n"
     ]
    }
   ],
   "source": [
    "df_tree['INDESIRABLE'] = [True if x in li_invasive else False for x in df_tree['GE']]"
   ]
  },
  {
   "cell_type": "code",
   "execution_count": 46,
   "id": "21be6085-45ea-48bd-9a5e-b3c3b4b60649",
   "metadata": {},
   "outputs": [],
   "source": [
    "x = df_tree['INDESIRABLE'].value_counts(normalize=True).mul(100).round(1)"
   ]
  },
  {
   "cell_type": "code",
   "execution_count": 47,
   "id": "b8f7149c-4583-47c5-8cda-e10f05706c4b",
   "metadata": {},
   "outputs": [
    {
     "data": {
      "image/png": "[encoded data removed]",
      "text/plain": [
       "<Figure size 432x288 with 1 Axes>"
      ]
     },
     "metadata": {},
     "output_type": "display_data"
    }
   ],
   "source": [
    "lab=['Non Invasif','Espèces invasives']\n",
    "plt.pie(x,labels=lab)\n",
    "plt.show()"
   ]
  },
  {
   "cell_type": "markdown",
   "id": "ca4dbeff-ef5b-4518-8e5a-0c44b80bc29f",
   "metadata": {},
   "source": [
    "## Quelle espèces planter pour ameliorer la diversification ?"
   ]
  },
  {
   "cell_type": "code",
   "execution_count": null,
   "id": "8e9dd18a-a42a-4c1a-9d35-ea947bb78af0",
   "metadata": {},
   "outputs": [],
   "source": []
  }
 ],
 "metadata": {
  "kernelspec": {
   "display_name": "Python 3 (ipykernel)",
   "language": "python",
   "name": "python3"
  },
  "language_info": {
   "codemirror_mode": {
    "name": "ipython",
    "version": 3
   },
   "file_extension": ".py",
   "mimetype": "text/x-python",
   "name": "python",
   "nbconvert_exporter": "python",
   "pygments_lexer": "ipython3",
   "version": "3.9.7"
  }
 },
 "nbformat": 4,
 "nbformat_minor": 5
}
